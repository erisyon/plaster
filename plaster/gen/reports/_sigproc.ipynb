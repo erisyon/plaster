{
 "cells": [
  {
   "cell_type": "code",
   "execution_count": null,
   "metadata": {},
   "outputs": [],
   "source": [
    "# TODO: REMOVE ME!\n",
    "from plaster.tools.ipynb_helpers.displays import restart_kernel; restart_kernel()"
   ]
  },
  {
   "cell_type": "code",
   "execution_count": null,
   "metadata": {},
   "outputs": [],
   "source": [
    "import os\n",
    "os.environ[\"MPLCONFIGDIR\"] = \"/tmp\""
   ]
  },
  {
   "cell_type": "code",
   "execution_count": null,
   "metadata": {},
   "outputs": [],
   "source": [
    "import cv2\n",
    "import itertools\n",
    "import numpy as np\n",
    "import os\n",
    "import pandas as pd\n",
    "import random\n",
    "from IPython.display import HTML, display\n",
    "from plaster.run.calib.calib import RegPSF, approximate_psf\n",
    "from plaster.run.job import JobResult\n",
    "from plaster.run.plots import plots, plots_dev\n",
    "from plaster.run.plots.plots_sigproc import plot_psfs, circle_locs, sigproc_v2_im, sigproc_v2_movie_from_df, sigproc_v2_im_from_df\n",
    "from plaster.run.plots.plots_sigproc import wizard_xy_df, wizard_scat_df, wizard_raw_images\n",
    "from plaster.run.run import RunResult\n",
    "from plaster.run.sigproc_v2 import sigproc_v2_worker as worker\n",
    "from plaster.run.sigproc_v2.sigproc_v2_result import df_filter, radmat_from_df_filter, df_to_radmat, mean_non_dark_asr\n",
    "from plaster.run.sigproc_v2.synth import Synth\n",
    "from plaster.tools.image import imops\n",
    "from plaster.tools.image.coord import WH, XY, roi_shift, clip2d\n",
    "from plaster.tools.ipynb_helpers.displays import hd, movie\n",
    "from plaster.tools.log.log import error, debug\n",
    "from plaster.tools.schema import check\n",
    "from plaster.tools.utils import data\n",
    "from plaster.tools.utils import utils\n",
    "from plaster.tools.zap import zap\n",
    "from plaster.tools.zplots import zplots\n",
    "from plaster.tools.ipynb_helpers import displays\n",
    "from plaster.run.sigproc_v2 import bg\n",
    "z = zplots.setup()"
   ]
  },
  {
   "cell_type": "code",
   "execution_count": null,
   "metadata": {},
   "outputs": [],
   "source": [
    "# REMOVE ME\n",
    "from plaster.run.base_result import disable_disk_memoize_from_notebook\n",
    "disable_disk_memoize_from_notebook()"
   ]
  },
  {
   "cell_type": "code",
   "execution_count": null,
   "metadata": {},
   "outputs": [],
   "source": [
    "job = JobResult.from_context(dev_override=\"/erisyon/internal/jobs_folder/abbe7_1t\")\n",
    "run = job.sigproc_v2"
   ]
  },
  {
   "cell_type": "code",
   "execution_count": null,
   "metadata": {},
   "outputs": [],
   "source": [
    "hd(\"h1\", f\"All-cycles movie: field=median_quality\")\n",
    "\n",
    "for ch_i in range(run.ims_import.n_channels):\n",
    "    hd(\"h2\", f\"Channel {ch_i}\")\n",
    "\n",
    "    qdf = run.ims_import.qualities()\n",
    "    qdf = qdf[(qdf.field_i < run.sigproc_v2.n_fields) & (qdf.channel_i == ch_i)]#.sort_values([\"quality\"])\n",
    "    mean_qdf = qdf.groupby(\"field_i\").mean().reset_index().sort_values(\"quality\")\n",
    "    median_fl_i = int(mean_qdf.iloc[len(mean_qdf) // 2].field_i.astype(int))\n",
    "\n",
    "    df = run.sigproc_v2.fields__n_peaks__peaks__radmat(fields=median_fl_i)\n",
    "    dark = run.sigproc_v2.dark_estimate(ch_i=0, fields=median_fl_i)\n",
    "    max_asr = run.sigproc_v2.asr_threshold()\n",
    "    filt_df = df_filter(df, dark=dark, max_aspect_ratio=max_asr)\n",
    "    sigproc_v2_movie_from_df(run, filt_df)"
   ]
  },
  {
   "cell_type": "code",
   "execution_count": null,
   "metadata": {},
   "outputs": [],
   "source": [
    "hd(\"h1\", f\"All-fields movie: cycle=0\")\n",
    "\n",
    "for ch_i in range(run.ims_import.n_channels):\n",
    "    hd(\"h2\", f\"Channel {ch_i}\")\n",
    "\n",
    "    ims = np.zeros((run.sigproc_v2.n_fields, run.ims_import.dim, run.ims_import.dim))\n",
    "    for fl_i in range(run.sigproc_v2.n_fields):\n",
    "        im = run.sigproc_v2.aln_ims[fl_i, ch_i, 0]\n",
    "        h, w = im.shape\n",
    "        ims[fl_i, 0:h, 0:w] = im\n",
    "\n",
    "    displays.movie(ims,\n",
    "        _labels=[\n",
    "            f\"fl_i:{fl_i} ch_i:{ch_i} cy_i: 0\"\n",
    "            for fl_i in range(run.sigproc_v2.n_fields)\n",
    "        ],\n",
    "        _duration=200,\n",
    "    )\n"
   ]
  },
  {
   "cell_type": "code",
   "execution_count": null,
   "metadata": {},
   "outputs": [],
   "source": [
    "\"\"\"\n",
    "Establishes “dark” mean and std.\n",
    "Per cycle\n",
    "Per field\n",
    "Per channel\n",
    "Foreground mean and std\n",
    "Low-frequency power\n",
    "A proxy for anomalies, oil bubbles, etc\n",
    "High-frequency power\n",
    "Should be a constant for a given camera\n",
    "Changes to this statistic probably imply major camera issues \n",
    "\"\"\""
   ]
  },
  {
   "cell_type": "code",
   "execution_count": null,
   "metadata": {},
   "outputs": [],
   "source": [
    "n_cycles = run.ims_import.n_cycles\n",
    "\n",
    "hd(\"h1\", f\"Pixel intensity percentiles=(0, 25, 50, 75, 99)<br/>over cycles, combining 5 random fields\")\n",
    "for ch_i in range(run.ims_import.n_channels):\n",
    "    hd(\"h2\", f\"Channel {ch_i}\")\n",
    "\n",
    "    n_samples = 10000\n",
    "    bg_samps = np.zeros((n_cycles, n_samples))\n",
    "    fg_samps = np.zeros((n_cycles, n_samples))\n",
    "    idx = np.arange(run.ims_import.dim**2)\n",
    "    cy_labels = [f\"cy {cy_i}\" for cy_i in range(n_cycles)]\n",
    "    for fl_i in utils.ispace(0, run.ims_import.n_fields, 5):\n",
    "        for cy_i in range(n_cycles):\n",
    "            im = run.ims_import.ims[fl_i, ch_i, cy_i]\n",
    "            bg_im, fg_mask = bg.background_extract(im, approximate_psf(), dilate=0)\n",
    "            _idx = data.subsample(idx[fg_mask.flatten()], n_samples)\n",
    "            bg_samps[cy_i, :] = data.subsample(bg_im.flatten(), n_samples)\n",
    "            fg_samps[cy_i, :] = im.flatten()[_idx]\n",
    "\n",
    "    with z(_cols=3):\n",
    "        z.distr(bg_samps, _vertical=500.0, _percentiles=(0, 25, 50, 75, 99), f_x_axis_label=\"Intensity\", f_y_axis_label=\"Cycle\", f_title=\"background pixels only\")\n",
    "        z.distr(fg_samps, _vertical=500.0, _percentiles=(0, 25, 50, 75, 99), f_x_axis_label=\"Intensity\", f_y_axis_label=\"Cycle\", f_title=\"foreground pixels only\")\n",
    "    \n",
    "        bg_medians = np.nanmedian(bg_samps, axis=1)\n",
    "        fg_medians = np.nanmedian(fg_samps, axis=1)\n",
    "        z.scat(\n",
    "            x=fg_medians,\n",
    "            y=bg_medians,\n",
    "            f_x_axis_label=\"FG Med. Inentsity\", f_y_axis_label=\"BG Med. Inentsity\",\n",
    "            _label=cy_labels\n",
    "        )\n",
    "    "
   ]
  },
  {
   "cell_type": "code",
   "execution_count": null,
   "metadata": {},
   "outputs": [],
   "source": []
  },
  {
   "cell_type": "code",
   "execution_count": null,
   "metadata": {},
   "outputs": [],
   "source": [
    "# hd(\"h1\", f\"Calibration\")\n",
    "# if \"calibration\" not in run.sigproc_v2.params:\n",
    "#     print(\"No calibration was provded to this run\")\n",
    "# else:\n",
    "#     for ch_i in range(run.ims_import.n_channels):\n",
    "#         hd(\"h2\", f\"Channel {ch_i}\")\n",
    "\n",
    "#         # Regional PSF\n",
    "#         reg_psf = run.sigproc_v2.params.calibration.reg_psf(ch_i=ch_i)\n",
    "#         check.t(reg_psf, RegPSF)\n",
    "#         psf_ims = reg_psf.render()\n",
    "#         plot_psfs(psf_ims, scale=3.0, f_title=f\"ch_i={ch_i}\", _noaxes=True, _notools=True)\n",
    "\n",
    "#         # Regional illumination balance\n",
    "#         illum = run.sigproc_v2.params.calibration.reg_illum().interp(ch_i)\n",
    "#         z.im(1.0 / illum, f_title=\"Illumination map\")\n"
   ]
  },
  {
   "cell_type": "code",
   "execution_count": null,
   "metadata": {},
   "outputs": [],
   "source": [
    "# hd(\"h1\", f\"Field Quality\")\n",
    "# for ch_i in range(run.ims_import.n_channels):\n",
    "#     hd(\"h2\", f\"Channel {ch_i}\")\n",
    "#     qdf = run.ims_import.qualities()\n",
    "#     qdf = qdf[(qdf.field_i < run.sigproc_v2.n_fields) & (qdf.channel_i == ch_i)].sort_values([\"quality\"])\n",
    "#     z.hist(qdf.quality, _size_x=800, _size_y=150, f_title=f\"Quality distribution channel {ch_i}\")\n",
    "\n",
    "#     row_iz = utils.ispace(0, len(qdf), 3)\n",
    "\n",
    "#     # COMBINE all images for common percentile calculations\n",
    "#     ims = np.concatenate([\n",
    "#         run.sigproc_v2.aln_ims[row.field_i, row.channel_i, row.cycle_i].flatten()\n",
    "#         for row in qdf.iloc[row_iz].itertuples()\n",
    "#     ])\n",
    "#     bot, top = np.percentile(ims, (50, 99))\n",
    "\n",
    "#     # SHOW example of worst, median, and best all using the same cspan\n",
    "#     hd(\"h3\", f\"Examples of frames by quality\")\n",
    "#     with z(_cols=3, _cspan=(bot, top)):\n",
    "#         names = (\"worst\", \"median\", \"best\")\n",
    "#         for name, row in zip(names, qdf.iloc[row_iz].itertuples()):\n",
    "#             z.im(run.sigproc_v2.aln_ims[row.field_i, row.channel_i, row.cycle_i], f_title=f\"Channel: {ch_i} {name}\")"
   ]
  },
  {
   "cell_type": "code",
   "execution_count": null,
   "metadata": {},
   "outputs": [],
   "source": [
    "# hd(\"h1\", f\"Field Alignment\")\n",
    "# field_df = run.sigproc_v2.fields().copy()\n",
    "# field_df[\"alignment\"] = np.sqrt(field_df.aln_x**2 + field_df.aln_y**2)\n",
    "# alignment = field_df.groupby(\"field_i\").alignment.max().values\n",
    "# z.cols(alignment, f_x_axis_label=\"field_i\", f_y_axis_label=\"n_pixels\", f_title=\"Max. alignment dist.\")"
   ]
  },
  {
   "cell_type": "code",
   "execution_count": null,
   "metadata": {},
   "outputs": [],
   "source": []
  }
 ],
 "metadata": {
  "kernelspec": {
   "display_name": "Python 3",
   "language": "python",
   "name": "python3"
  },
  "language_info": {
   "codemirror_mode": {
    "name": "ipython",
    "version": 3
   },
   "file_extension": ".py",
   "mimetype": "text/x-python",
   "name": "python",
   "nbconvert_exporter": "python",
   "pygments_lexer": "ipython3",
   "version": "3.8.5"
  }
 },
 "nbformat": 4,
 "nbformat_minor": 4
}
