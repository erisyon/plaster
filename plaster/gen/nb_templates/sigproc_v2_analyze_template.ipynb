{
 "cells": [
  {
   "cell_type": "code",
   "execution_count": null,
   "metadata": {},
   "outputs": [],
   "source": [
    "# @REMOVE-FROM-TEMPLATE\n",
    "from plaster.tools.ipynb_helpers.displays import restart_kernel; restart_kernel()"
   ]
  },
  {
   "cell_type": "code",
   "execution_count": null,
   "metadata": {},
   "outputs": [],
   "source": [
    "# @IMPORT-MERGE\n",
    "import os\n",
    "os.environ[\"MPLCONFIGDIR\"] = \"/tmp\"\n",
    "import numpy as np\n",
    "import pandas as pd\n",
    "import itertools\n",
    "import cv2\n",
    "import random\n",
    "from IPython.display import HTML, display\n",
    "from plaster.tools.log.log import error, debug\n",
    "from plaster.run.job import JobResult\n",
    "from plaster.run.run import RunResult\n",
    "from plaster.run.sigproc_v2 import sigproc_v2_worker as worker\n",
    "from plaster.run.sigproc_v2.sigproc_v2_result import df_filter, radmat_from_df_filter, df_to_radmat\n",
    "from plaster.run.plots import plots, plots_dev\n",
    "from plaster.run.plots.plots_sigproc import plot_psfs, circle_locs, sigproc_v2_im\n",
    "from plaster.run.sigproc_v2.synth import Synth\n",
    "from plaster.tools.image.coord import WH, XY, roi_shift, clip2d\n",
    "from plaster.tools.utils import data\n",
    "from plaster.tools.zplots import zplots\n",
    "from plaster.tools.schema import check\n",
    "from plaster.tools.image import imops\n",
    "from plaster.tools.zap import zap\n",
    "from plaster.tools.utils import utils\n",
    "from plaster.tools.utils import data\n",
    "from plaster.tools.calibration.calibration import Calibration\n",
    "from plaster.tools.ipynb_helpers.displays import hd, movie\n",
    "z = zplots.setup()"
   ]
  },
  {
   "cell_type": "code",
   "execution_count": null,
   "metadata": {},
   "outputs": [],
   "source": [
    "# @REMOVE-FROM-TEMPLATE\n",
    "from plumbum import local\n",
    "job = JobResult(\"/erisyon/internal/jobs_folder/abbe8_2t\")\n",
    "run = job.runs[0]\n",
    "n_channels = run.sigproc_v2.n_channels\n",
    "n_cycles = run.sigproc_v2.n_cycles"
   ]
  },
  {
   "cell_type": "markdown",
   "metadata": {},
   "source": [
    "# Calibration"
   ]
  },
  {
   "cell_type": "code",
   "execution_count": null,
   "metadata": {},
   "outputs": [],
   "source": [
    "# Show Calibration information\n",
    "for ch_i in range(run.ims_import.n_channels):\n",
    "    hd(\"h2\", f\"Channel {ch_i}\")\n",
    "    psfs = run.sigproc_v2.params.calibration.psfs(ch_i=ch_i)\n",
    "\n",
    "    with z(_noaxes=True):\n",
    "        display(\"Below:\")\n",
    "        with z(_cols=6):\n",
    "            n_zs = psfs.shape[0]\n",
    "            for z_i in range(0, n_zs // 2):\n",
    "                plot_psfs(psfs[z_i], scale=2.0, f_title=f\"ch_i={ch_i}, z_i={z_i}\", _zplots_context=z)\n",
    "\n",
    "        display(\"Most in Focus:\")\n",
    "        z_i = n_zs // 2\n",
    "        plot_psfs(psfs[z_i], scale=2.0, f_title=f\"ch_i={ch_i}, z_i={z_i}\", _zplots_context=z, _noaxes=True, _notools=True)\n",
    "\n",
    "        display(\"Above:\")\n",
    "        with z(_cols=6):\n",
    "            for z_i in range(n_zs // 2 + 1, n_zs):\n",
    "                plot_psfs(psfs[z_i], scale=2.0, f_title=f\"ch_i={ch_i}, z_i={z_i}\", _zplots_context=z)\n",
    "                \n",
    "    # Show the Calibration illumination balance\n",
    "    illum = np.array(run.sigproc_v2.params.calibration[f\"regional_illumination_balance.instrument_channel[{ch_i}]\"])\n",
    "    z.im(1.0 / illum, f_title=\"Illumination map\")"
   ]
  },
  {
   "cell_type": "markdown",
   "metadata": {},
   "source": [
    "# Quality"
   ]
  },
  {
   "cell_type": "code",
   "execution_count": null,
   "metadata": {},
   "outputs": [],
   "source": [
    "for ch_i in range(run.ims_import.n_channels):\n",
    "    hd(\"h2\", f\"Channel {ch_i}\")\n",
    "    qdf = run.ims_import.qualities()\n",
    "    quality = qdf[qdf.channel_i == ch_i].sort_values([\"quality\"])\n",
    "    z.hist(quality.quality, _size_x=800, _size_y=150, f_title=f\"Quality distribution channel {ch_i}\")\n",
    "\n",
    "    row_iz = utils.ispace(0, len(qdf), 3)\n",
    "\n",
    "    # COMBINE all images for common percentile calculations\n",
    "    ims = np.concatenate([\n",
    "        run.sigproc_v2.aln_ims[row.field_i, row.channel_i, row.cycle_i].flatten()\n",
    "        for row in qdf.iloc[row_iz].itertuples()\n",
    "    ])\n",
    "    bot, top = np.percentile(ims, (50, 99.99))\n",
    "\n",
    "    # SHOW example of worst, median, and best all using the same cspan\n",
    "    hd(\"h3\", f\"Examples of frames by quality\")\n",
    "    with z(_cols=3, _cspan=(bot, top)):\n",
    "        names = (\"worst\", \"median\", \"best\")\n",
    "        for name, row in zip(names, qdf.iloc[row_iz].itertuples()):\n",
    "            z.im(run.sigproc_v2.aln_ims[row.field_i, row.channel_i, row.cycle_i], f_title=f\"Channel: {ch_i} {name}\")            "
   ]
  },
  {
   "cell_type": "markdown",
   "metadata": {},
   "source": [
    "# Alignment"
   ]
  },
  {
   "cell_type": "code",
   "execution_count": null,
   "metadata": {},
   "outputs": [],
   "source": [
    "field_df = run.sigproc_v2.fields().copy()\n",
    "field_df[\"alignment\"] = np.sqrt(field_df.aln_x**2 + field_df.aln_y**2)\n",
    "alignment = field_df.groupby(\"field_i\").alignment.max().values\n",
    "z.cols(alignment, f_x_axis_label=\"field_i\", f_y_axis_label=\"n_pixels\", f_title=\"Max. alignment dist.\")\n",
    "good_field_iz = np.argwhere(alignment < 50)"
   ]
  },
  {
   "cell_type": "markdown",
   "metadata": {},
   "source": [
    "# Filters"
   ]
  },
  {
   "cell_type": "code",
   "execution_count": null,
   "metadata": {},
   "outputs": [],
   "source": [
    "df = run.sigproc_v2.fields__n_peaks__peaks__radmat()\n",
    "filt_df = df_filter(df, fields=good_field_iz)"
   ]
  },
  {
   "cell_type": "markdown",
   "metadata": {},
   "source": [
    "# SNR"
   ]
  },
  {
   "cell_type": "code",
   "execution_count": null,
   "metadata": {},
   "outputs": [],
   "source": [
    "with z(_cols=4):\n",
    "    snr = df_to_radmat(filt_df, radmat_field=\"snr\")\n",
    "    top = np.percentile(snr, 97)\n",
    "    \n",
    "    for ch_i in range(run.ims_import.n_channels):\n",
    "        z.hist(\n",
    "            snr[:, ch_i, :], _bins=(0, top, 200),\n",
    "            f_y_axis_label=\"count\", f_x_axis_label=\"SNR\",\n",
    "            f_title=f\"SNR distribution ch_i={ch_i}\"\n",
    "        )"
   ]
  },
  {
   "cell_type": "code",
   "execution_count": null,
   "metadata": {},
   "outputs": [],
   "source": [
    "a = filt_df.groupby(\"field_i\").mean()[[\"snr\"]]\n",
    "b = pd.DataFrame(dict(field_i=np.arange(225))).set_index(\"field_i\")\n",
    "z.cols(a.join(b, how=\"right\").values.flatten(), _size_x=800, f_title=\"Mean SNR by field\")"
   ]
  },
  {
   "cell_type": "markdown",
   "metadata": {},
   "source": [
    "# Unfiltered signal by field"
   ]
  },
  {
   "cell_type": "code",
   "execution_count": null,
   "metadata": {},
   "outputs": [],
   "source": [
    "for ch_i in range(run.ims_import.n_channels):\n",
    "    hd(\"h2\", f\"Unfiltered Channel {ch_i}\")\n",
    "\n",
    "    sig = df_to_radmat(df, channel_i=ch_i)\n",
    "    \n",
    "    _df = df.groupby([\"field_i\", \"cycle_i\"]).signal.mean().reset_index()\n",
    "    sig_by_field_cycle = (\n",
    "        pd.pivot_table(\n",
    "            _df, values=\"signal\", index=\"field_i\", columns=[\"cycle_i\"]\n",
    "        )\n",
    "        .reset_index()\n",
    "        .rename_axis(None, axis=1)\n",
    "        .drop(columns=\"field_i\")\n",
    "    ).values\n",
    "\n",
    "    top = np.percentile(sig, 99)\n",
    "\n",
    "    with z(_cols=3):\n",
    "        z.hist(\n",
    "            sig, _bins=(0, top, 200),\n",
    "            f_y_axis_label=\"count\", f_x_axis_label=\"Signal\",\n",
    "            f_title=f\"Signal distribution (all fields)\"\n",
    "        )\n",
    "        z.im_clus(\n",
    "            sig_by_field_cycle,\n",
    "            f_y_axis_label=\"field_i\", f_x_axis_label=\"cycle_i\",\n",
    "            f_title=f\"Mean sig. by field and cycle\",\n",
    "            _cspan=(0, top),\n",
    "        )\n",
    "\n",
    "        z.im_clus(sig, _cspan=(0, top), f_title=f\"radmat sample\")"
   ]
  },
  {
   "cell_type": "markdown",
   "metadata": {},
   "source": [
    "# Unfiltered signal by cycle"
   ]
  },
  {
   "cell_type": "code",
   "execution_count": null,
   "metadata": {},
   "outputs": [],
   "source": [
    "for ch_i in range(run.ims_import.n_channels):\n",
    "    hd(\"h2\", f\"Channel {ch_i}\")\n",
    "\n",
    "    sig = run.sigproc_v2.sig()[:, ch_i, :]\n",
    "    center = np.median(sig[:, 0])\n",
    "    n_cycles = run.sigproc_v2.n_cycles\n",
    "    max_x = np.percentile(sig, 99)\n",
    "    bins = np.linspace(-1000, max_x, 200)\n",
    "    _hist, _ = np.histogram(sig[:, 0], bins=bins)\n",
    "    max_y = np.max(_hist)\n",
    "    with z(_cols=5, _size=180, _noaxes=True, _bins=bins, _range=(0, max_x, 0, max_y*1.2)):\n",
    "        for cy_i in range(n_cycles):\n",
    "            _sig = sig[:, cy_i].flatten()\n",
    "            with z(_merge=True, f_title=f\"cy_i={cy_i}\"):\n",
    "                z.hist(_sig)\n",
    "                z.line(x=[center, center], y=[0, max_y], color=\"red\")\n",
    "                z.line(x=[0, 0], y=[0, max_y], color=\"black\")\n"
   ]
  },
  {
   "cell_type": "markdown",
   "metadata": {},
   "source": [
    "# Image Visualization"
   ]
  },
  {
   "cell_type": "code",
   "execution_count": null,
   "metadata": {},
   "outputs": [],
   "source": [
    "# Pick a peak_filter set with df_filter\n",
    "#filt_df = df_filter(df, fields=good_field_iz, dark=1500, on_through_cy_i=10, off_at_cy_i=59)\n",
    "filt_df = df_filter(df, fields=good_field_iz, min_aspect_ratio=1.2, dark=1500, on_through_cy_i=2)\n",
    "filt_df"
   ]
  },
  {
   "cell_type": "code",
   "execution_count": null,
   "metadata": {},
   "outputs": [],
   "source": [
    "def sigproc_v2_movie_on_peaks(df, channel_i=0, field_i=None):\n",
    "    \"\"\"\n",
    "    If field_i is None then it is enforced that all peaks in the df must come form one field\n",
    "    \"\"\"\n",
    "    if field_i is not None:\n",
    "        df = df[df.field_i == field_i]\n",
    "        \n",
    "    assert df.field_i.nunique() == 1\n",
    "    field_i = df.field_i[0]\n",
    "    \n",
    "    ims = run.sigproc_v2.aln_ims[field_i, channel_i, :]\n",
    "\n",
    "    overlay = np.zeros((ims.shape[-2:]), dtype=np.uint8)\n",
    "    locs = df[[\"aln_y\", \"aln_x\"]].drop_duplicates().values\n",
    "    overlay = 255 * circle_locs(overlay, locs, fill_mode=\"one\", inner_radius=4, outer_radius=5).astype(np.uint8)\n",
    "\n",
    "    movie(ims, overlay, _cper=(50, 99.9), _duration=1, _labels=[\n",
    "        f\"aligned & balanced fl_i:{field_i} ch_i:{channel_i} cy_i: {cy_i}\"\n",
    "        for cy_i in range(ims.shape[0])\n",
    "    ])\n",
    "\n",
    "\n",
    "sigproc_v2_movie_on_peaks(filt_df, field_i=0)\n"
   ]
  },
  {
   "cell_type": "code",
   "execution_count": null,
   "metadata": {},
   "outputs": [],
   "source": [
    "# View a field, channel, cycle with roll-over properties for debugging\n",
    "\n",
    "# Change this line to select a different (field, channel, cycle) to view:\n",
    "field_channel_cycle = (0, 0, 0)\n",
    "\n",
    "mea = run.ims_import.dim\n",
    "sigproc_v2_im(run, *field_channel_cycle, _size=max(800,mea), _range=(0, mea, 0, mea))\n",
    "\n",
    "# TODO MAKE A FILT_DF VERSION OF THIS"
   ]
  },
  {
   "cell_type": "markdown",
   "metadata": {},
   "source": [
    "# Wizards"
   ]
  },
  {
   "cell_type": "code",
   "execution_count": null,
   "metadata": {},
   "outputs": [],
   "source": [
    "plots.wizard_scat_df(run, channel_i=0)"
   ]
  },
  {
   "cell_type": "code",
   "execution_count": null,
   "metadata": {},
   "outputs": [],
   "source": [
    "plots.wizard_xy_df(run, channel_i=0)"
   ]
  },
  {
   "cell_type": "code",
   "execution_count": null,
   "metadata": {},
   "outputs": [],
   "source": [
    "plots.wizard_raw_images(run, show_circles=False, peak_i_square=True, square_radius=7)"
   ]
  },
  {
   "cell_type": "code",
   "execution_count": null,
   "metadata": {},
   "outputs": [],
   "source": []
  }
 ],
 "metadata": {
  "kernelspec": {
   "display_name": "Python 3",
   "language": "python",
   "name": "python3"
  },
  "language_info": {
   "codemirror_mode": {
    "name": "ipython",
    "version": 3
   },
   "file_extension": ".py",
   "mimetype": "text/x-python",
   "name": "python",
   "nbconvert_exporter": "python",
   "pygments_lexer": "ipython3",
   "version": "3.8.5"
  }
 },
 "nbformat": 4,
 "nbformat_minor": 2
}
