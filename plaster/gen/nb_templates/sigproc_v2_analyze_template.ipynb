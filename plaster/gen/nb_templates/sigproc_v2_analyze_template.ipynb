{
 "cells": [
  {
   "cell_type": "code",
   "execution_count": null,
   "metadata": {},
   "outputs": [],
   "source": [
    "# @REMOVE-FROM-TEMPLATE\n",
    "from plaster.tools.ipynb_helpers.displays import restart_kernel; restart_kernel()"
   ]
  },
  {
   "cell_type": "code",
   "execution_count": null,
   "metadata": {},
   "outputs": [],
   "source": [
    "# @IMPORT-MERGE\n",
    "import os\n",
    "os.environ[\"MPLCONFIGDIR\"] = \"/tmp\"\n",
    "import numpy as np\n",
    "import pandas as pd\n",
    "import itertools\n",
    "import cv2\n",
    "from plaster.tools.log.log import error, debug\n",
    "from plaster.run.job import JobResult\n",
    "from plaster.run.run import RunResult\n",
    "from plaster.run.sigproc_v2 import sigproc_v2_worker as worker\n",
    "from plaster.run.sigproc_v2.sigproc_v2_result import sig_from_df_filter\n",
    "from plaster.run.plots import plots, plots_dev\n",
    "from plaster.run.sigproc_v2.synth import Synth\n",
    "from plaster.tools.image.coord import WH, XY, roi_shift, clip2d\n",
    "from plaster.tools.utils import data\n",
    "from plaster.tools.zplots import zplots\n",
    "from plaster.tools.schema import check\n",
    "from plaster.tools.image import imops\n",
    "from plaster.tools.zap import zap\n",
    "from plaster.tools.utils import utils\n",
    "from plaster.tools.utils import data\n",
    "from plaster.tools.calibration.calibration import Calibration\n",
    "from plaster.tools.ipynb_helpers.displays import hd\n",
    "z = zplots.setup()"
   ]
  },
  {
   "cell_type": "code",
   "execution_count": null,
   "metadata": {},
   "outputs": [],
   "source": [
    "# @REMOVE-FROM-TEMPLATE\n",
    "from plumbum import local\n",
    "job = JobResult(\"/erisyon/internal/jobs_folder/abbe5_1t\")\n",
    "run = job.runs[0]"
   ]
  },
  {
   "cell_type": "markdown",
   "metadata": {},
   "source": [
    "# Calibration"
   ]
  },
  {
   "cell_type": "code",
   "execution_count": null,
   "metadata": {},
   "outputs": [],
   "source": [
    "# Show Calibration information\n",
    "for ch_i in range(run.ims_import.n_channels):\n",
    "    hd(\"h2\", f\"Channel {ch_i}\")\n",
    "    psfs = run.sigproc_v2.params.calibration.psfs(ch_i=ch_i)\n",
    "\n",
    "    with z(_noaxes=True):\n",
    "        display(\"Below:\")\n",
    "        with z(_cols=6):\n",
    "            n_zs = psfs.shape[0]\n",
    "            for z_i in range(0, n_zs // 2):\n",
    "                plots_dev.plot_psfs(psfs[z_i], scale=2.0, f_title=f\"ch_i={ch_i}, z_i={z_i}\", _zplots_context=z)\n",
    "\n",
    "        display(\"Most in Focus:\")\n",
    "        z_i = n_zs // 2\n",
    "        plots_dev.plot_psfs(psfs[z_i], scale=2.0, f_title=f\"ch_i={ch_i}, z_i={z_i}\", _zplots_context=z, _noaxes=True, _notools=True)\n",
    "\n",
    "        display(\"Above:\")\n",
    "        with z(_cols=6):\n",
    "            for z_i in range(n_zs // 2 + 1, n_zs):\n",
    "                plots_dev.plot_psfs(psfs[z_i], scale=2.0, f_title=f\"ch_i={ch_i}, z_i={z_i}\", _zplots_context=z)\n",
    "                \n",
    "    # Show the Calibration illumination balance\n",
    "    illum = np.array(run.sigproc_v2.params.calibration[f\"regional_illumination_balance.instrument_channel[{ch_i}]\"])\n",
    "    z.im(1.0 / illum, f_title=\"Illuminati\")"
   ]
  },
  {
   "cell_type": "markdown",
   "metadata": {},
   "source": [
    "# Quality"
   ]
  },
  {
   "cell_type": "code",
   "execution_count": null,
   "metadata": {},
   "outputs": [],
   "source": [
    "for ch_i in range(run.ims_import.n_channels):\n",
    "    hd(\"h2\", f\"Channel {ch_i}\")\n",
    "    qdf = run.ims_import.qualities()\n",
    "    quality = qdf[qdf.channel_i == ch_i].sort_values([\"quality\"])\n",
    "    z.hist(quality.quality, _size_x=800, _size_y=150, f_title=f\"Quality distribution channel {ch_i}\")\n",
    "\n",
    "    row_iz = utils.ispace(0, len(qdf), 3)\n",
    "\n",
    "    # COMBINE all images for common percentile calculations\n",
    "    ims = np.concatenate([\n",
    "        run.sigproc_v2.aln_ims[row.field_i, row.channel_i, row.cycle_i].flatten()\n",
    "        for row in qdf.iloc[row_iz].itertuples()\n",
    "    ])\n",
    "    bot, top = np.percentile(ims, (50, 99))\n",
    "\n",
    "    # SHOW example of worst, median, and best all using the same cspan\n",
    "    with z(_cols=3, _cspan=(bot, top)):\n",
    "        names = (\"worst\", \"median\", \"best\")\n",
    "        for name, row in zip(names, qdf.iloc[row_iz].itertuples()):\n",
    "            z.im(run.sigproc_v2.aln_ims[row.field_i, row.channel_i, row.cycle_i], f_title=f\"Channel: {ch_i} {name}\")            "
   ]
  },
  {
   "cell_type": "markdown",
   "metadata": {},
   "source": [
    "# Alignment"
   ]
  },
  {
   "cell_type": "code",
   "execution_count": null,
   "metadata": {},
   "outputs": [],
   "source": [
    "field_df = run.sigproc_v2.fields().copy()\n",
    "field_df[\"align\"] = np.sqrt(field_df.aln_x**2 + field_df.aln_y**2)\n",
    "alignment = field_df.groupby(\"field_i\").align.max().values\n",
    "z.cols(alignment, f_x_axis_label=\"field_i\", f_y_axis_label=\"n_pixels\", f_title=\"Max. alignment dist.\")"
   ]
  },
  {
   "cell_type": "markdown",
   "metadata": {},
   "source": [
    "# SNR"
   ]
  },
  {
   "cell_type": "code",
   "execution_count": null,
   "metadata": {},
   "outputs": [],
   "source": [
    "df = run.sigproc_v2.fields__n_peaks__peaks__radmat()"
   ]
  },
  {
   "cell_type": "code",
   "execution_count": null,
   "metadata": {},
   "outputs": [],
   "source": [
    "for ch_i in range(run.ims_import.n_channels):\n",
    "    hd(\"h2\", f\"Channel {ch_i}\")\n",
    "    snr = run.sigproc_v2.snr()[:, ch_i, :]\n",
    "    _df = df.groupby([\"field_i\", \"cycle_i\"]).snr.mean().reset_index()\n",
    "    snr_by_field_cycle = (\n",
    "        pd.pivot_table(\n",
    "            _df, values=\"snr\", index=\"field_i\", columns=[\"cycle_i\"]\n",
    "        )\n",
    "        .reset_index()\n",
    "        .rename_axis(None, axis=1)\n",
    "        .drop(columns=\"field_i\")\n",
    "    ).values\n",
    "\n",
    "    with z(_cols=2):\n",
    "        z.hist(\n",
    "            snr, _bins=(0, 100, 100),\n",
    "            f_y_axis_label=\"count\", f_x_axis_label=\"SNR\",\n",
    "            f_title=f\"SNR distribution ch_i={ch_i}\"\n",
    "        )\n",
    "        z.im_clus(\n",
    "            snr_by_field_cycle,\n",
    "            f_y_axis_label=\"field_i\", f_x_axis_label=\"cycle_i\",\n",
    "            f_title=f\"Mean SNR by field and cycle ch_i={ch_i}\"\n",
    "        )\n",
    "    \n"
   ]
  },
  {
   "cell_type": "markdown",
   "metadata": {},
   "source": [
    "# Signal"
   ]
  },
  {
   "cell_type": "code",
   "execution_count": null,
   "metadata": {},
   "outputs": [],
   "source": [
    "for ch_i in range(run.ims_import.n_channels):\n",
    "    hd(\"h2\", f\"Channel {ch_i}\")\n",
    "\n",
    "    sig = run.sigproc_v2.sig()[:, ch_i, :]\n",
    "    _df = df.groupby([\"field_i\", \"cycle_i\"]).signal.mean().reset_index()\n",
    "    sig_by_field_cycle = (\n",
    "        pd.pivot_table(\n",
    "            _df, values=\"signal\", index=\"field_i\", columns=[\"cycle_i\"]\n",
    "        )\n",
    "        .reset_index()\n",
    "        .rename_axis(None, axis=1)\n",
    "        .drop(columns=\"field_i\")\n",
    "    ).values\n",
    "\n",
    "    top = np.percentile(sig, 97)\n",
    "\n",
    "    with z(_cols=2):\n",
    "        z.hist(\n",
    "            sig, _bins=(0, top, 100),\n",
    "            f_y_axis_label=\"count\", f_x_axis_label=\"Signal\",\n",
    "            f_title=f\"Signal distribution ch_i={ch_i}\"\n",
    "        )\n",
    "        z.im_clus(\n",
    "            sig_by_field_cycle,\n",
    "            f_y_axis_label=\"field_i\", f_x_axis_label=\"cycle_i\",\n",
    "            f_title=f\"Mean Sig by field and cycle ch_i={ch_i}\",\n",
    "            _cspan=(0, top),\n",
    "        )\n",
    "\n",
    "    z.im_clus(sig, _cspan=(0, top), f_title=f\"radmat sample ch_i={ch_i}\")"
   ]
  },
  {
   "cell_type": "code",
   "execution_count": null,
   "metadata": {},
   "outputs": [],
   "source": [
    "# Histograms by cycle\n",
    "for ch_i in range(run.ims_import.n_channels):\n",
    "    hd(\"h2\", f\"Channel {ch_i}\")\n",
    "\n",
    "    sig = run.sigproc_v2.sig()[:, ch_i, 0].flatten()\n",
    "    center = np.median(sig)  #5_000  # This is a reference line, move it around as you want\n",
    "    n_cycles = run.sigproc_v2.n_cycles\n",
    "    max_x = np.percentile(sig, 97)\n",
    "    bins = np.linspace(0, max_x, 100)\n",
    "    _hist, _ = np.histogram(sig, bins=bins)\n",
    "    max_y = np.max(_hist)\n",
    "    with z(_cols=3, _size=250, _bins=bins, _range=(0, max_x, 0, max_y*1.5)):\n",
    "        for cy_i in range(n_cycles):\n",
    "            sig = run.sigproc_v2.sig()[:, ch_i, cy_i].flatten()\n",
    "            with z(_merge=True, f_title=f\"cy_i={cy_i}\"):\n",
    "                z.hist(sig)\n",
    "                z.line(x=[center, center], y=[0, max_y], color=\"red\")\n"
   ]
  },
  {
   "cell_type": "markdown",
   "metadata": {},
   "source": [
    "# Image Visualization"
   ]
  },
  {
   "cell_type": "code",
   "execution_count": null,
   "metadata": {},
   "outputs": [],
   "source": [
    "# View a field, channel, cycle with roll-over properties for debugging\n",
    "\n",
    "# Change this line to select a different (field, channel, cycle) to view:\n",
    "field_channel_cycle = (0, 0, 0)\n",
    "\n",
    "plots_dev.sigproc_v2_im(run, *field_channel_cycle, _full=True)\n"
   ]
  },
  {
   "cell_type": "markdown",
   "metadata": {},
   "source": [
    "# Wizards"
   ]
  },
  {
   "cell_type": "code",
   "execution_count": null,
   "metadata": {},
   "outputs": [],
   "source": [
    "plots.wizard_scat_df(run, channel_i=0)"
   ]
  },
  {
   "cell_type": "code",
   "execution_count": null,
   "metadata": {},
   "outputs": [],
   "source": [
    "plots.wizard_xy_df(run, channel_i=0)"
   ]
  },
  {
   "cell_type": "code",
   "execution_count": null,
   "metadata": {},
   "outputs": [],
   "source": [
    "plots.wizard_raw_images(run, show_circles=False, peak_i_square=True, square_radius=7)"
   ]
  },
  {
   "cell_type": "code",
   "execution_count": null,
   "metadata": {},
   "outputs": [],
   "source": []
  }
 ],
 "metadata": {
  "kernelspec": {
   "display_name": "Python 3",
   "language": "python",
   "name": "python3"
  },
  "language_info": {
   "codemirror_mode": {
    "name": "ipython",
    "version": 3
   },
   "file_extension": ".py",
   "mimetype": "text/x-python",
   "name": "python",
   "nbconvert_exporter": "python",
   "pygments_lexer": "ipython3",
   "version": "3.8.2"
  }
 },
 "nbformat": 4,
 "nbformat_minor": 2
}
