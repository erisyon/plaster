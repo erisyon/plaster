{
 "cells": [
  {
   "cell_type": "code",
   "execution_count": null,
   "metadata": {
    "slideshow": {
     "slide_type": "-"
    }
   },
   "outputs": [],
   "source": [
    "# @IMPORT-MERGE\n",
    "import numpy as np\n",
    "from plaster.run.run import RunResult\n",
    "from plaster.run.job import JobResult\n",
    "from plaster.run.plots import plots\n",
    "from plaster.run.call_bag import CallBag\n",
    "from munch import Munch\n",
    "from plaster.tools.ipynb_helpers.displays import hd, qgrid_mono\n",
    "from plaster.tools.zplots import zplots\n",
    "z = zplots.setup()"
   ]
  },
  {
   "cell_type": "code",
   "execution_count": null,
   "metadata": {},
   "outputs": [],
   "source": [
    "# @REMOVE-FROM-TEMPLATE\n",
    "from plumbum import local\n",
    "job = JobResult(\"/erisyon/internal/jobs_folder/bmf_2020_07_23_02_hemolysate_classify_v2\")\n",
    "run = job.runs[0]"
   ]
  },
  {
   "cell_type": "markdown",
   "metadata": {},
   "source": [
    "# Signal Classification"
   ]
  },
  {
   "cell_type": "code",
   "execution_count": null,
   "metadata": {},
   "outputs": [],
   "source": [
    "# USE the slider bar at the bottom of this cell to set the minimum score threshold\n",
    "# NOTE that you need to click on the \"Run Interact\" button after setting sliders\n",
    "# OPTIONALLY check the box to save a copy of the data as a csv\n",
    "from ipywidgets import interactive, FloatSlider, IntSlider, Checkbox\n",
    "from IPython.core.display import display, Markdown\n",
    "\n",
    "def filter_by_score(run,min_score,save_csv,top_n_classes):\n",
    "    bag = run.classify_rf_call_bag()\n",
    "    good_score_iz = bag.scores > min_score\n",
    "    pred_counts = np.bincount(bag.pred_pep_iz[good_score_iz], minlength=run.prep.n_peps)\n",
    "    pred_counts_df = pd.DataFrame(\n",
    "        dict(pep_i=np.arange(run.prep.n_peps), pred_counts=pred_counts)\n",
    "    )\n",
    "\n",
    "    pred_counts_df = (\n",
    "        pred_counts_df.set_index(\"pep_i\")\n",
    "        .join(run.prep.pros__peps__pepstrs().set_index(\"pep_i\"), how=\"left\")\n",
    "        .sort_index()\n",
    "        .reset_index()\n",
    "    )\n",
    "    cols_to_show = [\"pep_i\", \"pred_counts\", \"pro_id\", \"pro_is_decoy\", \"seqstr\"]\n",
    "    display(pred_counts_df.nlargest(top_n_classes, \"pred_counts\")[cols_to_show])\n",
    "    if save_csv:\n",
    "        min_score_text = str(min_score).replace('.','pt')\n",
    "        pred_counts_df.nlargest(top_n_classes, \"pred_counts\")[cols_to_show].to_csv('pred_counts_'+min_score_text+'.csv',float_format=\"%g\")\n",
    "    # overview\n",
    "    accepted_counts = pred_counts_df.pred_counts.sum()\n",
    "    total_counts = bag.n_rows\n",
    "    pd.options.display.max_rows = None\n",
    "    display(Markdown(f\"## {accepted_counts} spots accepted out of {total_counts} spots classified\"))\n",
    "\n",
    "\n",
    "\n",
    "    from plaster.tools.zplots.zplots import ZPlots\n",
    "\n",
    "    z = ZPlots()\n",
    "    with z(_cols=2, fill_alpha=0.5, line_alpha=0.05):\n",
    "        with z(f_title=f\"Classification, fraction by index\"):\n",
    "            z.cols(pred_counts, color=z.compare1, legend_label=\"all classes\")\n",
    "\n",
    "        with z(f_x_range=[0, 1], f_title=\"Score distribution\"):\n",
    "            z.hist(bag.scores, color=z.compare2)\n",
    "\n",
    "def handle_submit(min_score,save_csv,top_n_classes):\n",
    "    filter_by_score(run,min_score,save_csv,top_n_classes)\n",
    "\n",
    "dropdown_min_score = interactive(handle_submit, {'manual': True}, \\\n",
    "                                 save_csv=Checkbox(False, description='save as csv'), \\\n",
    "                                 min_score=FloatSlider(min=0.01, max=.99, step=0.01), \\\n",
    "                                 top_n_classes=IntSlider(min=1,max=200,step=1))\n",
    "display(dropdown_min_score)\n",
    "\n"
   ]
  },
  {
   "cell_type": "code",
   "execution_count": null,
   "metadata": {},
   "outputs": [],
   "source": []
  }
 ],
 "metadata": {
  "kernelspec": {
   "display_name": "Python 3",
   "language": "python",
   "name": "python3"
  },
  "language_info": {
   "codemirror_mode": {
    "name": "ipython",
    "version": 3
   },
   "file_extension": ".py",
   "mimetype": "text/x-python",
   "name": "python",
   "nbconvert_exporter": "python",
   "pygments_lexer": "ipython3",
   "version": "3.8.2"
  }
 },
 "nbformat": 4,
 "nbformat_minor": 2
}