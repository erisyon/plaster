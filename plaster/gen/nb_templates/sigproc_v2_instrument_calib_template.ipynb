{
 "cells": [
  {
   "cell_type": "code",
   "execution_count": null,
   "metadata": {},
   "outputs": [],
   "source": [
    "# @REMOVE-FROM-TEMPLATE\n",
    "from plaster.tools.ipynb_helpers.displays import restart_kernel; restart_kernel()"
   ]
  },
  {
   "cell_type": "code",
   "execution_count": null,
   "metadata": {},
   "outputs": [],
   "source": [
    "# @IMPORT-MERGE\n",
    "import numpy as np\n",
    "import pandas as pd\n",
    "import itertools\n",
    "from plaster.tools.log.log import error, debug\n",
    "from plaster.run.job import JobResult\n",
    "from plaster.run.run import RunResult\n",
    "from plaster.run.plots import plots_dev\n",
    "from plaster.run.sigproc_v2 import sigproc_v2_worker as worker\n",
    "from plaster.tools.image.coord import WH, XY, roi_shift, clip2d\n",
    "from plaster.tools.zplots import zplots\n",
    "from plaster.tools.schema import check\n",
    "from plaster.tools.image import imops\n",
    "from plaster.tools.zap import zap\n",
    "from plaster.tools.utils import utils\n",
    "from plaster.tools.calibration.calibration import Calibration\n",
    "from plaster.run.sigproc_v2.sigproc_v2_params import SigprocV2Params\n",
    "from plaster.tools.ipynb_helpers.displays import hd\n",
    "z = zplots.setup()"
   ]
  },
  {
   "cell_type": "code",
   "execution_count": null,
   "metadata": {},
   "outputs": [],
   "source": [
    "# @REMOVE-FROM-TEMPLATE\n",
    "from plumbum import local\n",
    "job = JobResult(\"/erisyon/internal/jobs_folder/abbe2_1\")\n",
    "run = job.runs[0]"
   ]
  },
  {
   "cell_type": "markdown",
   "metadata": {},
   "source": [
    "# PSF"
   ]
  },
  {
   "cell_type": "code",
   "execution_count": null,
   "metadata": {},
   "outputs": [],
   "source": [
    "for ch_i in range(run.ims_import.n_channels):\n",
    "    hd(\"h2\", f\"Channel {ch_i}\")\n",
    "    psfs = run.sigproc_v2.calib.psfs(ch_i=ch_i)\n",
    "\n",
    "    with z(_noaxes=True):\n",
    "        display(\"Below:\")\n",
    "        with z(_cols=6):\n",
    "            n_zs = psfs.shape[0]\n",
    "            for z_i in range(0, n_zs // 2):\n",
    "                plots_dev.plot_psfs(psfs[z_i], scale=2.0, f_title=f\"ch_i={ch_i}, z_i={z_i}\", _zplots_context=z)\n",
    "\n",
    "        display(\"Most in Focus:\")\n",
    "        z_i = n_zs // 2\n",
    "        plots_dev.plot_psfs(psfs[z_i], scale=2.0, f_title=f\"ch_i={ch_i}, z_i={z_i}\", _zplots_context=z, _noaxes=True, _notools=True)\n",
    "\n",
    "        display(\"Above:\")\n",
    "        with z(_cols=6):\n",
    "            for z_i in range(n_zs // 2 + 1, n_zs):\n",
    "                plots_dev.plot_psfs(psfs[z_i], scale=2.0, f_title=f\"ch_i={ch_i}, z_i={z_i}\", _zplots_context=z)"
   ]
  },
  {
   "cell_type": "markdown",
   "metadata": {},
   "source": [
    "# Illumination Balance"
   ]
  },
  {
   "cell_type": "code",
   "execution_count": null,
   "metadata": {},
   "outputs": [],
   "source": [
    "for ch_i in range(run.ims_import.n_channels):\n",
    "    with z(_cols=6):\n",
    "        key = f\"regional_illumination_balance.instrument_channel[{ch_i}]\"\n",
    "        val = run.sigproc_v2.calib.get(key)\n",
    "        if val is not None:\n",
    "            hd(\"h2\", f\"Channel {ch_i}\")\n",
    "            bal = np.array(val)\n",
    "            z.im(1.0 / bal)\n",
    "        else:\n",
    "            print(f\"No illumination balance on channel {ch_i}\")"
   ]
  },
  {
   "cell_type": "code",
   "execution_count": null,
   "metadata": {},
   "outputs": [],
   "source": []
  }
 ],
 "metadata": {
  "kernelspec": {
   "display_name": "Python 3",
   "language": "python",
   "name": "python3"
  },
  "language_info": {
   "codemirror_mode": {
    "name": "ipython",
    "version": 3
   },
   "file_extension": ".py",
   "mimetype": "text/x-python",
   "name": "python",
   "nbconvert_exporter": "python",
   "pygments_lexer": "ipython3",
   "version": "3.8.2"
  }
 },
 "nbformat": 4,
 "nbformat_minor": 4
}
