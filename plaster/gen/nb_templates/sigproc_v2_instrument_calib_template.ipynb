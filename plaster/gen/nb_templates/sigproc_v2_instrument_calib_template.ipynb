{
 "cells": [
  {
   "cell_type": "code",
   "execution_count": null,
   "metadata": {},
   "outputs": [],
   "source": [
    "# @REMOVE-FROM-TEMPLATE\n",
    "from plaster.tools.ipynb_helpers.displays import restart_kernel; restart_kernel()"
   ]
  },
  {
   "cell_type": "code",
   "execution_count": null,
   "metadata": {},
   "outputs": [],
   "source": [
    "# @IMPORT-MERGE\n",
    "import numpy as np\n",
    "import pandas as pd\n",
    "import itertools\n",
    "from plaster.tools.log.log import error, debug\n",
    "from plaster.run.job import JobResult\n",
    "from plaster.run.run import RunResult\n",
    "from plaster.run.plots import plots_dev\n",
    "from plaster.run.sigproc_v2 import sigproc_v2_worker as worker\n",
    "from plaster.tools.image.coord import WH, XY, roi_shift, clip2d\n",
    "from plaster.tools.zplots import zplots\n",
    "from plaster.tools.schema import check\n",
    "from plaster.tools.image import imops\n",
    "from plaster.tools.zap import zap\n",
    "from plaster.tools.utils import utils\n",
    "from plaster.tools.calibration.calibration import Calibration\n",
    "from plaster.run.sigproc_v2.sigproc_v2_params import SigprocV2Params\n",
    "z = zplots.setup()"
   ]
  },
  {
   "cell_type": "code",
   "execution_count": null,
   "metadata": {},
   "outputs": [],
   "source": [
    "# @REMOVE-FROM-TEMPLATE\n",
    "from plumbum import local\n",
    "job = JobResult(\"/erisyon/internal/jobs_folder/val_calib\")\n",
    "run = job.runs[0]"
   ]
  },
  {
   "cell_type": "code",
   "execution_count": null,
   "metadata": {},
   "outputs": [],
   "source": [
    "# TODO: Multichannel\n",
    "z_reg_psf = np.array(run.sigproc_v2.calib[\"regional_psf_zstack.instrument_channel[0]\"])"
   ]
  },
  {
   "cell_type": "code",
   "execution_count": null,
   "metadata": {},
   "outputs": [],
   "source": [
    "z.im(np.array(run.sigproc_v2.calib[\"regional_illumination_balance.instrument_channel[0]\"]))"
   ]
  },
  {
   "cell_type": "code",
   "execution_count": null,
   "metadata": {},
   "outputs": [],
   "source": [
    "import math\n",
    "n_src_zslices = 61\n",
    "n_dst_zslices = 13\n",
    "\n",
    "dst_z_per_src_z = n_src_zslices / n_dst_zslices\n",
    "print(dst_z_per_src_z)\n",
    "z_src_i_best_focus = 15\n",
    "\n",
    "# 0 0\n",
    "# 1 10\n",
    "# 2 20\n",
    "# 3 30\n",
    "# 4 40\n",
    "\n",
    "\n",
    "for z_dst_i in range(n_dst_zslices):\n",
    "    z_src_i0 = math.floor( 0.5 + ((z_dst_i-0.5) - n_dst_zslices//2) * dst_z_per_src_z + z_src_i_best_focus )\n",
    "    z_src_i1 = math.floor( 0.5 + ((z_dst_i+0.5) - n_dst_zslices//2) * dst_z_per_src_z + z_src_i_best_focus )\n",
    "    print(z_dst_i, z_src_i0, z_src_i1)\n",
    "\n"
   ]
  },
  {
   "cell_type": "code",
   "execution_count": null,
   "metadata": {},
   "outputs": [],
   "source": [
    "psf_im = z_reg_psf[5, :, :, :, :]\n",
    "plots_dev.plot_psfs(psf_im, _size=300)"
   ]
  },
  {
   "cell_type": "code",
   "execution_count": null,
   "metadata": {},
   "outputs": [],
   "source": [
    "cen = z_reg_psf.shape[-1] // 2\n",
    "psf_im = np.moveaxis(z_reg_psf[1:12, :, :, cen, :], (0), (2))\n",
    "plots_dev.plot_psfs(psf_im, _size=600)"
   ]
  },
  {
   "cell_type": "code",
   "execution_count": null,
   "metadata": {
    "scrolled": false
   },
   "outputs": [],
   "source": [
    "for zi in range(13):\n",
    "    plots_dev.plot_psfs(z_reg_psf[zi], _size=300, f_title=f\"zi={zi}\")"
   ]
  },
  {
   "cell_type": "code",
   "execution_count": null,
   "metadata": {},
   "outputs": [],
   "source": [
    "z.im(z_reg_psf[12, 2, 2])"
   ]
  },
  {
   "cell_type": "code",
   "execution_count": null,
   "metadata": {},
   "outputs": [],
   "source": []
  }
 ],
 "metadata": {
  "kernelspec": {
   "display_name": "Python 3",
   "language": "python",
   "name": "python3"
  },
  "language_info": {
   "codemirror_mode": {
    "name": "ipython",
    "version": 3
   },
   "file_extension": ".py",
   "mimetype": "text/x-python",
   "name": "python",
   "nbconvert_exporter": "python",
   "pygments_lexer": "ipython3",
   "version": "3.8.2"
  }
 },
 "nbformat": 4,
 "nbformat_minor": 4
}
