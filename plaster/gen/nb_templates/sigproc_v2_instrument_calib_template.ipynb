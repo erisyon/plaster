{
 "cells": [
  {
   "cell_type": "code",
   "execution_count": null,
   "metadata": {},
   "outputs": [
    {
     "data": {
      "text/html": [
       "<script>Jupyter.notebook.kernel.restart()</script>"
      ]
     },
     "metadata": {},
     "output_type": "display_data"
    }
   ],
   "source": [
    "# @REMOVE-FROM-TEMPLATE\n",
    "from plaster.tools.ipynb_helpers.displays import restart_kernel; restart_kernel()"
   ]
  },
  {
   "cell_type": "code",
   "execution_count": 1,
   "metadata": {},
   "outputs": [
    {
     "name": "stderr",
     "output_type": "stream",
     "text": [
      "Matplotlib created a temporary config/cache directory at /root/.config/matplotlib because the default path (/tmp/matplotlib-hm5_4x5a) is not a writable directory; it is highly recommended to set the MPLCONFIGDIR environment variable to a writable directory, in particular to speed up the import of Matplotlib and to better support multiprocessing.\n"
     ]
    },
    {
     "data": {
      "text/html": [
       "\n",
       "    <div class=\"bk-root\">\n",
       "        <a href=\"https://bokeh.org\" target=\"_blank\" class=\"bk-logo bk-logo-small bk-logo-notebook\"></a>\n",
       "        <span id=\"1001\">Loading BokehJS ...</span>\n",
       "    </div>"
      ]
     },
     "metadata": {},
     "output_type": "display_data"
    },
    {
     "data": {
      "application/javascript": [
       "\n",
       "(function(root) {\n",
       "  function now() {\n",
       "    return new Date();\n",
       "  }\n",
       "\n",
       "  var force = true;\n",
       "\n",
       "  if (typeof root._bokeh_onload_callbacks === \"undefined\" || force === true) {\n",
       "    root._bokeh_onload_callbacks = [];\n",
       "    root._bokeh_is_loading = undefined;\n",
       "  }\n",
       "\n",
       "  var JS_MIME_TYPE = 'application/javascript';\n",
       "  var HTML_MIME_TYPE = 'text/html';\n",
       "  var EXEC_MIME_TYPE = 'application/vnd.bokehjs_exec.v0+json';\n",
       "  var CLASS_NAME = 'output_bokeh rendered_html';\n",
       "\n",
       "  /**\n",
       "   * Render data to the DOM node\n",
       "   */\n",
       "  function render(props, node) {\n",
       "    var script = document.createElement(\"script\");\n",
       "    node.appendChild(script);\n",
       "  }\n",
       "\n",
       "  /**\n",
       "   * Handle when an output is cleared or removed\n",
       "   */\n",
       "  function handleClearOutput(event, handle) {\n",
       "    var cell = handle.cell;\n",
       "\n",
       "    var id = cell.output_area._bokeh_element_id;\n",
       "    var server_id = cell.output_area._bokeh_server_id;\n",
       "    // Clean up Bokeh references\n",
       "    if (id != null && id in Bokeh.index) {\n",
       "      Bokeh.index[id].model.document.clear();\n",
       "      delete Bokeh.index[id];\n",
       "    }\n",
       "\n",
       "    if (server_id !== undefined) {\n",
       "      // Clean up Bokeh references\n",
       "      var cmd = \"from bokeh.io.state import curstate; print(curstate().uuid_to_server['\" + server_id + \"'].get_sessions()[0].document.roots[0]._id)\";\n",
       "      cell.notebook.kernel.execute(cmd, {\n",
       "        iopub: {\n",
       "          output: function(msg) {\n",
       "            var id = msg.content.text.trim();\n",
       "            if (id in Bokeh.index) {\n",
       "              Bokeh.index[id].model.document.clear();\n",
       "              delete Bokeh.index[id];\n",
       "            }\n",
       "          }\n",
       "        }\n",
       "      });\n",
       "      // Destroy server and session\n",
       "      var cmd = \"import bokeh.io.notebook as ion; ion.destroy_server('\" + server_id + \"')\";\n",
       "      cell.notebook.kernel.execute(cmd);\n",
       "    }\n",
       "  }\n",
       "\n",
       "  /**\n",
       "   * Handle when a new output is added\n",
       "   */\n",
       "  function handleAddOutput(event, handle) {\n",
       "    var output_area = handle.output_area;\n",
       "    var output = handle.output;\n",
       "\n",
       "    // limit handleAddOutput to display_data with EXEC_MIME_TYPE content only\n",
       "    if ((output.output_type != \"display_data\") || (!output.data.hasOwnProperty(EXEC_MIME_TYPE))) {\n",
       "      return\n",
       "    }\n",
       "\n",
       "    var toinsert = output_area.element.find(\".\" + CLASS_NAME.split(' ')[0]);\n",
       "\n",
       "    if (output.metadata[EXEC_MIME_TYPE][\"id\"] !== undefined) {\n",
       "      toinsert[toinsert.length - 1].firstChild.textContent = output.data[JS_MIME_TYPE];\n",
       "      // store reference to embed id on output_area\n",
       "      output_area._bokeh_element_id = output.metadata[EXEC_MIME_TYPE][\"id\"];\n",
       "    }\n",
       "    if (output.metadata[EXEC_MIME_TYPE][\"server_id\"] !== undefined) {\n",
       "      var bk_div = document.createElement(\"div\");\n",
       "      bk_div.innerHTML = output.data[HTML_MIME_TYPE];\n",
       "      var script_attrs = bk_div.children[0].attributes;\n",
       "      for (var i = 0; i < script_attrs.length; i++) {\n",
       "        toinsert[toinsert.length - 1].firstChild.setAttribute(script_attrs[i].name, script_attrs[i].value);\n",
       "        toinsert[toinsert.length - 1].firstChild.textContent = bk_div.children[0].textContent\n",
       "      }\n",
       "      // store reference to server id on output_area\n",
       "      output_area._bokeh_server_id = output.metadata[EXEC_MIME_TYPE][\"server_id\"];\n",
       "    }\n",
       "  }\n",
       "\n",
       "  function register_renderer(events, OutputArea) {\n",
       "\n",
       "    function append_mime(data, metadata, element) {\n",
       "      // create a DOM node to render to\n",
       "      var toinsert = this.create_output_subarea(\n",
       "        metadata,\n",
       "        CLASS_NAME,\n",
       "        EXEC_MIME_TYPE\n",
       "      );\n",
       "      this.keyboard_manager.register_events(toinsert);\n",
       "      // Render to node\n",
       "      var props = {data: data, metadata: metadata[EXEC_MIME_TYPE]};\n",
       "      render(props, toinsert[toinsert.length - 1]);\n",
       "      element.append(toinsert);\n",
       "      return toinsert\n",
       "    }\n",
       "\n",
       "    /* Handle when an output is cleared or removed */\n",
       "    events.on('clear_output.CodeCell', handleClearOutput);\n",
       "    events.on('delete.Cell', handleClearOutput);\n",
       "\n",
       "    /* Handle when a new output is added */\n",
       "    events.on('output_added.OutputArea', handleAddOutput);\n",
       "\n",
       "    /**\n",
       "     * Register the mime type and append_mime function with output_area\n",
       "     */\n",
       "    OutputArea.prototype.register_mime_type(EXEC_MIME_TYPE, append_mime, {\n",
       "      /* Is output safe? */\n",
       "      safe: true,\n",
       "      /* Index of renderer in `output_area.display_order` */\n",
       "      index: 0\n",
       "    });\n",
       "  }\n",
       "\n",
       "  // register the mime type if in Jupyter Notebook environment and previously unregistered\n",
       "  if (root.Jupyter !== undefined) {\n",
       "    var events = require('base/js/events');\n",
       "    var OutputArea = require('notebook/js/outputarea').OutputArea;\n",
       "\n",
       "    if (OutputArea.prototype.mime_types().indexOf(EXEC_MIME_TYPE) == -1) {\n",
       "      register_renderer(events, OutputArea);\n",
       "    }\n",
       "  }\n",
       "\n",
       "  \n",
       "  if (typeof (root._bokeh_timeout) === \"undefined\" || force === true) {\n",
       "    root._bokeh_timeout = Date.now() + 5000;\n",
       "    root._bokeh_failed_load = false;\n",
       "  }\n",
       "\n",
       "  var NB_LOAD_WARNING = {'data': {'text/html':\n",
       "     \"<div style='background-color: #fdd'>\\n\"+\n",
       "     \"<p>\\n\"+\n",
       "     \"BokehJS does not appear to have successfully loaded. If loading BokehJS from CDN, this \\n\"+\n",
       "     \"may be due to a slow or bad network connection. Possible fixes:\\n\"+\n",
       "     \"</p>\\n\"+\n",
       "     \"<ul>\\n\"+\n",
       "     \"<li>re-rerun `output_notebook()` to attempt to load from CDN again, or</li>\\n\"+\n",
       "     \"<li>use INLINE resources instead, as so:</li>\\n\"+\n",
       "     \"</ul>\\n\"+\n",
       "     \"<code>\\n\"+\n",
       "     \"from bokeh.resources import INLINE\\n\"+\n",
       "     \"output_notebook(resources=INLINE)\\n\"+\n",
       "     \"</code>\\n\"+\n",
       "     \"</div>\"}};\n",
       "\n",
       "  function display_loaded() {\n",
       "    var el = document.getElementById(\"1001\");\n",
       "    if (el != null) {\n",
       "      el.textContent = \"BokehJS is loading...\";\n",
       "    }\n",
       "    if (root.Bokeh !== undefined) {\n",
       "      if (el != null) {\n",
       "        el.textContent = \"BokehJS \" + root.Bokeh.version + \" successfully loaded.\";\n",
       "      }\n",
       "    } else if (Date.now() < root._bokeh_timeout) {\n",
       "      setTimeout(display_loaded, 100)\n",
       "    }\n",
       "  }\n",
       "\n",
       "\n",
       "  function run_callbacks() {\n",
       "    try {\n",
       "      root._bokeh_onload_callbacks.forEach(function(callback) {\n",
       "        if (callback != null)\n",
       "          callback();\n",
       "      });\n",
       "    } finally {\n",
       "      delete root._bokeh_onload_callbacks\n",
       "    }\n",
       "    console.debug(\"Bokeh: all callbacks have finished\");\n",
       "  }\n",
       "\n",
       "  function load_libs(css_urls, js_urls, callback) {\n",
       "    if (css_urls == null) css_urls = [];\n",
       "    if (js_urls == null) js_urls = [];\n",
       "\n",
       "    root._bokeh_onload_callbacks.push(callback);\n",
       "    if (root._bokeh_is_loading > 0) {\n",
       "      console.debug(\"Bokeh: BokehJS is being loaded, scheduling callback at\", now());\n",
       "      return null;\n",
       "    }\n",
       "    if (js_urls == null || js_urls.length === 0) {\n",
       "      run_callbacks();\n",
       "      return null;\n",
       "    }\n",
       "    console.debug(\"Bokeh: BokehJS not loaded, scheduling load and callback at\", now());\n",
       "    root._bokeh_is_loading = css_urls.length + js_urls.length;\n",
       "\n",
       "    function on_load() {\n",
       "      root._bokeh_is_loading--;\n",
       "      if (root._bokeh_is_loading === 0) {\n",
       "        console.debug(\"Bokeh: all BokehJS libraries/stylesheets loaded\");\n",
       "        run_callbacks()\n",
       "      }\n",
       "    }\n",
       "\n",
       "    function on_error() {\n",
       "      console.error(\"failed to load \" + url);\n",
       "    }\n",
       "\n",
       "    for (var i = 0; i < css_urls.length; i++) {\n",
       "      var url = css_urls[i];\n",
       "      const element = document.createElement(\"link\");\n",
       "      element.onload = on_load;\n",
       "      element.onerror = on_error;\n",
       "      element.rel = \"stylesheet\";\n",
       "      element.type = \"text/css\";\n",
       "      element.href = url;\n",
       "      console.debug(\"Bokeh: injecting link tag for BokehJS stylesheet: \", url);\n",
       "      document.body.appendChild(element);\n",
       "    }\n",
       "\n",
       "    const hashes = {\"https://cdn.bokeh.org/bokeh/release/bokeh-2.1.1.min.js\": \"kLr4fYcqcSpbuI95brIH3vnnYCquzzSxHPU6XGQCIkQRGJwhg0StNbj1eegrHs12\", \"https://cdn.bokeh.org/bokeh/release/bokeh-widgets-2.1.1.min.js\": \"xIGPmVtaOm+z0BqfSOMn4lOR6ciex448GIKG4eE61LsAvmGj48XcMQZtKcE/UXZe\", \"https://cdn.bokeh.org/bokeh/release/bokeh-tables-2.1.1.min.js\": \"Dc9u1wF/0zApGIWoBbH77iWEHtdmkuYWG839Uzmv8y8yBLXebjO9ZnERsde5Ln/P\", \"https://cdn.bokeh.org/bokeh/release/bokeh-gl-2.1.1.min.js\": \"cT9JaBz7GiRXdENrJLZNSC6eMNF3nh3fa5fTF51Svp+ukxPdwcU5kGXGPBgDCa2j\"};\n",
       "\n",
       "    for (var i = 0; i < js_urls.length; i++) {\n",
       "      var url = js_urls[i];\n",
       "      var element = document.createElement('script');\n",
       "      element.onload = on_load;\n",
       "      element.onerror = on_error;\n",
       "      element.async = false;\n",
       "      element.src = url;\n",
       "      if (url in hashes) {\n",
       "        element.crossOrigin = \"anonymous\";\n",
       "        element.integrity = \"sha384-\" + hashes[url];\n",
       "      }\n",
       "      console.debug(\"Bokeh: injecting script tag for BokehJS library: \", url);\n",
       "      document.head.appendChild(element);\n",
       "    }\n",
       "  };\n",
       "\n",
       "  function inject_raw_css(css) {\n",
       "    const element = document.createElement(\"style\");\n",
       "    element.appendChild(document.createTextNode(css));\n",
       "    document.body.appendChild(element);\n",
       "  }\n",
       "\n",
       "  \n",
       "  var js_urls = [\"https://cdn.bokeh.org/bokeh/release/bokeh-2.1.1.min.js\", \"https://cdn.bokeh.org/bokeh/release/bokeh-widgets-2.1.1.min.js\", \"https://cdn.bokeh.org/bokeh/release/bokeh-tables-2.1.1.min.js\", \"https://cdn.bokeh.org/bokeh/release/bokeh-gl-2.1.1.min.js\"];\n",
       "  var css_urls = [];\n",
       "  \n",
       "\n",
       "  var inline_js = [\n",
       "    function(Bokeh) {\n",
       "      Bokeh.set_log_level(\"info\");\n",
       "    },\n",
       "    function(Bokeh) {\n",
       "    \n",
       "    \n",
       "    }\n",
       "  ];\n",
       "\n",
       "  function run_inline_js() {\n",
       "    \n",
       "    if (root.Bokeh !== undefined || force === true) {\n",
       "      \n",
       "    for (var i = 0; i < inline_js.length; i++) {\n",
       "      inline_js[i].call(root, root.Bokeh);\n",
       "    }\n",
       "    if (force === true) {\n",
       "        display_loaded();\n",
       "      }} else if (Date.now() < root._bokeh_timeout) {\n",
       "      setTimeout(run_inline_js, 100);\n",
       "    } else if (!root._bokeh_failed_load) {\n",
       "      console.log(\"Bokeh: BokehJS failed to load within specified timeout.\");\n",
       "      root._bokeh_failed_load = true;\n",
       "    } else if (force !== true) {\n",
       "      var cell = $(document.getElementById(\"1001\")).parents('.cell').data().cell;\n",
       "      cell.output_area.append_execute_result(NB_LOAD_WARNING)\n",
       "    }\n",
       "\n",
       "  }\n",
       "\n",
       "  if (root._bokeh_is_loading === 0) {\n",
       "    console.debug(\"Bokeh: BokehJS loaded, going straight to plotting\");\n",
       "    run_inline_js();\n",
       "  } else {\n",
       "    load_libs(css_urls, js_urls, function() {\n",
       "      console.debug(\"Bokeh: BokehJS plotting callback run at\", now());\n",
       "      run_inline_js();\n",
       "    });\n",
       "  }\n",
       "}(window));"
      ],
      "application/vnd.bokehjs_load.v0+json": "\n(function(root) {\n  function now() {\n    return new Date();\n  }\n\n  var force = true;\n\n  if (typeof root._bokeh_onload_callbacks === \"undefined\" || force === true) {\n    root._bokeh_onload_callbacks = [];\n    root._bokeh_is_loading = undefined;\n  }\n\n  \n\n  \n  if (typeof (root._bokeh_timeout) === \"undefined\" || force === true) {\n    root._bokeh_timeout = Date.now() + 5000;\n    root._bokeh_failed_load = false;\n  }\n\n  var NB_LOAD_WARNING = {'data': {'text/html':\n     \"<div style='background-color: #fdd'>\\n\"+\n     \"<p>\\n\"+\n     \"BokehJS does not appear to have successfully loaded. If loading BokehJS from CDN, this \\n\"+\n     \"may be due to a slow or bad network connection. Possible fixes:\\n\"+\n     \"</p>\\n\"+\n     \"<ul>\\n\"+\n     \"<li>re-rerun `output_notebook()` to attempt to load from CDN again, or</li>\\n\"+\n     \"<li>use INLINE resources instead, as so:</li>\\n\"+\n     \"</ul>\\n\"+\n     \"<code>\\n\"+\n     \"from bokeh.resources import INLINE\\n\"+\n     \"output_notebook(resources=INLINE)\\n\"+\n     \"</code>\\n\"+\n     \"</div>\"}};\n\n  function display_loaded() {\n    var el = document.getElementById(\"1001\");\n    if (el != null) {\n      el.textContent = \"BokehJS is loading...\";\n    }\n    if (root.Bokeh !== undefined) {\n      if (el != null) {\n        el.textContent = \"BokehJS \" + root.Bokeh.version + \" successfully loaded.\";\n      }\n    } else if (Date.now() < root._bokeh_timeout) {\n      setTimeout(display_loaded, 100)\n    }\n  }\n\n\n  function run_callbacks() {\n    try {\n      root._bokeh_onload_callbacks.forEach(function(callback) {\n        if (callback != null)\n          callback();\n      });\n    } finally {\n      delete root._bokeh_onload_callbacks\n    }\n    console.debug(\"Bokeh: all callbacks have finished\");\n  }\n\n  function load_libs(css_urls, js_urls, callback) {\n    if (css_urls == null) css_urls = [];\n    if (js_urls == null) js_urls = [];\n\n    root._bokeh_onload_callbacks.push(callback);\n    if (root._bokeh_is_loading > 0) {\n      console.debug(\"Bokeh: BokehJS is being loaded, scheduling callback at\", now());\n      return null;\n    }\n    if (js_urls == null || js_urls.length === 0) {\n      run_callbacks();\n      return null;\n    }\n    console.debug(\"Bokeh: BokehJS not loaded, scheduling load and callback at\", now());\n    root._bokeh_is_loading = css_urls.length + js_urls.length;\n\n    function on_load() {\n      root._bokeh_is_loading--;\n      if (root._bokeh_is_loading === 0) {\n        console.debug(\"Bokeh: all BokehJS libraries/stylesheets loaded\");\n        run_callbacks()\n      }\n    }\n\n    function on_error() {\n      console.error(\"failed to load \" + url);\n    }\n\n    for (var i = 0; i < css_urls.length; i++) {\n      var url = css_urls[i];\n      const element = document.createElement(\"link\");\n      element.onload = on_load;\n      element.onerror = on_error;\n      element.rel = \"stylesheet\";\n      element.type = \"text/css\";\n      element.href = url;\n      console.debug(\"Bokeh: injecting link tag for BokehJS stylesheet: \", url);\n      document.body.appendChild(element);\n    }\n\n    const hashes = {\"https://cdn.bokeh.org/bokeh/release/bokeh-2.1.1.min.js\": \"kLr4fYcqcSpbuI95brIH3vnnYCquzzSxHPU6XGQCIkQRGJwhg0StNbj1eegrHs12\", \"https://cdn.bokeh.org/bokeh/release/bokeh-widgets-2.1.1.min.js\": \"xIGPmVtaOm+z0BqfSOMn4lOR6ciex448GIKG4eE61LsAvmGj48XcMQZtKcE/UXZe\", \"https://cdn.bokeh.org/bokeh/release/bokeh-tables-2.1.1.min.js\": \"Dc9u1wF/0zApGIWoBbH77iWEHtdmkuYWG839Uzmv8y8yBLXebjO9ZnERsde5Ln/P\", \"https://cdn.bokeh.org/bokeh/release/bokeh-gl-2.1.1.min.js\": \"cT9JaBz7GiRXdENrJLZNSC6eMNF3nh3fa5fTF51Svp+ukxPdwcU5kGXGPBgDCa2j\"};\n\n    for (var i = 0; i < js_urls.length; i++) {\n      var url = js_urls[i];\n      var element = document.createElement('script');\n      element.onload = on_load;\n      element.onerror = on_error;\n      element.async = false;\n      element.src = url;\n      if (url in hashes) {\n        element.crossOrigin = \"anonymous\";\n        element.integrity = \"sha384-\" + hashes[url];\n      }\n      console.debug(\"Bokeh: injecting script tag for BokehJS library: \", url);\n      document.head.appendChild(element);\n    }\n  };\n\n  function inject_raw_css(css) {\n    const element = document.createElement(\"style\");\n    element.appendChild(document.createTextNode(css));\n    document.body.appendChild(element);\n  }\n\n  \n  var js_urls = [\"https://cdn.bokeh.org/bokeh/release/bokeh-2.1.1.min.js\", \"https://cdn.bokeh.org/bokeh/release/bokeh-widgets-2.1.1.min.js\", \"https://cdn.bokeh.org/bokeh/release/bokeh-tables-2.1.1.min.js\", \"https://cdn.bokeh.org/bokeh/release/bokeh-gl-2.1.1.min.js\"];\n  var css_urls = [];\n  \n\n  var inline_js = [\n    function(Bokeh) {\n      Bokeh.set_log_level(\"info\");\n    },\n    function(Bokeh) {\n    \n    \n    }\n  ];\n\n  function run_inline_js() {\n    \n    if (root.Bokeh !== undefined || force === true) {\n      \n    for (var i = 0; i < inline_js.length; i++) {\n      inline_js[i].call(root, root.Bokeh);\n    }\n    if (force === true) {\n        display_loaded();\n      }} else if (Date.now() < root._bokeh_timeout) {\n      setTimeout(run_inline_js, 100);\n    } else if (!root._bokeh_failed_load) {\n      console.log(\"Bokeh: BokehJS failed to load within specified timeout.\");\n      root._bokeh_failed_load = true;\n    } else if (force !== true) {\n      var cell = $(document.getElementById(\"1001\")).parents('.cell').data().cell;\n      cell.output_area.append_execute_result(NB_LOAD_WARNING)\n    }\n\n  }\n\n  if (root._bokeh_is_loading === 0) {\n    console.debug(\"Bokeh: BokehJS loaded, going straight to plotting\");\n    run_inline_js();\n  } else {\n    load_libs(css_urls, js_urls, function() {\n      console.debug(\"Bokeh: BokehJS plotting callback run at\", now());\n      run_inline_js();\n    });\n  }\n}(window));"
     },
     "metadata": {},
     "output_type": "display_data"
    },
    {
     "data": {
      "text/html": [
       "<style>.container { width:100% !important; }</style>"
      ],
      "text/plain": [
       "<IPython.core.display.HTML object>"
      ]
     },
     "metadata": {},
     "output_type": "display_data"
    }
   ],
   "source": [
    "# @IMPORT-MERGE\n",
    "import numpy as np\n",
    "import pandas as pd\n",
    "import itertools\n",
    "from plaster.tools.log.log import error, debug\n",
    "from plaster.run.job import JobResult\n",
    "from plaster.run.run import RunResult\n",
    "from plaster.run.plots import plots_sigproc\n",
    "from plaster.run.plots import plots_dev\n",
    "from plaster.run.sigproc_v2 import sigproc_v2_worker as worker\n",
    "from plaster.tools.image.coord import WH, XY, roi_shift, clip2d\n",
    "from plaster.tools.zplots import zplots\n",
    "from plaster.tools.schema import check\n",
    "from plaster.tools.image import imops\n",
    "from plaster.tools.zap import zap\n",
    "from plaster.tools.utils import utils\n",
    "from plaster.tools.calibration.calibration import Calibration\n",
    "from plaster.run.sigproc_v2.sigproc_v2_params import SigprocV2Params\n",
    "from plaster.run.sigproc_v2.reg_psf import RegPSF\n",
    "from plaster.tools.ipynb_helpers.displays import hd\n",
    "z = zplots.setup()"
   ]
  },
  {
   "cell_type": "code",
   "execution_count": 2,
   "metadata": {},
   "outputs": [],
   "source": [
    "# @REMOVE-FROM-TEMPLATE\n",
    "from plumbum import local\n",
    "job = JobResult(\"/erisyon/internal/jobs_folder/calib_abbe7_1t\")\n",
    "run = job.runs[0]"
   ]
  },
  {
   "cell_type": "code",
   "execution_count": 3,
   "metadata": {},
   "outputs": [
    {
     "data": {
      "text/html": [
       "\n",
       "\n",
       "\n",
       "\n",
       "\n",
       "\n",
       "  <div class=\"bk-root\" id=\"aec2c991-ecc8-49ae-90be-7fdcd9172a0c\" data-root-id=\"1003\"></div>\n"
      ]
     },
     "metadata": {},
     "output_type": "display_data"
    },
    {
     "data": {
      "application/javascript": [
       "(function(root) {\n",
       "  function embed_document(root) {\n",
       "    \n",
       "  var docs_json = {\"b16e041c-a53a-403b-b5c1-a6f80c26748b\":{\"roots\":{\"references\":[{\"attributes\":{\"below\":[{\"id\":\"1012\"}],\"center\":[{\"id\":\"1015\"},{\"id\":\"1019\"}],\"left\":[{\"id\":\"1016\"}],\"plot_height\":350,\"plot_width\":350,\"renderers\":[{\"id\":\"1040\"}],\"title\":{\"id\":\"1042\"},\"toolbar\":{\"id\":\"1027\"},\"x_range\":{\"id\":\"1004\"},\"x_scale\":{\"id\":\"1008\"},\"y_range\":{\"id\":\"1006\"},\"y_scale\":{\"id\":\"1010\"}},\"id\":\"1003\",\"subtype\":\"Figure\",\"type\":\"Plot\"},{\"attributes\":{},\"id\":\"1006\",\"type\":\"DataRange1d\"},{\"attributes\":{\"data\":{\"_label\":[\"\",\"\",\"\",\"\",\"\",\"\",\"\",\"\",\"\",\"\",\"\",\"\",\"\",\"\",\"\",\"\",\"\",\"\",\"\",\"\",\"\",\"\",\"\",\"\",\"\",\"\",\"\",\"\",\"\",\"\",\"\",\"\",\"\",\"\",\"\",\"\",\"\",\"\",\"\",\"\",\"\",\"\",\"\",\"\",\"\",\"\",\"\",\"\",\"\"],\"bottom\":{\"__ndarray__\":\"AAAAAAAAAAAAAAAAAAAAAAAAAAAAAAAAAAAAAAAAAAAAAAAAAAAAAAAAAAAAAAAAAAAAAAAAAAAAAAAAAAAAAAAAAAAAAAAAAAAAAAAAAAAAAAAAAAAAAAAAAAAAAAAAAAAAAAAAAAAAAAAAAAAAAAAAAAAAAAAAAAAAAAAAAAAAAAAAAAAAAAAAAAAAAAAAAAAAAAAAAAAAAAAAAAAAAAAAAAAAAAAAAAAAAAAAAAAAAAAAAAAAAAAAAAAAAAAAAAAAAAAAAAAAAAAAAAAAAAAAAAAAAAAAAAAAAAAAAAAAAAAAAAAAAAAAAAAAAAAAAAAAAAAAAAAAAAAAAAAAAAAAAAAAAAAAAAAAAAAAAAAAAAAAAAAAAAAAAAAAAAAAAAAAAAAAAAAAAAAAAAAAAAAAAAAAAAAAAAAAAAAAAAAAAAAAAAAAAAAAAAAAAAAAAAAAAAAAAAAAAAAAAAAAAAAAAAAAAAAAAAAAAAAAAAAAAAAAAAAAAAAAAAAAAAAAAAAAAAAAAAA=\",\"dtype\":\"float64\",\"order\":\"little\",\"shape\":[49]},\"left\":{\"__ndarray__\":\"lon2r6UDSUDqSSB20q9RQAhPRRTS3VZAJlRqstELXECirEeo6JxgQDIvWnfoM2NAwbFsRujKZUBQNH8V6GFoQOC2keTn+GpAbjmks+ePbUD/XVvBcxNwQEef5KjzXnFAjuBtkHOqckDWIfd38/VzQB5jgF9zQXVAZaQJR/OMdkCt5ZIuc9h3QPUmHBbzI3lAPGil/XJvekCEqS7l8rp7QMvqt8xyBn1AEyxBtPJRfkBbbcqbcp1/QFHXqUF5dIBA9XduNTkagUCYGDMp+b+BQDy59xy5ZYJA4Fm8EHkLg0CE+oAEObGDQCibRfj4VoRAyzsK7Lj8hEBv3M7feKKFQBN9k9M4SIZAtx1Yx/jthkBbvhy7uJOHQP5e4a54OYhAov+lojjfiEBGoGqW+ISJQOpAL4q4KopAjuHzfXjQikAxgrhxOHaLQNUifWX4G4xAecNBWbjBjEAdZAZNeGeNQMEEy0A4DY5AZaWPNPiyjkAIRlQouFiPQKzmGBx4/o9AqMPuBxxSkEA=\",\"dtype\":\"float64\",\"order\":\"little\",\"shape\":[49]},\"right\":{\"__ndarray__\":\"6kkgdtKvUUAIT0UU0t1WQCZUarLRC1xAoqxHqOicYEAyL1p36DNjQMGxbEboymVAUDR/FehhaEDgtpHk5/hqQG45pLPnj21A/11bwXMTcEBHn+So815xQI7gbZBzqnJA1iH3d/P1c0AeY4Bfc0F1QGWkCUfzjHZAreWSLnPYd0D1JhwW8yN5QDxopf1yb3pAhKku5fK6e0DL6rfMcgZ9QBMsQbTyUX5AW23Km3Kdf0BR16lBeXSAQPV3bjU5GoFAmBgzKfm/gUA8ufccuWWCQOBZvBB5C4NAhPqABDmxg0Aom0X4+FaEQMs7Cuy4/IRAb9zO33iihUATfZPTOEiGQLcdWMf47YZAW74cu7iTh0D+XuGueDmIQKL/paI434hARqBqlviEiUDqQC+KuCqKQI7h83140IpAMYK4cTh2i0DVIn1l+BuMQHnDQVm4wYxAHWQGTXhnjUDBBMtAOA2OQGWljzT4so5ACEZUKLhYj0Cs5hgceP6PQKjD7gccUpBA+hPRAfykkEA=\",\"dtype\":\"float64\",\"order\":\"little\",\"shape\":[49]},\"top\":{\"__ndarray__\":\"AAAAAACASUAAAAAAAAAAAAAAAAAAAAAAAAAAAAAAAEAAAAAAAABPQAAAAAAAADRAAAAAAAAAMUAAAAAAAAAAQAAAAAAAAPA/AAAAAAAAAEAAAAAAAAAiQAAAAAAAACpAAAAAAAAAJEAAAAAAAAA2QAAAAAAAACpAAAAAAAAAM0AAAAAAAABBQAAAAAAAAEhAAAAAAABAU0AAAAAAAIBeQAAAAAAAgGhAAAAAAABgcEAAAAAAAKB4QAAAAAAAUH9AAAAAAABIhEAAAAAAAFiGQAAAAAAAqIhAAAAAAACwiUAAAAAAADCKQAAAAAAAQIpAAAAAAACIh0AAAAAAAAiGQAAAAAAAmIJAAAAAAAAggkAAAAAAACB/QAAAAAAA0HpAAAAAAACgdkAAAAAAAHBxQAAAAAAAQGpAAAAAAABgY0AAAAAAAABeQAAAAAAAAFRAAAAAAACAUEAAAAAAAABIQAAAAAAAADxAAAAAAAAANEAAAAAAAAAkQAAAAAAAAAhAAAAAAAAAEEA=\",\"dtype\":\"float64\",\"order\":\"little\",\"shape\":[49]}},\"selected\":{\"id\":\"1049\"},\"selection_policy\":{\"id\":\"1048\"}},\"id\":\"1002\",\"type\":\"ColumnDataSource\"},{\"attributes\":{},\"id\":\"1020\",\"type\":\"PanTool\"},{\"attributes\":{},\"id\":\"1013\",\"type\":\"BasicTicker\"},{\"attributes\":{\"axis\":{\"id\":\"1012\"},\"ticker\":null},\"id\":\"1015\",\"type\":\"Grid\"},{\"attributes\":{},\"id\":\"1010\",\"type\":\"LinearScale\"},{\"attributes\":{\"formatter\":{\"id\":\"1044\"},\"ticker\":{\"id\":\"1017\"}},\"id\":\"1016\",\"type\":\"LinearAxis\"},{\"attributes\":{},\"id\":\"1017\",\"type\":\"BasicTicker\"},{\"attributes\":{\"axis\":{\"id\":\"1016\"},\"dimension\":1,\"ticker\":null},\"id\":\"1019\",\"type\":\"Grid\"},{\"attributes\":{\"active_drag\":\"auto\",\"active_inspect\":\"auto\",\"active_multi\":null,\"active_scroll\":\"auto\",\"active_tap\":\"auto\",\"logo\":null,\"tools\":[{\"id\":\"1020\"},{\"id\":\"1021\"},{\"id\":\"1022\"},{\"id\":\"1023\"},{\"id\":\"1024\"},{\"id\":\"1025\"},{\"id\":\"1034\"}]},\"id\":\"1027\",\"type\":\"Toolbar\"},{\"attributes\":{\"bottom\":{\"field\":\"bottom\"},\"fill_color\":{\"value\":\"#1f77b4\"},\"left\":{\"field\":\"left\"},\"line_color\":{\"value\":null},\"right\":{\"field\":\"right\"},\"top\":{\"field\":\"top\"}},\"id\":\"1038\",\"type\":\"Quad\"},{\"attributes\":{},\"id\":\"1021\",\"type\":\"WheelZoomTool\"},{\"attributes\":{},\"id\":\"1008\",\"type\":\"LinearScale\"},{\"attributes\":{},\"id\":\"1025\",\"type\":\"HelpTool\"},{\"attributes\":{\"callback\":null,\"tooltips\":[[\"label\",\"@_label\"],[\"x\",\"$x{0,0.0}\"],[\"y\",\"$y{0,0.0}\"],[\"value\",\"@image{0,0.0}\"]]},\"id\":\"1034\",\"type\":\"HoverTool\"},{\"attributes\":{\"overlay\":{\"id\":\"1026\"}},\"id\":\"1022\",\"type\":\"BoxZoomTool\"},{\"attributes\":{},\"id\":\"1023\",\"type\":\"SaveTool\"},{\"attributes\":{},\"id\":\"1004\",\"type\":\"DataRange1d\"},{\"attributes\":{},\"id\":\"1024\",\"type\":\"ResetTool\"},{\"attributes\":{\"bottom\":{\"field\":\"bottom\"},\"fill_alpha\":{\"value\":0.1},\"fill_color\":{\"value\":\"#1f77b4\"},\"left\":{\"field\":\"left\"},\"line_alpha\":{\"value\":0.1},\"line_color\":{\"value\":null},\"right\":{\"field\":\"right\"},\"top\":{\"field\":\"top\"}},\"id\":\"1039\",\"type\":\"Quad\"},{\"attributes\":{\"source\":{\"id\":\"1002\"}},\"id\":\"1041\",\"type\":\"CDSView\"},{\"attributes\":{},\"id\":\"1048\",\"type\":\"UnionRenderers\"},{\"attributes\":{\"data_source\":{\"id\":\"1002\"},\"glyph\":{\"id\":\"1038\"},\"hover_glyph\":null,\"muted_glyph\":null,\"nonselection_glyph\":{\"id\":\"1039\"},\"selection_glyph\":null,\"view\":{\"id\":\"1041\"}},\"id\":\"1040\",\"type\":\"GlyphRenderer\"},{\"attributes\":{},\"id\":\"1049\",\"type\":\"Selection\"},{\"attributes\":{\"text\":\"\"},\"id\":\"1042\",\"type\":\"Title\"},{\"attributes\":{\"formatter\":{\"id\":\"1046\"},\"ticker\":{\"id\":\"1013\"}},\"id\":\"1012\",\"type\":\"LinearAxis\"},{\"attributes\":{},\"id\":\"1044\",\"type\":\"BasicTickFormatter\"},{\"attributes\":{\"bottom_units\":\"screen\",\"fill_alpha\":0.5,\"fill_color\":\"lightgrey\",\"left_units\":\"screen\",\"level\":\"overlay\",\"line_alpha\":1.0,\"line_color\":\"black\",\"line_dash\":[4,4],\"line_width\":2,\"right_units\":\"screen\",\"top_units\":\"screen\"},\"id\":\"1026\",\"type\":\"BoxAnnotation\"},{\"attributes\":{},\"id\":\"1046\",\"type\":\"BasicTickFormatter\"}],\"root_ids\":[\"1003\"]},\"title\":\"Bokeh Application\",\"version\":\"2.1.1\"}};\n",
       "  var render_items = [{\"docid\":\"b16e041c-a53a-403b-b5c1-a6f80c26748b\",\"root_ids\":[\"1003\"],\"roots\":{\"1003\":\"aec2c991-ecc8-49ae-90be-7fdcd9172a0c\"}}];\n",
       "  root.Bokeh.embed.embed_items_notebook(docs_json, render_items);\n",
       "\n",
       "  }\n",
       "  if (root.Bokeh !== undefined) {\n",
       "    embed_document(root);\n",
       "  } else {\n",
       "    var attempts = 0;\n",
       "    var timer = setInterval(function(root) {\n",
       "      if (root.Bokeh !== undefined) {\n",
       "        clearInterval(timer);\n",
       "        embed_document(root);\n",
       "      } else {\n",
       "        attempts++;\n",
       "        if (attempts > 100) {\n",
       "          clearInterval(timer);\n",
       "          console.log(\"Bokeh: ERROR: Unable to run BokehJS code because BokehJS library is missing\");\n",
       "        }\n",
       "      }\n",
       "    }, 10, root)\n",
       "  }\n",
       "})(window);"
      ],
      "application/vnd.bokehjs_exec.v0+json": ""
     },
     "metadata": {
      "application/vnd.bokehjs_exec.v0+json": {
       "id": "1003"
      }
     },
     "output_type": "display_data"
    }
   ],
   "source": [
    "q = run.ims_import.qualities()\n",
    "z.hist(q.quality.values)\n",
    "#q[q.quality > 300].field_i.unique()"
   ]
  },
  {
   "cell_type": "code",
   "execution_count": 4,
   "metadata": {},
   "outputs": [],
   "source": [
    "# z.im(run.ims_import.ims[222, 0, 0])"
   ]
  },
  {
   "cell_type": "markdown",
   "metadata": {},
   "source": [
    "# PSF"
   ]
  },
  {
   "cell_type": "code",
   "execution_count": 4,
   "metadata": {},
   "outputs": [
    {
     "data": {
      "text/html": [
       "<h2 id='' class=''>Channel 0</h2>"
      ],
      "text/plain": [
       "<IPython.core.display.HTML object>"
      ]
     },
     "metadata": {},
     "output_type": "display_data"
    },
    {
     "data": {
      "text/html": [
       "\n",
       "\n",
       "\n",
       "\n",
       "\n",
       "\n",
       "  <div class=\"bk-root\" id=\"c4841f5f-34e9-4c60-9309-ccc2d4c5845d\" data-root-id=\"1107\"></div>\n"
      ]
     },
     "metadata": {},
     "output_type": "display_data"
    },
    {
     "data": {
      "application/javascript": [
       "(function(root) {\n",
       "  function embed_document(root) {\n",
       "    \n",
       "  var docs_json = {\"ead2184c-ee98-4f34-aa68-14ff667313e9\":{\"roots\":{\"references\":[{\"attributes\":{\"below\":[{\"id\":\"1118\"}],\"center\":[{\"id\":\"1121\"},{\"id\":\"1125\"}],\"left\":[{\"id\":\"1122\"}],\"plot_height\":165,\"plot_width\":165,\"renderers\":[{\"id\":\"1148\"}],\"title\":{\"id\":\"1108\"},\"toolbar\":{\"id\":\"1133\"},\"toolbar_location\":null,\"x_range\":{\"id\":\"1110\"},\"x_scale\":{\"id\":\"1114\"},\"y_range\":{\"id\":\"1112\"},\"y_scale\":{\"id\":\"1116\"}},\"id\":\"1107\",\"subtype\":\"Figure\",\"type\":\"Plot\"},{\"attributes\":{},\"id\":\"1160\",\"type\":\"BasicTickFormatter\"},{\"attributes\":{},\"id\":\"1162\",\"type\":\"BasicTickFormatter\"},{\"attributes\":{\"text\":\"ch_i=0\"},\"id\":\"1108\",\"type\":\"Title\"},{\"attributes\":{\"formatter\":{\"id\":\"1162\"},\"major_label_text_font_size\":\"0pt\",\"major_tick_line_color\":null,\"minor_tick_line_color\":null,\"ticker\":{\"id\":\"1119\"}},\"id\":\"1118\",\"type\":\"LinearAxis\"},{\"attributes\":{},\"id\":\"1119\",\"type\":\"BasicTicker\"},{\"attributes\":{},\"id\":\"1110\",\"type\":\"DataRange1d\"},{\"attributes\":{},\"id\":\"1116\",\"type\":\"LinearScale\"},{\"attributes\":{},\"id\":\"1112\",\"type\":\"DataRange1d\"},{\"attributes\":{},\"id\":\"1114\",\"type\":\"LinearScale\"},{\"attributes\":{\"axis\":{\"id\":\"1118\"},\"ticker\":null},\"id\":\"1121\",\"type\":\"Grid\"},{\"attributes\":{\"formatter\":{\"id\":\"1160\"},\"major_label_text_font_size\":\"0pt\",\"major_tick_line_color\":null,\"minor_tick_line_color\":null,\"ticker\":{\"id\":\"1123\"}},\"id\":\"1122\",\"type\":\"LinearAxis\"},{\"attributes\":{},\"id\":\"1123\",\"type\":\"BasicTicker\"},{\"attributes\":{\"axis\":{\"id\":\"1122\"},\"dimension\":1,\"ticker\":null},\"id\":\"1125\",\"type\":\"Grid\"},{\"attributes\":{\"active_drag\":\"auto\",\"active_inspect\":\"auto\",\"active_multi\":null,\"active_scroll\":\"auto\",\"active_tap\":\"auto\",\"logo\":null,\"tools\":[]},\"id\":\"1133\",\"type\":\"Toolbar\"},{\"attributes\":{\"high\":0.02161632034577525,\"low\":0.0,\"palette\":[\"#440154\",\"#440255\",\"#440357\",\"#450558\",\"#45065A\",\"#45085B\",\"#46095C\",\"#460B5E\",\"#460C5F\",\"#460E61\",\"#470F62\",\"#471163\",\"#471265\",\"#471466\",\"#471567\",\"#471669\",\"#47186A\",\"#48196B\",\"#481A6C\",\"#481C6E\",\"#481D6F\",\"#481E70\",\"#482071\",\"#482172\",\"#482273\",\"#482374\",\"#472575\",\"#472676\",\"#472777\",\"#472878\",\"#472A79\",\"#472B7A\",\"#472C7B\",\"#462D7C\",\"#462F7C\",\"#46307D\",\"#46317E\",\"#45327F\",\"#45347F\",\"#453580\",\"#453681\",\"#443781\",\"#443982\",\"#433A83\",\"#433B83\",\"#433C84\",\"#423D84\",\"#423E85\",\"#424085\",\"#414186\",\"#414286\",\"#404387\",\"#404487\",\"#3F4587\",\"#3F4788\",\"#3E4888\",\"#3E4989\",\"#3D4A89\",\"#3D4B89\",\"#3D4C89\",\"#3C4D8A\",\"#3C4E8A\",\"#3B508A\",\"#3B518A\",\"#3A528B\",\"#3A538B\",\"#39548B\",\"#39558B\",\"#38568B\",\"#38578C\",\"#37588C\",\"#37598C\",\"#365A8C\",\"#365B8C\",\"#355C8C\",\"#355D8C\",\"#345E8D\",\"#345F8D\",\"#33608D\",\"#33618D\",\"#32628D\",\"#32638D\",\"#31648D\",\"#31658D\",\"#31668D\",\"#30678D\",\"#30688D\",\"#2F698D\",\"#2F6A8D\",\"#2E6B8E\",\"#2E6C8E\",\"#2E6D8E\",\"#2D6E8E\",\"#2D6F8E\",\"#2C708E\",\"#2C718E\",\"#2C728E\",\"#2B738E\",\"#2B748E\",\"#2A758E\",\"#2A768E\",\"#2A778E\",\"#29788E\",\"#29798E\",\"#287A8E\",\"#287A8E\",\"#287B8E\",\"#277C8E\",\"#277D8E\",\"#277E8E\",\"#267F8E\",\"#26808E\",\"#26818E\",\"#25828E\",\"#25838D\",\"#24848D\",\"#24858D\",\"#24868D\",\"#23878D\",\"#23888D\",\"#23898D\",\"#22898D\",\"#228A8D\",\"#228B8D\",\"#218C8D\",\"#218D8C\",\"#218E8C\",\"#208F8C\",\"#20908C\",\"#20918C\",\"#1F928C\",\"#1F938B\",\"#1F948B\",\"#1F958B\",\"#1F968B\",\"#1E978A\",\"#1E988A\",\"#1E998A\",\"#1E998A\",\"#1E9A89\",\"#1E9B89\",\"#1E9C89\",\"#1E9D88\",\"#1E9E88\",\"#1E9F88\",\"#1EA087\",\"#1FA187\",\"#1FA286\",\"#1FA386\",\"#20A485\",\"#20A585\",\"#21A685\",\"#21A784\",\"#22A784\",\"#23A883\",\"#23A982\",\"#24AA82\",\"#25AB81\",\"#26AC81\",\"#27AD80\",\"#28AE7F\",\"#29AF7F\",\"#2AB07E\",\"#2BB17D\",\"#2CB17D\",\"#2EB27C\",\"#2FB37B\",\"#30B47A\",\"#32B57A\",\"#33B679\",\"#35B778\",\"#36B877\",\"#38B976\",\"#39B976\",\"#3BBA75\",\"#3DBB74\",\"#3EBC73\",\"#40BD72\",\"#42BE71\",\"#44BE70\",\"#45BF6F\",\"#47C06E\",\"#49C16D\",\"#4BC26C\",\"#4DC26B\",\"#4FC369\",\"#51C468\",\"#53C567\",\"#55C666\",\"#57C665\",\"#59C764\",\"#5BC862\",\"#5EC961\",\"#60C960\",\"#62CA5F\",\"#64CB5D\",\"#67CC5C\",\"#69CC5B\",\"#6BCD59\",\"#6DCE58\",\"#70CE56\",\"#72CF55\",\"#74D054\",\"#77D052\",\"#79D151\",\"#7CD24F\",\"#7ED24E\",\"#81D34C\",\"#83D34B\",\"#86D449\",\"#88D547\",\"#8BD546\",\"#8DD644\",\"#90D643\",\"#92D741\",\"#95D73F\",\"#97D83E\",\"#9AD83C\",\"#9DD93A\",\"#9FD938\",\"#A2DA37\",\"#A5DA35\",\"#A7DB33\",\"#AADB32\",\"#ADDC30\",\"#AFDC2E\",\"#B2DD2C\",\"#B5DD2B\",\"#B7DD29\",\"#BADE27\",\"#BDDE26\",\"#BFDF24\",\"#C2DF22\",\"#C5DF21\",\"#C7E01F\",\"#CAE01E\",\"#CDE01D\",\"#CFE11C\",\"#D2E11B\",\"#D4E11A\",\"#D7E219\",\"#DAE218\",\"#DCE218\",\"#DFE318\",\"#E1E318\",\"#E4E318\",\"#E7E419\",\"#E9E419\",\"#ECE41A\",\"#EEE51B\",\"#F1E51C\",\"#F3E51E\",\"#F6E61F\",\"#F8E621\",\"#FAE622\",\"#FDE724\"]},\"id\":\"1105\",\"type\":\"LinearColorMapper\"},{\"attributes\":{\"source\":{\"id\":\"1106\"}},\"id\":\"1149\",\"type\":\"CDSView\"},{\"attributes\":{\"data\":{\"dh\":[55],\"dw\":[55],\"image\":[{\"__ndarray__\":\"N6TXJF63Qz96975DuhZSP5kqSojpzl4/ETdVMCpaaD/KV2iX991xP3UdXzLnVXg/6bXyBSLEfj/tUcrDPA2CPwyUp5CUqYM/38bGURThgz/VSWRwyaeCP0FH44MGFFc/6bwZ8PaZYj/EmeYWJg9sPyNOD/mJzXM/+tkKhN4nej93II3pzimAP4o0kI5nsYI/ihzOirY6hD9KZNNXNXyEP4bvBRpGaYM/XR12Zio2gT+FKEYdZ5JhP48RdW7ewGk/5JPK/CvUcT9hYPtgF1J3P/o+uAle0Xw/ngZv5zDSgD9lKnBxKI2CPwqgvBwiVIM/OTjS7W4Ggz+29tgn7bCBPxg88XkXFX8/aaKRg4GdXj9U+Y8kaYBnP16V3zSd6nA/s9gwoMzVdj8Lra86Ted8P6idRBD3JoE//DSwlKcWgz87laFLXOuDP9Zrr6SsfYM/+tWKWg7igT87c5m8NcV+PzzIzoe2E2U/Ot21+X1Ybj/fZQu3p5F0PwxnxSBXQXo/wxBsXT+Ofz8Kp6uI8tqBPyZY1l6bBoM/KP+YHrkWgz8344vCeAiCP4ghSWNkCoA/JrvlF5Peej+8cVnU3ylVPyYcrtnOIGI/hLy8/5TTbD8/XZ+TEkZ1P/KEsbYyJX0/CGx4FgeIgj/GHalUod+FP55ySHYB94c/7C8Bs/xeiD85jzGRNAGHP3G2FAHrJ4Q/WqQZ8PaZYj/R0UmqeJtsP/7CIESKlXQ/gIpE3f63ez97G8/6u3aBP4zrUqxwl4Q/TY809iK4hj8ebP+Tv3SHP5EY7CQYqYY/QEnTVzV8hD/R5HLQIlSBP3e3BkX+cWk/I+yVEhAEcj8KNttt2Rl4PzF0C9t/dX4/NyA+094ugj/pnQf1YoKEP56cIeWx2oU/ZIjKHQEAhj86CQTxIOyEP8gnQB4qzII/msNMxtvofz+VLOZd8bBmP6qSbnihxHA/5zKPU9c8dz8zY49gQDJ+PzeOpeqGZYI/nZR5xcEEhT9vcFDCgISGP29ziwi5noY/V6Qqs4NOhT/+Fk61nNGCP9R2LELDK38/rSyHlT6gbD/APbe2ZQx0P+p962wPcXo/ta1dIwxrgD/dT2IOmTKDP+Uyl1HmIoU/nYp2I03phT/GesEgRmOFP//ap5w7qIM/n5nPHNoCgT88YB8N/Lh7P9ivGslJRmQ/xarwX9g2cD8tAbpOeRJ4P7Co+uMRloA/dgOQNCk3hT/IZbVfPzCJP5ZP78clwos/Q6ZmAe1kjD87JAVsmfWKP8vF419ewoc/6ncMVIdvgz/1WOYWJg9sP5+uIESKlXQ/blVPl51CfD94pIqWHCeCPyYFtlRy0oU/qhTnnxmMiD9wj0nOoNaJP8rqlLIfc4k/5lT/k790hz/R7c2KtjqEP4Cey2FNU4A/ThXk6wp1cT9XVL+zZ+J3P80IOb0P334/jcDPRh7Zgj+h2rbiHL6FPzPyI3DusYc/awIYHyxliD+18cyEQLqHPxcrZLNkzYU/fYmQVwDtgj9yXSRkgwp/PySh8SpV0W8/lnYcmlCidj9rK6gc+DF+P6iLOzjF4oI/UpK//fQmhj/bJgC5MV2IPx5/REpsIIk/QTALf1BMiD8UlnjETQiGP/FHPJOfu4I/Wad5I6HefT9femb5lpJyP9B/ywpET3k/Y0+BeN48gD8z2v4wNZ6DP9ztr9c3UYY/HS0Qtp/nhz/Utp7uARyIP+dhbTIx5YY/D8pMWt54hD/2VbR8bzyBPzjYpcjcU3s/6GW+NqVVcT8USXkd3eJ5PyzHA1DL8IE/nC/q5hIVhz+GgeeIwpCLP/HmgSNOjo4/NH9XdV1wjz/plVtUawaOPyaCgQm3nYo/PGy8NHHmhT8FlaKd4LmAP1QTD/mJzXM/xVxE3f63ez99mIqWHCeCP+s4i+CTP4Y/BAyCfgSEiT8q+m5X5mGLP1hKY9hTf4s/Yn5JzqDWiT/RaTT2IriGPwf9j45nsYI/CR5eA6XIfD94Cxj6lbJ2P6cnfJwQAX4/TVgdCCu8gj+mqGCWdxqGP8nk12S8oog/XtAdravwiT8GSYNUus2JP1TVtrazP4g/W4MxPSeHhT8Hc8XPRQ6CP1XW22bfnHw/C3qPK/sZdT+dhfy4feZ8P8D8EMWtjoI/L0os+LdYhj8YCLBEfDuJP7oQsW0Ut4o/pxzTMLCFij9Q8QsVi7CIP9EJLV8bjYU/97DN0KejgT+Dj/hPRBN7P+C7sQmEBnc/2Pr/3+WGfj8SIu1n0w2DP8qwXah2ZYY/dGMzHn/JiD8pR318mNSJP86J66lgWIk/wL5VAJJqhz+xOpw6zV6EP7Yb9TNzr4A/JVJ+wra8eT/+g9IYZXR6P80UnUcncYI/D2hCa87dhz/FecLeOauMP9h/VmwT948/0LU8pnGKkD+gZkQYasePPxidm2L7VYw/WAK1UKtzhz/RSKiIHgSCPwi3LR90sXk/q4MKhN4nej/o+M76u3aBP4zvtVRy0oU/mQOCfgSEiT9xSOaB1uqLP3731DQKlYw/IvFuV+Zhiz9d/OafGYyIP8fCUqxwl4Q/IuuM6c4pgD/7/VK0f753PyYYWbWw9ns/q1qJA5bbgT+E66UNGIyFP2oOhp/Jj4g/QTZqsTJzij/CkKVmqOiKPzJJABC43Ik/A88pxmt7hz+G4UV9ciSEP3kd6m+MUoA/RAFWAtH9eD/OJggB0Xl6PwIGLWYJdIE/MQJyJaaThT9+w01VEAOJP9d5jUriL4s/vrsJfKG1iz/kV4GwV3uKP+aYe4Atu4c/VOYNFdnwgz/T9JiKUGx/P+ao5+4pN3c/N0NU6+xFez+FkEg7zZaBP3NikkCgXIU/zBk/dp5tiD+Niboghk2KP+IrfLW0qoo/bpBByNl0iT/4Fk4BouGGPzM2DqaEXYM/9ZOY3Tjdfj9IGtAsmSh3P9FIqIgeBII/WAK1UKtzhz8YnZti+1WMP6BmRBhqx48/0LU8pnGKkD/Yf1ZsE/ePP8V5wt45q4w/D2hCa87dhz/NFJ1HJ3GCP/6D0hhldHo/m94Cda+ccT8i64zpzimAP8fCUqxwl4Q/XfzmnxmMiD8i8W5X5mGLP3731DQKlYw/cUjmgdbqiz+ZA4J+BISJP4zvtVRy0oU/6PjO+rt2gT+rgwqE3id6P8uVyW0FVHI/eR3qb4xSgD+G4UV9ciSEPwPPKcZre4c/MkkAELjciT/CkKVmqOiKP0E2arEyc4o/ag6Gn8mPiD+E66UNGIyFP6taiQOW24E/JhhZtbD2ez+7+7nnEa90P9P0mIpQbH8/VOYNFdnwgz/mmHuALbuHP+RXgbBXe4o/vrsJfKG1iz/XeY1K4i+LP37DTVUQA4k/MQJyJaaThT8CBi1mCXSBP84mCAHReXo/deSKrmzUcj/1k5jdON1+PzM2DqaEXYM/+BZOAaLhhj9ukEHI2XSJP+IrfLW0qoo/jYm6IIZNij/MGT92nm2IP3NikkCgXIU/hZBIO82WgT83Q1Tr7EV7PzMnKzPG6HM/PGy8NHHmhT8mgoEJt52KP+mVW1RrBo4/NH9XdV1wjz/x5oEjTo6OP4aB54jCkIs/nC/q5hIVhz8sxwNQy/CBPxRJeR3d4nk/6GW+NqVVcT8/YyzMloxlPwf9j45nsYI/0Wk09iK4hj9ifknOoNaJP1hKY9hTf4s/KvpuV+Zhiz8EDIJ+BISJP+s4i+CTP4Y/fZiKlhwngj/FXETd/rd7P1QTD/mJzXM/rGTxqRt6aj8Hc8XPRQ6CP1uDMT0nh4U/VNW2trM/iD8GSYNUus2JP17QHa2r8Ik/yeTXZLyiiD+mqGCWdxqGP01YHQgrvII/pyd8nBABfj94Cxj6lbJ2PzzmewCZOHA/97DN0KejgT/RCS1fG42FP1DxCxWLsIg/pxzTMLCFij+6ELFtFLeKPxgIsER8O4k/L0os+LdYhj/A/BDFrY6CP52F/Lh95nw/C3qPK/sZdT+tvTpb0+RsP7Yb9TNzr4A/sTqcOs1ehD/AvlUAkmqHP86J66lgWIk/KUd9fJjUiT90YzMef8mIP8qwXah2ZYY/EiLtZ9MNgz/Y+v/f5YZ+P+C7sQmEBnc/En/my01acD/LxeNfXsKHPzskBWyZ9Yo/Q6ZmAe1kjD+WT+/HJcKLP8hltV8/MIk/dgOQNCk3hT+wqPrjEZaAPy0Buk55Eng/xarwX9g2cD/YrxrJSUZkP1w4HIwRiFc/0e3NirY6hD/mVP+Tv3SHP8rqlLIfc4k/cI9JzqDWiT+qFOefGYyIPyYFtlRy0oU/eKSKlhwngj9uVU+XnUJ8P5+uIESKlXQ/9VjmFiYPbD8EpBdjOuVhP32JkFcA7YI/Fytks2TNhT+18cyEQLqHP2sCGB8sZYg/M/IjcO6xhz+h2rbiHL6FP43Az0Ye2YI/zQg5vQ/ffj9XVL+zZ+J3P04V5OsKdXE/vVj/Y7gbaD/xRzyTn7uCPxSWeMRNCIY/QTALf1BMiD8ef0RKbCCJP9smALkxXYg/UpK//fQmhj+oizs4xeKCP2srqBz4MX4/lnYcmlCidj8kofEqVdFvP4p5yZxQ+GQ/9lW0fG88gT8Pykxa3niEP+dhbTIx5YY/1Lae7gEciD8dLRC2n+eHP9ztr9c3UYY/M9r+MDWegz9jT4F43jyAP9B/ywpET3k/X3pm+ZaScj/kTsQAWKppPzmPMZE0AYc/7C8Bs/xeiD+eckh2AfeHP8YdqVSh34U/CGx4FgeIgj/yhLG2MiV9Pz9dn5MSRnU/hLy8/5TTbD8mHK7ZziBiP7xxWdTfKVU/Q1hu//DuRj9ASdNXNXyEP5EY7CQYqYY/Hmz/k790hz9NjzT2IriGP4zrUqxwl4Q/exvP+rt2gT+AikTd/rd7P/7CIESKlXQ/0dFJqnibbD9apBnw9pliP0x4jOLSolY/yCdAHirMgj86CQTxIOyEP2SIyh0BAIY/npwh5bHahT/pnQf1YoKEPzcgPtPeLoI/MXQL2391fj8KNttt2Rl4PyPslRIQBHI/d7cGRf5xaT9ZeBKlz/lgP/4WTrWc0YI/V6Qqs4NOhT9vc4sIuZ6GP29wUMKAhIY/nZR5xcEEhT83jqXqhmWCPzNjj2BAMn4/5zKPU9c8dz+qkm54ocRwP5Us5l3xsGY/oiHYj/HKXD+fmc8c2gKBP//ap5w7qIM/xnrBIEZjhT+dinYjTemFP+Uyl1HmIoU/3U9iDpkygz+1rV0jDGuAP+p962wPcXo/wD23tmUMdD+tLIeVPqBsP8XOIM4lPmM/38bGURThgz8MlKeQlKmDP+1RysM8DYI/6bXyBSLEfj91HV8y51V4P8pXaJf33XE/ETdVMCpaaD+ZKkqI6c5eP3r3vkO6FlI/N6TXJF63Qz97be52gvIzP4bvBRpGaYM/SmTTVzV8hD+KHM6KtjqEP4o0kI5nsYI/dyCN6c4pgD/62QqE3id6PyNOD/mJzXM/xJnmFiYPbD/pvBnw9pliP0FH44MGFFc/1y12RuLKSj+29tgn7bCBPzk40u1uBoM/CqC8HCJUgz9lKnBxKI2CP54Gb+cw0oA/+j64CV7RfD9hYPtgF1J3P+STyvwr1HE/jxF1bt7AaT+FKEYdZ5JhP7CYUVRGp1Y/+tWKWg7igT/Wa6+krH2DPzuVoUtc64M//DSwlKcWgz+onUQQ9yaBPwutrzpN53w/s9gwoMzVdj9eld80nepwP1T5jyRpgGc/aaKRg4GdXj+vLq3iv7JSP4ghSWNkCoA/N+OLwngIgj8o/5geuRaDPyZY1l6bBoM/CqeriPLagT/DEGxdP45/PwxnxSBXQXo/32ULt6eRdD863bX5fVhuPzzIzoe2E2U/DCJbGHeRWz+3HliCpql+P0oURurWUHw/+QypcmlFeD+NPr82gk9zP8DT//WHhWw/wyLY4gWNYz8EwSK0AeFYP2HEJJbSYk0/CXHU/9obQD+0Ajd0nmQwPwPhhqUZ+B4/wjl2Zio2gT9GGHPQIlSBPyXfy2FNU4A/AqNeA6XIfD+Bc1O0f753P4HwyW0FVHI//N7xqRt6aj/g6hdjOuVhP4W7jOLSolY/CVp2RuLKSj9QrL7vo6w9P17Txd+1jX8/IgWL3oxkgD+ZGbb2VxeAPwJA5J0H2H0/0SYHIDIlej95saJuiaN1P66FugRE63A/sLhCsaP+aD/0d0B3G3FhP5TtxxIv/1Y/jL2hPQ2lTD9QZVPpNxOAP7OVdAWv3YA/fdLjjsWXgD/UTHzWEp1+P0S4rdgNe3o/nwAujmd6dT+DWMebvFVwP+DWO3hLTGc/LCFJU4coXz/rmdMqZYlTPwLM0cX++EY/6Q9SSfDmfD83DS/Iepx/PyIhoVb7RoA/0hms+UORfz+IcadgctJ8Py7Qz94yx3g/VonsQqIOdD8bopVIDpNuP8FYGp0j8WU/KFg+wVynXT88YwQIDt5SP0IWzf8UjlI/LBm5QLVqXj+bQrc5aFxnPzgrMyvlz3A/fYarpKisdj8zztBsxad8P+hkIrt994A/bqptT6jTgj/vmSQtRJODP3i6P/5kEoM/UNVuBE5pgT9WrxBDejVUP2/PV3XvLmA/9Lwf4AVbaD/IP46ttzhxP+ziXQ2P4nY/vGO0VX6TfD8p9Y0a0MOAP2HAtwv5e4I/eLrxMoEmgz/a0BRdvqSCP41IfpQWDoE/CCQpr/8WXj/Ta2bAsNRmP8j8uqWQT3A/Wt3qWJrxdT88FftRDMx7P0EjL3O9k4A/dQoLk9qdgj/iSaLed6+DP6DFDGxsmYM/oeXUY5Vfgj//uyesujeAP2GXRO7fGWI/hVcSwm9laj+vz6G5Wi9yP2dSYxKdrHc/vxK52e0efT82SkmAJuyAPz/wBMZBlYI/JNMYEflHgz8bPtew9eaCP2cjumA7goE/FOUoDaqlfj/F8i0JsKJjPwhoBIw40Ws/9rC0PSO1cj8yqgy7wuN3P+LRdXrg9nw/62SurKOrgD90GFLkCDiCPwSUupVz54I/XriPTYCfgj9iLOPUFWuBP2AHPqJg734/Y5wal6JyYD9Va0DjgJhpPwEqN6tkqXI/ml7b1a1/eT8IRTOOylKAP8K7mXhVlYM/ZHL1ZtADhj/xh5kBpDCHP04kqX6/44Y/Uh6NQqYrhT/WTdma91iCP0/lhcTanmE/wfyir7Tcaj9ktuGOdD1zP2g7xR0M5nk/H4sMpQ9hgD+fpvLUrXeDP6nYsCcAvoU/mTsZDlHRhj9o19wdZoCGP0BgxuPg2YQ/Ulgh0uwngj/rt45irq1mP46LoSnni3A/GV2Swfi7dj+qC72WLml9PxMytDub6YE/xAnEWUyLhD8gMgqYgi+GP6ZyT6brjoY/hVAFWNSYhT8n9buK73eDPwbmbDs6hoA/wsbhKUX6aT92rIjun1FyP4SO2p9HaXg/pdA6a1+8fj9ClK3KSkiCP9CYWOPTjIQ/ZM+Gi0DThT+V9BZTreaFPxFUNYvjw4Q/enNE8Teagj/+CVHg3n1/P6tlBIw40Ws/pkKH5PQYcz8/Shs+W+V4PxK8q14/0H4/pAU4Y7cagj+kwYDDxzKEP23GdzoVZYU/AZ918RyEhT9hE67eKYuEP8u2j02An4I/37KZYjkHgD/AEU9ILstqP+M8RS2CynM/4xP/jmllez/U1w6wj8SBPx2v1khxmIU/UHjSk02YiD+s9YvRRj+KPwplnBIjP4o/1wSvF+mXiD9H3Ko83peFP0VWL1Dmw4E/oUGvfA1EbD/dla89AIJ0PyyGRSN99ns/0wttqu7pgT+8iV+sQpGFP+sFzupNZog/ObE16TfwiT97VLsSF+mJP0W+DrE1Uog//fjwSrBzhT9K//QDlceBP2Ny35rqHnA/pjb5atCedj8FuOlMx+J9P6DiKz/CloI/FYhnmvXFhT8uHTpuUgOIP8ZqX/GE74g/rampr3ZhiD/2vV0X/XGGP81sKibBdIM/jUaehFHCfz/u14Me7K5xPzWzOwLNHng/R1FUaAkWfz8gvd+fUO2CP4hKeO3SxoU/0aZA3m2shz9yfe6H/VCIPwESSIZkmYc/KMnZS9ujhT8OTCOVzL+CP2lyt7qEsn4/Ma60PSO1cj+rSBs+W+V4PweIjBqpdH8/9qYOOO7dgj+y2+Dp4nyFPz8WzmcwPIc/4tnBQ5Hahz/KECxPGECHP6SddfEchIU/OJG6lXPngj+X16ge1Yl/PyXq23eEDXQ/8njqAUUffD/7SeANRXqCP2CuMzeewIY/+hiA4IVAij9GVAO89GGMPwKqzMP+wIw/poY+ubNLiz85y9Z5pUeIP0kjVva+PIQ/Fk1DW36cfz8eFKDD5Np0P8vxmPAHznw/0uJHUDuxgj+s6DGf3cuGP6MbU3XHH4o/Wg33CKohjD8R/u0vKHeMPwEGm3TLEIs/nZBCW5UuiD9/8rrmUk2EP5PrZIssBIA/1sBBE5iddT8/ga1eayp9PwWLBvvZhoI/3c5cK3gphj8S9dpKIvaIP2VbiCvHeIo/H1eJ0OFuij/Rf1NNLtqIP2w2oY8qAIY/CgBPHZVWgj+g+6kh3ch8P32F5Jd+1nY/lNitxbMgfj8/bG+KvcaCP5ss7kbuHIY/eyp3Oz2biD9MvosI896JP52iUadFs4k/bf8Ak24fiD+vL+dKtmSFPxymQlgv7YE/GltWadFifD+npQy7wuN3P9G4q14/0H4/KaYOOO7dgj9RQq9Hiu+FP37iZAq6Nog/ENwaLmpgiT8ln8APD0CJP9/YwUOR2oc/KcR3OhVlhT/8FFLkCDiCP8TRwTeedX0/up99K4KUez8/9jLU31uCP5dgF2IC54Y/rJxXL3LFij8QfB3wvVKNP4TcDFCQGI4/XI2twarxjD/Um8K2VhWKP3w54GR7BoY/trkIqnBtgT92Z31ipNd5P6miqkYnT3w/Ica1Gtebgj80StaHEP2GP+icIiiOr4o/WchEfNEbjT9FnUQh/tWNP8mkV/B8vIw/TDxJ+uEBij/2hYKuFB6GP/NQfYy0rIE/FxmwnE2Lej862py351V7P7hcbUPGu4E/Gv3/yAiqhT8I7mLaceuIP4Eb27lR/Yo/BGGpwvOFiz+DMZoocW2KPwNwv0CG5Ic/Jx5Qo7tWhD/4JYW4SE2AP4cfutIDm3g/at+Ak936ez+HWzW9ZdmBP4PcYBVihIU/cbTBQx2CiD/abGs2LWCKP05LTn7p0Yo/rH3siIjEiT8yvAVwM2SHPy7+XIEtEIQ/GTVKvm1CgD9Fam7vgeZ4P8TLdXrg9nw/WAM4Y7cagj9V2uDp4nyFP/rhZAq6Nog/OapzcNHniT/LQX0sU1CKP4bbGi5qYIk/xhTOZzA8hz8Wv4DDxzKEP2Vhrqyjq4A/84/7sjQgej+2uQiqcG2BP3w54GR7BoY/1JvCtlYVij9cja3BqvGMP4TcDFCQGI4/EHwd8L1SjT+snFcvcsWKP5dgF2IC54Y/P/Yy1N9bgj+6n30rgpR7P3332X53aXM/81B9jLSsgT/2hYKuFB6GP0w8SfrhAYo/yaRX8Hy8jD9FnUQh/tWNP1nIRHzRG40/6JwiKI6vij80StaHEP2GPyHGtRrXm4I/qaKqRidPfD+355ds6Dt0P/glhbhITYA/Jx5Qo7tWhD8DcL9AhuSHP4MxmihxbYo/BGGpwvOFiz+BG9u5Uf2KPwjuYtpx64g/Gv3/yAiqhT+4XG1DxruBPzranLfnVXs/hYyoWV3Wcz8ZNUq+bUKAPy7+XIEtEIQ/MrwFcDNkhz+sfeyIiMSJP05LTn7p0Yo/2mxrNi1gij9xtMFDHYKIP4PcYBVihIU/h1s1vWXZgT9q34CT3fp7P2zIsUyKuHQ/ZWGurKOrgD8Wv4DDxzKEP8YUzmcwPIc/htsaLmpgiT/LQX0sU1CKPzmqc3DR54k/+uFkCro2iD9V2uDp4nyFP1gDOGO3GoI/xMt1euD2fD+ImuTvYf91P0kjVva+PIQ/OcvWeaVHiD+mhj65s0uLPwKqzMP+wIw/RlQDvPRhjD/6GIDghUCKP2CuMzeewIY/+0ngDUV6gj/yeOoBRR98PyXq23eEDXQ/RCbmfgbMaj9/8rrmUk2EP52QQluVLog/AQabdMsQiz8R/u0vKHeMP1oN9wiqIYw/oxtTdccfij+s6DGf3cuGP9LiR1A7sYI/y/GY8AfOfD8eFKDD5Np0P9j2vodvYGw/CgBPHZVWgj9sNqGPKgCGP9F/U00u2og/H1eJ0OFuij9lW4grx3iKPxL12koi9og/3c5cK3gphj8Fiwb72YaCPz+BrV5rKn0/1sBBE5iddT8BG6bn9ypuPxymQlgv7YE/ry/nSrZkhT9t/wCTbh+IP52iUadFs4k/TL6LCPPeiT97Knc7PZuIP5ss7kbuHIY/P2xvir3Ggj+U2K3FsyB+P32F5Jd+1nY/0MNFMW5bcD/8FFLkCDiCPynEdzoVZYU/39jBQ5Hahz8ln8APD0CJPxDcGi5qYIk/fuJkCro2iD9RQq9Hiu+FPymmDjju3YI/0birXj/Qfj+npQy7wuN3P6EGgk2+lXE/R9yqPN6XhT/XBK8X6ZeIPwplnBIjP4o/rPWL0UY/ij9QeNKTTZiIPx2v1khxmIU/1NcOsI/EgT/jE/+OaWV7P+M8RS2CynM/wBFPSC7Laj9Tl3zotP5gP/348Eqwc4U/Rb4OsTVSiD97VLsSF+mJPzmxNek38Ik/6wXO6k1miD+8iV+sQpGFP9MLbaru6YE/LIZFI332ez/dla89AIJ0P6FBr3wNRGw/SiqGldlNYj/NbComwXSDP/a9XRf9cYY/rampr3ZhiD/Gal/xhO+IPy4dOm5SA4g/FYhnmvXFhT+g4is/wpaCPwW46UzH4n0/pjb5atCedj9jct+a6h5wP1oaK0KFomU/Dkwjlcy/gj8oydlL26OFPwESSIZkmYc/cn3uh/1QiD/RpkDebayHP4hKeO3SxoU/IL3fn1Dtgj9HUVRoCRZ/PzWzOwLNHng/7teDHuyucT+AIxivkX9oPziRupVz54I/pJ118RyEhT/KECxPGECHP+LZwUOR2oc/PxbOZzA8hz+y2+Dp4nyFP/amDjju3YI/B4iMGql0fz+rSBs+W+V4PzGutD0jtXI/UtzZ82Wxaj9SHo1CpiuFP04kqX6/44Y/8YeZAaQwhz9kcvVm0AOGP8K7mXhVlYM/CEUzjspSgD+aXtvVrX95PwEqN6tkqXI/VWtA44CYaT9jnBqXonJgP7efMX2/zlM/QGDG4+DZhD9o19wdZoCGP5k7GQ5R0YY/qdiwJwC+hT+fpvLUrXeDPx+LDKUPYYA/aDvFHQzmeT9ktuGOdD1zP8H8oq+03Go/T+WFxNqeYT+ZUd6w2rhVPyf1u4rvd4M/hVAFWNSYhT+mck+m646GPyAyCpiCL4Y/xAnEWUyLhD8TMrQ7m+mBP6oLvZYuaX0/GV2Swfi7dj+Oi6Ep54twP+u3jmKurWY/icJyr0BEXT96c0TxN5qCPxFUNYvjw4Q/lfQWU63mhT9kz4aLQNOFP9CYWOPTjIQ/QpStykpIgj+l0DprX7x+P4SO2p9HaXg/dqyI7p9Rcj/CxuEpRfppPwdfUepDZ2E/y7aPTYCfgj9hE67eKYuEPwGfdfEchIU/bcZ3OhVlhT+kwYDDxzKEP6QFOGO3GoI/EryrXj/Qfj8/Shs+W+V4P6ZCh+T0GHM/q2UEjDjRaz/pxXt9DjxjP3i6P/5kEoM/75kkLUSTgz9uqm1PqNOCP+hkIrt994A/M87QbMWnfD99hqukqKx2PzgrMyvlz3A/m0K3OWhcZz8sGblAtWpeP0IWzf8UjlI//LImQWg2RT/a0BRdvqSCP3i68TKBJoM/YcC3C/l7gj8p9Y0a0MOAP7xjtFV+k3w/7OJdDY/idj/IP46ttzhxP/S8H+AFW2g/b89Xde8uYD9WrxBDejVUP7XexXOYtkc/oeXUY5Vfgj+gxQxsbJmDP+JJot53r4M/dQoLk9qdgj9BIy9zvZOAPzwV+1EMzHs/Wt3qWJrxdT/I/LqlkE9wP9NrZsCw1GY/CCQpr/8WXj9K652deatSP2cjumA7goE/Gz7XsPXmgj8k0xgR+UeDPz/wBMZBlYI/NkpJgCbsgD+/ErnZ7R59P2dSYxKdrHc/r8+huVovcj+FVxLCb2VqP2GXRO7fGWI/RYOOy9B0Vz9iLOPUFWuBP164j02An4I/BJS6lXPngj90GFLkCDiCP+tkrqyjq4A/4tF1euD2fD8yqgy7wuN3P/awtD0jtXI/CGgEjDjRaz/F8i0JsKJjPx0f9GmDUVo/4+LqfQCTfz9dedJsysN+PyrA2BatFnw/ejvLfcIHeD/SHiy+i0NzP4Gzr9rZ8Gw/dUXmX9xeZD84eFwH5d5aPzWsghRFm1A/NzqXodM7Qz/E1ASUr980P56pUIoqq34/kBrhj0T8fT9dV4q3dIx7P38NZ8hsyHc/l26nBg5Lcz+EpMzG3GltP1tF7U6MEWU/75O/WH9cXD9m3di5AfBRPz78XFoeUkU/LGss4i3QNz+wNTHooFqAP1A80PpyxoA/n5Uqf6czgD9WU+gwnnd9P053LL8zO3k/OIXelIJXdD/LxTHEHuJuPz+LlDHqEmY/CkwJRf+1XT9cV0q3ptNSPzizmpoud0Y/X9cAtwREfz8hGPruj1KAPyQFIr1KGoA/RxKULv8Efj84t2pBVXB6P2tWlP9CAHY/cUGF2GZMcT/HnRIlrLNpP7X+28NuCmI/AGMtxAPuVz+jc+JNlf1NP6UKPqJg734/7bWZYjkHgD+W36ge1Yl/P3zawTeedX0/PZj7sjQgej+CoeTvYf91P9ULgk2+lXE/F+PZ82Wxaj+UyXt9DjxjP+Qh9GmDUVo/zuyMZ0sYUT/h5L24ZnFTP2/RCrwDv10/PU8hQNKQZT8r9oGU2aJtP9SXaJumTHM/dIi5G5/Sdz+BoZA9rN57P2x+q1ii5n4/fHcxw1w8gD+M43+hbSuAP4K4SGxWhn4/bnVRJzqwWT8ThFnwbg1jPx+TQWYD0Go/G4UrijvmcT82eaHAR6x2P3vKMJFIP3s/95WgMcEQfz8MqxrXKM2APzLUmOLuPYE/XMnbgGzJgD8WDUo88gJ/P9KAzAhYG2A/UHQzAvOgZz/WfsFnJmlwP7L6PNWIlXU/kVhYv0Phej8qBekiSLJ/PyB8Sn/psYE/TB9YAge1gj+kpqcC8bmCPxEMAfjev4E/6upAfv/bfz+Q2LGdMydkP7Dea31hXmw/nVCa0Fv4cj8bD9kQvxp4P9cLffeLGX0/Pz6WakGwgD+TaYD2pC+CPwAowGU61II/FyhTh42Fgj+epALOYE+BP1u6OaOXvX4//uAmXJI1ZT8qdUPianZtP6dvRa+/eHM/wLI46F19eD9lHJjUxU59P2wwtIDEr4A/AloWYYIUgj+9DyVQ6aOCP4a6eIk+SYI/0KBUu6kRgT8BqXmTJ1J+P06gwqcwW2I/5CDROrfMaj9f4nAylIpyPxlknV6tUHg/BWUMCo84fj9ZG4EOocyBP3AkmfQH34M/daHJDXMGhT9C67bJeBWFP7O14GS+CYQ/OhrLn5IMgj9ao4OAPLRlPziIhUkM6G4/r5J2LIfgdD+JUnNMLsJ6P1kPuT7sRIA/VQ0hueXEgj+iDKALAYuEP8QJH1npVIU/OaHl7dUDhT/3+O/TOqSDP6pZGZ2maoE/pkGR66NdaD+0PCIgwzpxP9tzQDttEnc/i8BAFgBBfT+1dGxGh4+BP4aTjTlo9oM/Vsp2srN8hT/hSWUyM+aFP399eMkeIoU/hRsP2HtPgz+RAZT0E7WAP7Dea31hXmw/+ClW1Atecz9+VOr93h95P2N+6oZf934/JYLl5Xohgj8Hg7+i6SuEP4pQ6A5qUoU/eZBKS8BphT+gfEzxbW6EPxcoU4eNhYI/qmThsK/nfz8qmSR1QoJtP6KwC4em6XM/F6+Y0UySeT/6ThDHET9/P5VrKb4wKoI/3W0Y0JMYhD+zX9X2mCeFPzohylmDMIU/ACddBgcyhD/RY7gZmFCCP8itquy0m38/vhErnYYqbz+f4vRE/LV1PxvAMoMAq3w/ZRyeCDXwgT8aar6lqkaFPy5dRUqW6oc/wtB0lsx6iT8teO76F7qJP1NkhCGOnog/XE/BIBtUhj+T4tSdXDGDP3h/xccD13A/eZLM5zMFdz8ucDhdB9t9P/OU+I8ZXoI//in08/ZwhT9/gYzV/L6HP+oKi4lB84g/VV3B6xHfiD+eV8vHiIWHPyE/zJfGGoU/32SvCg/3gT9UzIAqKlFxP74sGyMUnHc/rN5W+4F6fj/a0g1wqKCCP1qW9L8yj4U/k0M3s3Gghz9GaWM6PISIP3xNQhqOFog/LmcR5Npohj/7kY4qgr2DP+DmCPYFd4A/nVCa0Fv4cj98VOr93h95P87MtGZdnX8/ZoOqOeTlgj/buzJ4IneFPx6/CrMmKoc/l3iLIDXAhz9+8LDe7CKHP3iQSkvAaYU/ACjAZTrUgj92R9di/XV/P2TfcPdzhnM/xbh31AGaeT+qJ349CfF/P0iG3Vay9YI/6W9eertqhT9kOsd2CQWHP08fAjD4ioc/BCKAah3phj8dKUlD5jaFPwJaoswHsYI/y8IXfChXfz8X43VAV8p3Pw5Qo/1hoX8/0UtfP6ztgz89jiFmo8yHP6g+PePu74o/v0h/6FbljD+4Mqx8m2CNP2G/7oRyTow/4lpPRHnZiT8mNacXW1+GPz0OlFX6WYI/smPDJ1L/dz8AMwXD7H1/P/+j0EelmoM//MkgQPonhz+v0VTVEfOJP0XW98i9los//KCAue/Tiz8uV7cjP6GKP8ppBf5HLYg/Flkkpw/ThD8mH0WCagSBP3HqQ+ruIHc/oIr8MCVmfj/FEbOvduqCP8qaAIxBSoY/KZiUStfeiD81E7AEbkaKP9Dd08q6SIo/gM1Qwl/liD/Z146jBFSGP7FARs4Q9oI/WbUjOSB+fj8aD9kQvxp4P2F+6oZf934/ZoOqOeTlgj/hHt2TMuqFP2swsz8YJYg/7uXxxDNGiT9TA5SUziKJP5d4iyA1wIc/iVDoDmpShT+TaYD2pC+CP7iVeUmBeX0/x647OImTeD/Ra/F2xU5/P/ICXGWB+YI/oFENRYTihT8KHQachQSIP3NPCg2bFIk/VMBNYq7riD9GXTzxso+HP7VSGWg6MoU/ThZXUOAkgj8VkTX2jI59P6hHq6pSVIA/wC+JmNm3hD/37PX/v+mIP2S2B4BlZIw/Hb4Lo6Gqjj+MNZfEeGSPP6+AboHidI4/p2W8UDcBjD9MefnVp2eIPzagVEUXKIQ/LOtYtFiOfz9cflCnXWd/P5sStfn3x4M/U637p3ekhz8+ze6xCM+KP0ofahEo14w/XXiK2ndvjT/PnqwMmoCMP16sCRAQL4o/e7eDxBbShj+gSZGSpd6CP9dwnS0Mm30/SWNuNYUGfT98ddHFgmOCP+Gz0V/TD4Y/nxbAH+wPiT8YASPcM/WKP3lyieTAdIs/M84Cfkh6ij/MZu3oZy2IP8d4gDFi54Q/7SQyVPocgT+l+5zV8Id6P9YLffeLGX0/JILl5Xohgj/buzJ4IneFP2swsz8YJYg/STqnoK7NiT9LNbcVGzOKP+7l8cQzRok/Hr8KsyYqhz8Hg7+i6SuEPz8+lmpBsIA/P+Bqek88ej97aODOQWx9Pwj1NXclNYI/Xqfe7y9xhT+M7TYT7waIP7auRLpOnok/El8qYaf9iT/1US7XHxeJP3QuB5b5C4c/SNGVuLIkhD+5qRQCjsCAP88/QTxQg3o/NqBURRcohD9MefnVp2eIP6dlvFA3AYw/r4BugeJ0jj+MNZfEeGSPPx2+C6Ohqo4/ZLYHgGVkjD/37PX/v+mIP8AviZjZt4Q/qEerqlJUgD9MYme5TGV4P6BJkZKl3oI/e7eDxBbShj9erAkQEC+KP8+erAyagIw/XXiK2ndvjT9KH2oRKNeMPz7N7rEIz4o/U637p3ekhz+bErX598eDP1x+UKddZ38/ZwcK8U+mdz/tJDJU+hyBP8d4gDFi54Q/zGbt6GctiD8zzgJ+SHqKP3lyieTAdIs/GAEj3DP1ij+fFsAf7A+JP+Gz0V/TD4Y/fHXRxYJjgj9JY241hQZ9P+GYRsK1sHU/Pz6WakGwgD8Hg7+i6SuEPx6/CrMmKoc/7uXxxDNGiT9LNbcVGzOKP0k6p6CuzYk/azCzPxgliD/buzJ4IneFPySC5eV6IYI/1gt994sZfT+PHynS3i92P7mpFAKOwIA/SNGVuLIkhD90LgeW+QuHP/VRLtcfF4k/El8qYaf9iT+2rkS6Tp6JP4ztNhPvBog/Xqfe7y9xhT8I9TV3JTWCP3to4M5BbH0/p1kDk+Oedj8mNacXW1+GP+JaT0R52Yk/Yb/uhHJOjD+4Mqx8m2CNP79If+hW5Yw/qD494+7vij89jiFmo8yHP9FLXz+s7YM/DlCj/WGhfz8X43VAV8p3P+HW7pBv9XA/Flkkpw/ThD/KaQX+Ry2IPy5XtyM/oYo//KCAue/Tiz9F1vfIvZaLP6/RVNUR84k//MkgQPonhz//o9BHpZqDPwAzBcPsfX8/smPDJ1L/dz9BYhk/TFlxP7FARs4Q9oI/2deOowRUhj+AzVDCX+WIP9Dd08q6SIo/NROwBG5Gij8pmJRK196IP8qaAIxBSoY/xRGzr3bqgj+givwwJWZ+P3HqQ+ruIHc/sBhzQ32pcD+TaYD2pC+CP4lQ6A5qUoU/l3iLIDXAhz9TA5SUziKJP+7l8cQzRok/azCzPxgliD/hHt2TMuqFP2aDqjnk5YI/YX7qhl/3fj8aD9kQvxp4P+QD66Gj03E/ThZXUOAkgj+1UhloOjKFP0ZdPPGyj4c/VMBNYq7riD9zTwoNmxSJPwodBpyFBIg/oFENRYTihT/yAlxlgfmCP9Fr8XbFTn8/x647OImTeD+SbfOOX1tyP1xPwSAbVIY/U2SEIY6eiD8teO76F7qJP8LQdJbMeok/Ll1FSpbqhz8aar6lqkaFP2Ucngg18IE/G8AygwCrfD+f4vRE/LV1P74RK52GKm8/vWWTaGkzZT8hP8yXxhqFP55Xy8eIhYc/VV3B6xHfiD/qCouJQfOIP3+BjNX8voc//in08/ZwhT/zlPiPGV6CPy5wOF0H230/eZLM5zMFdz94f8XHA9dwP+55A6/WX2c/+5GOKoK9gz8uZxHk2miGP3xNQhqOFog/RmljOjyEiD+TQzezcaCHP1qW9L8yj4U/2tINcKiggj+s3lb7gXp+P74sGyMUnHc/VMyAKipRcT9oSRUnqA1oPwAowGU61II/eJBKS8BphT9+8LDe7CKHP5d4iyA1wIc/Hr8KsyYqhz/buzJ4IneFP2aDqjnk5YI/zsy0Zl2dfz98VOr93h95P51QmtBb+HI/bOww4ok3az8CWqLMB7GCPx0pSUPmNoU/BCKAah3phj9PHwIw+IqHP2Q6x3YJBYc/6W9eertqhT9Iht1WsvWCP6onfj0J8X8/xbh31AGaeT9k33D3c4ZzPzfTbl+TVmw/s7XgZL4JhD9C67bJeBWFP3WhyQ1zBoU/cCSZ9Affgz9ZG4EOocyBPwVlDAqPOH4/GWSdXq1QeD9f4nAylIpyP+Qg0Tq3zGo/TqDCpzBbYj9KfA+HAdVXP/f479M6pIM/OaHl7dUDhT/ECR9Z6VSFP6IMoAsBi4Q/VQ0hueXEgj9ZD7k+7ESAP4lSc0wuwno/r5J2LIfgdD84iIVJDOhuP1qjg4A8tGU/I7lnbqHrXD+FGw/Ye0+DP399eMkeIoU/4UllMjPmhT9Wynays3yFP4aTjTlo9oM/tXRsRoePgT+LwEAWAEF9P9tzQDttEnc/tDwiIMM6cT+mQZHro11oP/EcZgc8UGA/FyhTh42Fgj+gfEzxbW6EP3mQSkvAaYU/ilDoDmpShT8Hg7+i6SuEPyWC5eV6IYI/Y37qhl/3fj9+VOr93h95P/gpVtQLXnM/sN5rfWFebD8q43txY71jP9FjuBmYUII/ACddBgcyhD86IcpZgzCFP7Nf1faYJ4U/3W0Y0JMYhD+Vaym+MCqCP/pOEMcRP38/F6+Y0UySeT+isAuHpulzPyqZJHVCgm0/LRal8gDOZD+M43+hbSuAP3x3McNcPIA/bH6rWKLmfj+BoZA9rN57P3SIuRuf0nc/1Jdom6ZMcz8r9oGU2aJtPz1PIUDSkGU/b9EKvAO/XT/h5L24ZnFTP8VFtTDLFkg/XMnbgGzJgD8y1Jji7j2BPwyrGtcozYA/95WgMcEQfz97yjCRSD97PzZ5ocBHrHY/G4UrijvmcT8fk0FmA9BqPxOEWfBuDWM/bnVRJzqwWT/M1Pz/DG5QPxEMAfjev4E/pKanAvG5gj9MH1gCB7WCPyB8Sn/psYE/KgXpIkiyfz+RWFi/Q+F6P7L6PNWIlXU/1n7BZyZpcD9QdDMC86BnP9KAzAhYG2A/dm/gAcPKVD+epALOYE+BPxcoU4eNhYI/ACjAZTrUgj+TaYD2pC+CPz8+lmpBsIA/1wt994sZfT8bD9kQvxp4P51QmtBb+HI/sN5rfWFebD+Q2LGdMydkP7BKXBJcNFs/0KBUu6kRgT+GuniJPkmCP70PJVDpo4I/AloWYYIUgj9sMLSAxK+AP2UcmNTFTn0/wLI46F19eD+nb0Wvv3hzPyp1Q+Jqdm0//uAmXJI1ZT9acy4UNQ5dP57WRb0Xd3c/l/xsxu57dj8RBKAVHWt0P65k3Z7dknE/rKRcz4qrbD+9h+DyIipmP6yMuk5vPWA/rcTOO/2NVj+dCSq8IrBNP8Kp/ceUhEI/SuSlfOLkNT8QkkS9r1l6P1jO3B9Q+3k/5sAWHANOeD+lHMOFAJJ1P3wkIjl7KXI/aiEwBTgEbT/IqHsvmP1lP/vL4eN2n18/KMsneUiSVT+xmA9zuetLP9BVvtChJEE/eMaPPMWofj8X7ck66S5/P/lMp1PrB34/gDDpK2xiez/ZLkF09KR3P2hAW3yOVHM/0glxhGPtbT85Nmd/k+9lP3w/d1excl4/YXjmVEICVD8Om91HcOZIP1u6OaOXvX4/qmThsK/nfz92R9di/XV/P7iVeUmBeX0/QOBqek88ej+RHynS3i92P+QD66Gj03E/bOww4ok3az8r43txY71jP7BKXBJcNFs/3pUiznnPUT/PPMyV8kJ+P7A0NsIxf38/2BGcYXwxfz8Pp7P/HWV9PzCTxQGAW3o/U2Kjout8dj8KSrbeo0FyP4YTjiGDNGw///FDmTy7ZD/6jAmPov9cP7HOH1NKTFM/aK0nOu0CYj9oDZxbQg9oP9Kk4qro1G4/bXvb4pbzcj93b2KBwVl2P2SJm36OSXk/1PAidkVyez87qwCVBpR8P7UXhOLri3w/xyAzf/Jaez9YupXexyV5P1FhZCYdUGE/kwss852lZz9S/kNVpOhuP5Dx1+3OVHM/yY4OXfYjdz+hM8CKMoJ6PwMulb19D30/YSVhM9B8fj9PJ0lu0Zt+P8jLkyeBaH0/GW6/cxAKez8hXG6VeIhgP82KyMMMT2c/+Om/RbZRbz+mOlb1xA10P4wjhuPPeXg/4eiN5ZZ4fD+rbeRFb5B/P3ztnjfzrIA/ZkTyjvPKgD+wKy+4/x2AP25mVBVUfH0/H0jAlbUZZj9Jm4zZFh5uPzrbmGGIlHM/BGXu6J5KeD8YjLeeDcF8PzPmGObaPIA/hzvPJ35/gT8VJ9ICxP2BP6Ci+EFkpoE/llq/31yFgD/qplH0fIJ9PxXVUPlSXGo/Nd3HmloycT8y0R8G8IB1P7LqpLxUxXk/i5GRn52ZfT/PUajWwkqAPzxMz7g9MIE/R4CUCj5hgT++gALgp9eAP2USDoUKSX8/vL1JgBzZez8lY97cwxVtP21qOO5w5nI/JL9APYmQdz/kZKlIcC98P/BS+gqnK4A/XiVf89XMgT80VtTVD8yCP8i8USnrCoM/aheDQr+Bgj9/eI0aLUGBP22fwJ+d3X4/Dq34xImzaz+A5qeB8VpyP4QmejVDR3c/KmCuantAfD+RZUGMDWiAP9iSvZ9BPII/+n9P+25lgz9CxUFMUL6DP55E4tVzO4M/HHlFLKftgT9QRWCR1/x/P4mvaxzG+2k//G6qxf21cT9KL3Qu3QJ3P/mBwqOdfnw/Xs3tkHvQgD9Hcv7kqemCPyX8OZxPRoQ/3V60VfK2hD/dzGUnwyuEP2Si1HtCuII/vM1QY8SOgD+uKbCwpM9uP9RLidYRb3Q/VG17tjnceT+Z3UK+/zl/P+UKGQwN/YE/n61PtEDGgz/9Ph77mr2EP0uTOT+cwYQ/kYAbbbfRgz+u7NracQ6CP2x29INNZH8/A01qwT2acT/linszP3t2P1EL+rmwhHs/vGyuySskgD82DKdF7yWCP6MSaTZLjoM/Kex5MTUyhD8ub0yOYv2DP/9hz2lp9oI/+MR/G2c9gT+1QNjFGwt+P5cEoUwjfHU/tJo4ktAqez+YH2ToSHqAPwbvOYDnLIM/OO6h4kNohT8eibXrTu2GP8b4fM9Sjoc/Lwj9Xcc3hz8TtelJN/SFP6jTgLQj6oM/85/IfHtUgT8U1keQr2J0P3n2T+A3Nno/rhtggm0ggD8BrC+fcf2CP2LwdCZVZoU/x33SoekThz/5B/jXFdGHP1sJlZSdhYc/gJvwfDs7hj9ZON6YkRuEP+td47qKZ4E/zciCVTbwcj+YxK6l5/Z4P9vfnuIfXX8/aaTr6/HGgj/e8eganW2FP22YyGpRToc/zQNghZ0oiD/7zb1kCt6HP+jcRygVeYY/t8mSfcMqhD/nAECslz+BP1xGd+tHYHQ/ByArxD1Oej8QmcMLljOAP7XTEeyfCoM/9Bgy9FRahT8tvuPmtNiGP+yds37NUoc/vF3XjN63hj++9YSJHx2FPyCYd836uII/HJ77lnGufz9fK/kDSGZ2P7+ANNsBAXw/y5fkl/HGgD+HhFDUIESDP9UW4XQ/NIU/unVFecNdhj9a1OdQXJyGP97ROxI86IU/XBGF4bBXhD9i0xixmhqCPwp68AoI4n4/g0LEl1AKfT8bBmt8FN2BPxwkaM9HFYU/5tMtCvbehz88phK6nu2JP3pkIKV0BIs/Yu6rm+YBiz+zueRpROaJP+YCJtau04c/UsxMG1cHhT+n9M9B5s2BP3EHY9ZWmXs/TunmEzc3gT+EUi05uY2EP0bjBbaoe4c/T5TxUP6siT8MffY1kN2KP7gs6Iuo5oo/5fHK0xrHiT8AoZeeg6OHP0HnFfWfvoQ/+3sBh/JrgT8IBgQONZt5P4sajoTFUYA/sSjT2UHTgz/1BaAaM/SGP+oqOXlBVIk/xvHVKnGjij9M50xIYbOKP0lDtWjTgYk/ebHuTDA5hz/PC/Vf3yaEP8/CU0J5qoA/6+I42XuReT//GD/sYhCAP9dinv9uQoM//Y2jwRQIhj/xRIyC8QuIP96TQG/PCok/QVXTJAPiiD+9IUFeKZeHP8hvjZfiVoU/PvpOnvFqgj8aP9GtglV+P4Fq0kfMKHs/3nct+WqegD9etIbA+32DP2P8nJdF6YU/hSOhlSKbhz9ADc2ivV+IP8OSlmu/Hog/aQWudULghj8gaU//KcuEP8gw9fNTHYI/d1+acp8/fj9cTIaIwfSBP28ArUQvfoU/K1fVQhyuiD/Au4RF+S+LP9NLiTA7u4w/63LLxdAgjT9I39vTWVSMPwHzV8qhboo/zc2KJa6ohz9Cre08vVCEPwlo9FIkvIA/ZQHFJ20vgT8HoVB5Sc2EP7BVUByvGIg/BDjbYj62ij8H5KlrXFaMPzsfcZK4xIw/IRbEuBrziz/ert7CZfyJP7SHCjTtHoc/Bf/Ev8Ovgz8UPyEHlAqAP/uOwlB5DoA/5myCLEPKgz8ZzkpYQT+HP7nZizTEBoo//KWQEUjFiz9qC8pSuj2MPySDTywuX4s/fLhXhsNIiT8NhwadgkKGP2o/N69urYI/5vzyYlTffT89unDzMHB+P0pKTFUJnYI/uArMlHm4hT+Bj3UWFS+IP0IzbZYJsYk/V1+/b5QKij995/JxZy+JP2XrwWNvPYc/UYtuPR92hD/iECudUjCBP7RQC53zjXs/ePq9Rppgfz+YPrOmWsuCP+hBMSMKlIU/qSRQvXm+hz95c9HEVgqJP+JxA6QdT4k/4PzpIDuEiD+ppIs2zsKGP2F0oj2LQIQ/3laDOTBFgT8AqfI/zDp8P0Kt7Ty9UIQ/zc2KJa6ohz8B81fKoW6KP0jf29NZVIw/63LLxdAgjT/TS4kwO7uMP8C7hEX5L4s/K1fVQhyuiD9vAK1EL36FP1xMhojB9IE/ORKsfEfIfD8F/8S/w6+DP7SHCjTtHoc/3q7ewmX8iT8hFsS4GvOLPzsfcZK4xIw/B+Spa1xWjD8EONtiPraKP7BVUByvGIg/B6FQeUnNhD9lAcUnbS+BP26FsnBaLHs/aj83r26tgj8NhwadgkKGP3y4V4bDSIk/JINPLC5fiz9qC8pSuj2MP/ylkBFIxYs/udmLNMQGij8ZzkpYQT+HP+ZsgixDyoM/+47CUHkOgD+/5TJF/NR4P+IQK51SMIE/UYtuPR92hD9l68Fjbz2HP33n8nFnL4k/V1+/b5QKij9CM22WCbGJP4GPdRYVL4g/uArMlHm4hT9KSkxVCZ2CPz26cPMwcH4/hA/yiv++dz/eVoM5MEWBP2F0oj2LQIQ/qaSLNs7Chj/g/OkgO4SIP+JxA6QdT4k/eXPRxFYKiT+pJFC9eb6HP+hBMSMKlIU/mD6zplrLgj94+r1GmmB/P9qv6fZWGnk/UsxMG1cHhT/mAibWrtOHP7O55GlE5ok/Yu6rm+YBiz96ZCCldASLPzymErqe7Yk/5tMtCvbehz8cJGjPRxWFPxsGa3wU3YE/g0LEl1AKfT8AxKDPG6V2P0HnFfWfvoQ/AKGXnoOjhz/l8crTGseJP7gs6Iuo5oo/DH32NZDdij9PlPFQ/qyJP0bjBbaoe4c/hFItObmNhD9O6eYTNzeBP3EHY9ZWmXs/13tKRLArdT/PC/Vf3yaEP3mx7kwwOYc/SUO1aNOBiT9M50xIYbOKP8bx1Spxo4o/6io5eUFUiT/1BaAaM/SGP7Eo09lB04M/ixqOhMVRgD8IBgQONZt5P+cPQnVvJXM/PvpOnvFqgj/Ib42X4laFP70hQV4pl4c/QVXTJAPiiD/ek0BvzwqJP/FEjILxC4g//Y2jwRQIhj/XYp7/bkKDP/8YP+xiEIA/6+I42XuReT9UEPbaI2pzP8gw9fNTHYI/IGlP/ynLhD9pBa51QuCGP8OSlmu/Hog/QA3Nor1fiD+FI6GVIpuHP2P8nJdF6YU/XrSGwPt9gz/edy35ap6AP4Fq0kfMKHs/8yRozP5EdT+o04C0I+qDPxO16Uk39IU/Lwj9Xcc3hz/G+HzPUo6HPx6JtetO7YY/OO6h4kNohT8G7zmA5yyDP5gfZOhIeoA/tJo4ktAqez+XBKFMI3x1Py4joZrSTHA/WTjemJEbhD+Am/B8OzuGP1sJlZSdhYc/+Qf41xXRhz/HfdKh6ROHP2LwdCZVZoU/Aawvn3H9gj+uG2CCbSCAP3n2T+A3Nno/FNZHkK9idD8/D1sXKVhuP7fJkn3DKoQ/6NxHKBV5hj/7zb1kCt6HP80DYIWdKIg/bZjIalFOhz/e8eganW2FP2mk6+vxxoI/29+e4h9dfz+YxK6l5/Z4P83IglU28HI/vUgD95xiaz8gmHfN+riCP771hIkfHYU/vF3XjN63hj/snbN+zVKHPy2+4+a02IY/9Bgy9FRahT+10xHsnwqDPxCZwwuWM4A/ByArxD1Oej9cRnfrR2B0P30sAnxRHm4/YtMYsZoagj9cEYXhsFeEP97ROxI86IU/WtTnUFychj+6dUV5w12GP9UW4XQ/NIU/h4RQ1CBEgz/Ll+SX8caAP7+ANNsBAXw/Xyv5A0hmdj/CHgtZ5StxP394jRotQYE/aheDQr+Bgj/IvFEp6wqDPzRW1NUPzII/XiVf89XMgT/wUvoKpyuAP+RkqUhwL3w/JL9APYmQdz9tajjucOZyPyVj3tzDFW0//brAnA94ZT8ceUUsp+2BP55E4tVzO4M/QsVBTFC+gz/6f0/7bmWDP9iSvZ9BPII/kWVBjA1ogD8qYK5qe0B8P4QmejVDR3c/gOangfFacj8OrfjEibNrP+qo9U/7AGQ/ZKLUe0K4gj/dzGUnwyuEP91etFXytoQ/Jfw5nE9GhD9Hcv7kqemCP17N7ZB70IA/+YHCo51+fD9KL3Qu3QJ3P/xuqsX9tXE/ia9rHMb7aT+AGaffYypiP67s2tpxDoI/kYAbbbfRgz9Lkzk/nMGEP/0+HvuavYQ/n61PtEDGgz/lChkMDf2BP5ndQr7/OX8/VG17tjnceT/US4nWEW90P64psLCkz24/2CAPCespZj/4xH8bZz2BP/9hz2lp9oI/Lm9MjmL9gz8p7HkxNTKEP6MSaTZLjoM/NgynRe8lgj+8bK7JKySAP1EL+rmwhHs/5Yp7Mz97dj8DTWrBPZpxP3cmVcIPa2o/xyAzf/Jaez+1F4Ti64t8PzurAJUGlHw/1PAidkVyez9kiZt+jkl5P3dvYoHBWXY/bXvb4pbzcj/SpOKq6NRuP2gNnFtCD2g/aK0nOu0CYj+3wZbu3t5ZP8jLkyeBaH0/TydJbtGbfj9hJWEz0Hx+PwMulb19D30/oTPAijKCej/Jjg5d9iN3P5Dx1+3OVHM/Uv5DVaTobj+TCyzznaVnP1FhZCYdUGE/BDTOC69CWD+wKy+4/x2AP2ZE8o7zyoA/fO2eN/OsgD+rbeRFb5B/P+HojeWWeHw/jCOG4895eD+mOlb1xA10P/jpv0W2UW8/zYrIwwxPZz8hXG6VeIhgPwMv6/93WlY/llq/31yFgD+govhBZKaBPxUn0gLE/YE/hzvPJ35/gT8z5hjm2jyAPxiMt54NwXw/BGXu6J5KeD8625hhiJRzP0mbjNkWHm4/H0jAlbUZZj81gn+lefJeP2USDoUKSX8/voAC4KfXgD9HgJQKPmGBPzxMz7g9MIE/z1Go1sJKgD+LkZGfnZl9P7LqpLxUxXk/MtEfBvCAdT813ceaWjJxPxXVUPlSXGo/Xsn0xhJdYz9pFLPVydZzPzXdnxOMJHQ/p+78i5Kecz8p3TMDH1VyP4FKsQHvbnA/oRd0MX1DbD9Q/hM6GFFnP7mIctsUdGI/FjSroGQFXD+OmuOAzmhUP3RWuOKIhUw/Aegcar4vdj/nCFemv2d2PyH6Ndsdp3U/vi9if34GdD8McA1MN7lxPyX9WG7VBW4/EsIZlqtVaD8oK9gEKuBiP+c0bm/TBVw/0BI3XQnoUz/B3EzcnhBLP7WLtz7lvXk/uCb8zEHveT/MQHglFOd4P8mHBnEjynY/+YGGu4ngcz+leHkx8YVwP4rW2sRoLmo/yrI38NbEYz89jZpQ/XNcP0dmQtXeg1M/JIfNhG2DST/kBKF4ha58P0mX/hD+0n0/L3Je3/iWfT+O0vk6twJ8P+q9IUGwTHk/N8RNVIXNdT+yUSuBdO1xP8HwjJZDIWw/1blPH5QOZT8xt43uLhReP9iX72Zrf1Q/DRYNSEMMez+x8Z4U5YF8P52o+ce9y3w/wFbNHZjgez/9mzh4j915P+4Et88jAHc/l+KBaiiacz9/S6Ar0gJwPzJUkIVLEWk/bpHT6KLOYj/RFDQU8QtbP+UiJS4z7GE/Wo2/zGqqZz8xhUJ5twRuP+jZmBTcSXI//p7T+CBodT91hv+c5xF4PwOMhZqo/3k/d4H/6eD5ej/68VTYVON6P5MAuz2uvnk/gOHZAvitdz9PikvTbZdlP8TZz/IeW2w/mE88bvnecT+ygvfqvJ51PxKJQOiRGnk/+VJHrAP6ez/gbbAto+x9P78E4WhzuH4/Wl+WBwBFfj8GakiUMKB8P7X97IqH+3k/ZO612PbEZD+FmKzSA4RrPwkPq3gKe3E/h7tGVDtNdT+4ttGUQOV4P0dnUEKf53s//waHw2D/fT9pFq0tbO1+PzmavC69lH4/GtaeujQAfT9caPlsZ2B6Px/qCr7pUmY/PcrX9xWsbT99bcU0euNyP0evSbTSCHc/Rec7/gvoej9745FnyRp+P3q1Gnm2IYA/kYmLblCPgD8m0j5qaUiAP3El1Ozmq34/+V8ADoKrez8Ufc50P1hnP7jHZ8jyJm8/nU930YXicz/Kh/0lKUl4P6sO3u0vYHw/K8rkpdW3fz+xDcQJh/WAP84xFxuJWYE/2bWCPP76gD9i1AS0Ssx/P34QqSKoe3w/t9q7T62DbT9kwuhlFfxyP2o91Yoldnc/yQZK3yvaez/BLPj4OMN/P/uJSVHUZYE/B1YU/fpOgj+0hTuCGoKCP0NehTcq+YE/lPxbpTrEgD+/Ypretwx+P5eg87VcFXA/1v9q9aaedD+1/fPcUl95P10Su4kB930/c/XClpT7gD+vfWG513mCPzW5EETHSoM/V2yuFI5Vgz8fg0BX35iCP0sWOow4K4E/ZJtG6/Fsfj9OB8AGmEBvP/PwCYj4LnQ/2KWnu7wAeT8Usl7Wj7R9PxqHZRiA7IA/1ccVaJl+gj87gRpFPmKDP1nZ7Rz2e4M/FKGQq5jIgj+bSska8V2BPwSeAvvGzH4/ltxMaYsFcD9djWPEQ8V0P5bMvrrNynk/CmQSxZStfj+qIaU4zHmBP2h/B0kvEoM/cx/Mdk3vgz9nA3H2m/WDPwUHGKZOJIM/sPgHd4KVgT8hAHt8xfF+P05YR9b5OXA/S2h21L8fdT9a7WEX8056P0IzFxN9WH8/+gO6ulzdgT92qVZ3HHuDP3YzAPGvUoQ/1ONwBHFIhD93msSVtF2DP9mkS8qBsIE/QJ+bIIXqfj+A/h9nMhd2P79GcusgsHs/qGLD2SSrgD/SNUWebUeDP+SNH52Ua4U/geaGabDchj8QbJ04p3CHP+fjv8YUFoc/pN6DI6fXhT86xtVqDNqDP8rp44j/VIE/41kjQKFIdj8vhI6EnON7P7O2UfwawIA/1x00fcpPgz+mcqjUhF6FP1rsInHtsYY/mBwgzT8ihz8vpkPs+KGGP8bbQJSDQIU/CAfJSCwngz/IemwAMpGAPykyj0Ib2HU/RV35WyuCez8jWe2QoZyAP5raDcbwPYM/AhbkyE9ghT9Z54pRdcaGP1j5y8HIRYc/inJxRrbOhj/MucLr0G+FP/gxZNbjUoM/eZtMR8O0gD+cheZ80Jt1PzqJFw+zUns/6hnwmteLgD8RzKFIDTKDP6J55xCVVIU/GbXAgCi0hj+4wYt0oyWHP8yyzSu3moY/o8tSK+EkhT8TXGfczPGCP9z8D4QoQoA/nSo4FE9cdT/lYYxqySB7P9O8IFroeoA/12vQJtcngz/0CkuaB02FP0xynfoFqYY/85rzA94Phz/9Q2ekOXSGP8jrqTY46oQ/WJkIdiijgj+kt5Opy8Z/P5QtKOxLD34/0DOMsolagj9rkLZop4eFP0LzcsDgQog/osWnozJDij8KkM2rLk+LPzFpHsKQR4s/lxcpQj8tij/pPfw2HiGIP66vh7fBXYU/Fpzjuqosgj9Yy8qKhrZ8P4Hism9VioE/fk/+T4mRhD9k5NN2QSaHP+u1lWqmAYk/MIYSPRXtiT9MJdDyccyJP73WrmKso4g/aEXcT/iVhj9mGkGD796DP5EqpKJ3x4A/v/FyD3RefD9ZOC3/UmqBPyORx7PEgYQ/YDre/7Aohz87A1P1XhWJPz8Ffb5SDoo/XS/9IVP1iT9A/6bZcc2IP+b60/tsuoY/IlP3q5X5gz+Kh1abLtaAP+g3gFxbYns/Fz6nyN7igD9II42pnvKDP4G/AGg4koY/pb7U2JZ2iD9udozefWWJP1ruf70KQYk/PxyM/dgNiD8eBZ9mDfKFPyP0sFqNLYM/dggR+ZMNgD9GVLiFkaB6P9DimAe/foA/Y4s9Hy2Ngz/e5ohDkCuGP3Px86XsDIg/2TpGBcD1iD+5wllQFsiIP4I320LeiYc/G8MDSaVjhT9qx1gdGpiCP1HRejGU7X4/kL4ezVWXgj92vh8dWx6GP/Ewh6RsR4k/OChdn9fAiz8rcOOTFkWNP7tu0e9Zp40/2srr+wncjD/UgEm9BvuKP1FEe1oLO4g/xouFJXDnhD8Pdo808VKBP36/Q7ElNIE/EkgFJtqEhD8VeCFRJ32HP6X34MGtzok/707hU982iz+cfDnAQIuLP+qy1eamwYo/QEeJoTryiD9jugXutVKGPxYwnUEmLIM/L1vYfsybfz/BBNXtIB2BP+JEiTZZfIQ/VudPRrSEhz9iKXltFOWJP/hgPOwuWIs/yvT8voCxiz8/Oqq2FeaKPxiu6tG9Dok/rpT7bBNjhj8mg2sYsy6DP+6cEVUQh38/DvWmINVNgD+Vmbi/n5yDP+StyBSvmIY/jXzu4h3wiD89TjS6t1yKPwoPj/Z2sYo/ETr8t6fjiT/346B8IA2IP9X+vHXtZoU/rHbZTfM9gj+19jubUsl9P1jvsWxpbn8/0l4oAsj+gj8/y8dD7faFP7taadk2TIg/0ZeGude2iT/G0bujywiKPwFseOluN4k/RADlQcNdhz+Dtpu7traEPw/eiT8ZkYE/VMYXS0uBfD/Gi4UlcOeEP1FEe1oLO4g/1IBJvQb7ij/ayuv7CdyMP7tu0e9Zp40/K3DjkxZFjT84KF2f18CLP/Ewh6RsR4k/dr4fHVsehj+Qvh7NVZeCPy4wWDqXBX4/FjCdQSYsgz9jugXutVKGP0BHiaE68og/6rLV5qbBij+cfDnAQIuLP+9O4VPfNos/pffgwa3OiT8VeCFRJ32HPxJIBSbahIQ/fr9DsSU0gT/N2vOwI7B7PyaDaxizLoM/rpT7bBNjhj8YrurRvQ6JPz86qrYV5oo/yvT8voCxiz/4YDzsLliLP2IpeW0U5Yk/VudPRrSEhz/iRIk2WXyEP8EE1e0gHYE/am8LfGFsez+sdtlN8z2CP9X+vHXtZoU/9+OgfCANiD8ROvy3p+OJPwoPj/Z2sYo/PU40urdcij+NfO7iHfCIP+StyBSvmIY/lZm4v5+cgz8O9aYg1U2APwftv1Y+93k/D96JPxmRgT+Dtpu7traEP0QA5UHDXYc/AWx46W43iT/G0bujywiKP9GXhrnXtok/u1pp2TZMiD8/y8dD7faFP9JeKALI/oI/WO+xbGlufz/nQP/9wuB4P66vh7fBXYU/6T38Nh4hiD+XFylCPy2KPzFpHsKQR4s/CpDNqy5Piz+ixaejMkOKP0LzcsDgQog/a5C2aKeHhT/QM4yyiVqCP5QtKOxLD34/DjASv4uldz9mGkGD796DP2hF3E/4lYY/vdauYqyjiD9MJdDyccyJPzCGEj0V7Yk/67WVaqYBiT9k5NN2QSaHP35P/k+JkYQ/geKyb1WKgT9Yy8qKhrZ8P1TprqNVjnY/IlP3q5X5gz/m+tP7bLqGP0D/ptlxzYg/XS/9IVP1iT8/BX2+Ug6KPzsDU/VeFYk/YDre/7Aohz8jkcezxIGEP1k4Lf9SaoE/v/FyD3RefD/82DZYCCl2PyP0sFqNLYM/HgWfZg3yhT8/HIz92A2IP1ruf70KQYk/bnaM3n1liT+lvtTYlnaIP4G/AGg4koY/SCONqZ7ygz8XPqfI3uKAP+g3gFxbYns/3Zxb+b1EdT9qx1gdGpiCPxvDA0mlY4U/gjfbQt6Jhz+5wllQFsiIP9k6RgXA9Yg/c/HzpewMiD/e5ohDkCuGP2OLPR8tjYM/0OKYB79+gD9GVLiFkaB6P7ZlrFt3j3Q/OsbVagzagz+k3oMjp9eFP+fjv8YUFoc/EGydOKdwhz+B5oZpsNyGP+SNH52Ua4U/0jVFnm1Hgz+oYsPZJKuAP79GcusgsHs/gP4fZzIXdj+pAah8RO5wPwgHyUgsJ4M/xttAlINAhT8vpkPs+KGGP5gcIM0/Ioc/Wuwice2xhj+mcqjUhF6FP9cdNH3KT4M/s7ZR/BrAgD8vhI6EnON7P+NZI0ChSHY/CCIPVcIWcT/4MWTW41KDP8y5wuvQb4U/inJxRrbOhj9Y+cvByEWHP1nnilF1xoY/AhbkyE9ghT+a2g3G8D2DPyNZ7ZChnIA/RV35WyuCez8pMo9CG9h1P4ByYkjfonA/E1xn3Mzxgj+jy1Ir4SSFP8yyzSu3moY/uMGLdKMlhz8ZtcCAKLSGP6J55xCVVIU/EcyhSA0ygz/qGfCa14uAPzqJFw+zUns/nIXmfNCbdT8Avtjkfl5wP1iZCHYoo4I/yOupNjjqhD/9Q2ekOXSGP/Oa8wPeD4c/THKd+gWphj/0CkuaB02FP9dr0CbXJ4M/07wgWuh6gD/lYYxqySB7P50qOBRPXHU/pjXt/TEXcD+U/FulOsSAP0NehTcq+YE/tIU7ghqCgj8HVhT9+k6CP/uJSVHUZYE/wSz4+DjDfz/JBkrfK9p7P2o91Yoldnc/ZMLoZRX8cj+32rtPrYNtPxoq5LXkCWY/SxY6jDgrgT8fg0BX35iCP1dsrhSOVYM/NbkQRMdKgz+vfWG513mCP3P1wpaU+4A/XRK7iQH3fT+1/fPcUl95P9b/avWmnnQ/l6DztVwVcD8zoVNQzBRoP5tKyRrxXYE/FKGQq5jIgj9Z2e0c9nuDPzuBGkU+YoM/1ccVaJl+gj8ah2UYgOyAPxSyXtaPtH0/2KWnu7wAeT/z8AmI+C50P04HwAaYQG8/PzOAypM0Zz+w+Ad3gpWBPwUHGKZOJIM/ZwNx9pv1gz9zH8x2Te+DP2h/B0kvEoM/qiGlOMx5gT8KZBLFlK1+P5bMvrrNynk/XY1jxEPFdD+W3ExpiwVwPyMqK9ThrGc/2aRLyoGwgT93msSVtF2DP9TjcARxSIQ/djMA8a9ShD92qVZ3HHuDP/oDurpc3YE/QjMXE31Yfz9a7WEX8056P0todtS/H3U/TlhH1vk5cD/xfCNfS9lnP5MAuz2uvnk/+vFU2FTjej93gf/p4Pl6PwOMhZqo/3k/dYb/nOcReD/+ntP4IGh1P+jZmBTcSXI/MYVCebcEbj9ajb/MaqpnP+UiJS4z7GE/dumcltwTWj8GakiUMKB8P1pflgcARX4/vwThaHO4fj/gbbAto+x9P/lSR6wD+ns/EolA6JEaeT+ygvfqvJ51P5hPPG753nE/xNnP8h5bbD9PikvTbZdlP4EnkV8oj18/GtaeujQAfT85mrwuvZR+P2kWrS1s7X4//waHw2D/fT9HZ1BCn+d7P7i20ZRA5Xg/h7tGVDtNdT8JD6t4CntxP4WYrNIDhGs/ZO612PbEZD9J2V4mKxJeP3El1Ozmq34/JtI+amlIgD+RiYtuUI+AP3q1Gnm2IYA/e+ORZ8kafj9F5zv+C+h6P0evSbTSCHc/fW3FNHrjcj89ytf3FaxtPx/qCr7pUmY/+TDLsWYWYD9i1AS0Ssx/P9m1gjz++oA/zjEXG4lZgT+xDcQJh/WAPyvK5KXVt38/qw7e7S9gfD/Kh/0lKUl4P51Pd9GF4nM/uMdnyPImbz8Ufc50P1hnP0NMxthxvGA/BphC9pv3cT+UVy6ASkhyPwdsiPbY3nE/oMiF3K7HcD9bfV6zbUVuP5j9nYa8Omo/5PPdwRPVZT/wvzna7HRhP/0NPcsd0Vo/D1XP22jJUz9OSbl/owxMPzUjFGuHMXY/JRnn+9rodj8wqzgWobJ2PyXdJ2BjlXU/paUyCdqycz+zFweqXUFxPydIegezA20/qcr3H55pZz9Ndz0w6yFiPzXC1ej29Fo/bWOydmg7Uz9nWWZUyX52PyoLxLuFIHc/ui+LqarNdj9DIbmYYJB1Pz3mVvqpjnM/Dbkdx+YCcT8UuKcq4mFsPzzhPBc/tWY/2GeBTKlsYT9DSpGtYaVZP0bfGa/WGVI/9J4YrXwieT9Q1Pymdwd6PyFbokrD0Xk/nX50DSmIeD9oD7sQglN2P3jb0UNldnM/jPlCaUNAcD8zv3Sww/5pP0Fn6gAq6mM/cTXKkBw6XT+8ewj8AYtUPx/bJc0rEHs/zwsgq5AyfD/SJwuHSht8P6VHfLJfzXo/sth6qX1zeD/xRzIVA1d1P8Egqt9R0XE/978/9ut2bD+EmtGMbsBlP6/E8/q7zV8/GNd5xj4+Vj8=\",\"dtype\":\"float64\",\"order\":\"little\",\"shape\":[55,55]}],\"x\":[0],\"y\":[0]},\"selected\":{\"id\":\"1165\"},\"selection_policy\":{\"id\":\"1164\"}},\"id\":\"1106\",\"type\":\"ColumnDataSource\"},{\"attributes\":{},\"id\":\"1164\",\"type\":\"UnionRenderers\"},{\"attributes\":{\"color_mapper\":{\"id\":\"1105\"},\"dh\":{\"field\":\"dh\",\"units\":\"data\"},\"dw\":{\"field\":\"dw\",\"units\":\"data\"},\"global_alpha\":0.1,\"image\":{\"field\":\"image\"},\"x\":{\"field\":\"x\"},\"y\":{\"field\":\"y\"}},\"id\":\"1147\",\"type\":\"Image\"},{\"attributes\":{},\"id\":\"1165\",\"type\":\"Selection\"},{\"attributes\":{\"data_source\":{\"id\":\"1106\"},\"glyph\":{\"id\":\"1146\"},\"hover_glyph\":null,\"muted_glyph\":null,\"nonselection_glyph\":{\"id\":\"1147\"},\"selection_glyph\":null,\"view\":{\"id\":\"1149\"}},\"id\":\"1148\",\"type\":\"GlyphRenderer\"},{\"attributes\":{\"color_mapper\":{\"id\":\"1105\"},\"dh\":{\"field\":\"dh\",\"units\":\"data\"},\"dw\":{\"field\":\"dw\",\"units\":\"data\"},\"image\":{\"field\":\"image\"},\"x\":{\"field\":\"x\"},\"y\":{\"field\":\"y\"}},\"id\":\"1146\",\"type\":\"Image\"}],\"root_ids\":[\"1107\"]},\"title\":\"Bokeh Application\",\"version\":\"2.1.1\"}};\n",
       "  var render_items = [{\"docid\":\"ead2184c-ee98-4f34-aa68-14ff667313e9\",\"root_ids\":[\"1107\"],\"roots\":{\"1107\":\"c4841f5f-34e9-4c60-9309-ccc2d4c5845d\"}}];\n",
       "  root.Bokeh.embed.embed_items_notebook(docs_json, render_items);\n",
       "\n",
       "  }\n",
       "  if (root.Bokeh !== undefined) {\n",
       "    embed_document(root);\n",
       "  } else {\n",
       "    var attempts = 0;\n",
       "    var timer = setInterval(function(root) {\n",
       "      if (root.Bokeh !== undefined) {\n",
       "        clearInterval(timer);\n",
       "        embed_document(root);\n",
       "      } else {\n",
       "        attempts++;\n",
       "        if (attempts > 100) {\n",
       "          clearInterval(timer);\n",
       "          console.log(\"Bokeh: ERROR: Unable to run BokehJS code because BokehJS library is missing\");\n",
       "        }\n",
       "      }\n",
       "    }, 10, root)\n",
       "  }\n",
       "})(window);"
      ],
      "application/vnd.bokehjs_exec.v0+json": ""
     },
     "metadata": {
      "application/vnd.bokehjs_exec.v0+json": {
       "id": "1107"
      }
     },
     "output_type": "display_data"
    }
   ],
   "source": [
    "for ch_i in range(run.ims_import.n_channels):\n",
    "    hd(\"h2\", f\"Channel {ch_i}\")\n",
    "    reg_psf = run.sigproc_v2.calib.psfs(ch_i=ch_i)\n",
    "    check.t(reg_psf, RegPSF)\n",
    "    psf_ims = reg_psf.render()\n",
    "    plots_sigproc.plot_psfs(psf_ims, scale=3.0, f_title=f\"ch_i={ch_i}\", _noaxes=True, _notools=True)"
   ]
  },
  {
   "cell_type": "markdown",
   "metadata": {},
   "source": [
    "# Illumination Balance"
   ]
  },
  {
   "cell_type": "code",
   "execution_count": 5,
   "metadata": {},
   "outputs": [
    {
     "data": {
      "text/html": [
       "<h2 id='' class=''>Channel 0</h2>"
      ],
      "text/plain": [
       "<IPython.core.display.HTML object>"
      ]
     },
     "metadata": {},
     "output_type": "display_data"
    },
    {
     "data": {
      "text/html": [
       "\n",
       "\n",
       "\n",
       "\n",
       "\n",
       "\n",
       "  <div class=\"bk-root\" id=\"fcf3eb6b-194f-48e9-be1c-b50b99f7ad59\" data-root-id=\"1262\"></div>\n"
      ]
     },
     "metadata": {},
     "output_type": "display_data"
    },
    {
     "data": {
      "application/javascript": [
       "(function(root) {\n",
       "  function embed_document(root) {\n",
       "    \n",
       "  var docs_json = {\"07da068a-6f4b-4793-973c-7a5de4f5fee3\":{\"roots\":{\"references\":[{\"attributes\":{\"children\":[{\"id\":\"1261\"},{\"id\":\"1259\"}]},\"id\":\"1262\",\"type\":\"Column\"},{\"attributes\":{\"active_drag\":\"auto\",\"active_inspect\":\"auto\",\"active_multi\":null,\"active_scroll\":\"auto\",\"active_tap\":\"auto\",\"logo\":null,\"tools\":[{\"id\":\"1227\"},{\"id\":\"1228\"},{\"id\":\"1229\"},{\"id\":\"1230\"},{\"id\":\"1231\"},{\"id\":\"1232\"},{\"id\":\"1241\"}]},\"id\":\"1234\",\"type\":\"Toolbar\"},{\"attributes\":{},\"id\":\"1255\",\"type\":\"UnionRenderers\"},{\"attributes\":{\"toolbar\":{\"id\":\"1260\"},\"toolbar_location\":\"above\"},\"id\":\"1261\",\"type\":\"ToolbarBox\"},{\"attributes\":{},\"id\":\"1228\",\"type\":\"WheelZoomTool\"},{\"attributes\":{},\"id\":\"1256\",\"type\":\"Selection\"},{\"attributes\":{\"text\":\"\"},\"id\":\"1249\",\"type\":\"Title\"},{\"attributes\":{\"toolbars\":[{\"id\":\"1234\"}],\"tools\":[{\"id\":\"1227\"},{\"id\":\"1228\"},{\"id\":\"1229\"},{\"id\":\"1230\"},{\"id\":\"1231\"},{\"id\":\"1232\"},{\"id\":\"1241\"}]},\"id\":\"1260\",\"type\":\"ProxyToolbar\"},{\"attributes\":{\"children\":[[{\"id\":\"1210\"},0,0]]},\"id\":\"1259\",\"type\":\"GridBox\"},{\"attributes\":{\"source\":{\"id\":\"1209\"}},\"id\":\"1248\",\"type\":\"CDSView\"},{\"attributes\":{},\"id\":\"1251\",\"type\":\"BasicTickFormatter\"},{\"attributes\":{\"data\":{\"dh\":[10],\"dw\":[10],\"image\":[{\"__ndarray__\":\"ZVED4OVE6j8nIqFvO/PpP9o6Odi6xes/TafGbydQ7T/xczl+YW/tPwZNzqu5Au4/vnbcVRyF7T8J3IyYRvbsP05eB9lpJ+0/NNDGL1dc7T/XVf+ARI3pP2jhbYgYn+o/Pbqm46Jk7D8XBU2b/X/tPwsJRsSZIu4/jw4Tsg+E7j+hzDoATqDtP0JrDCmwhe0/RjL+W6SM7D8jNepkDSPtPwxWHZfw3Oo/oBgk6XFa6z97vePihjDtP0jYcsx50e4/tV/p3ycS7z9u23WjSVvvP4eo1kzI6e4/eFCZ4VNL7j9uV3qZEXntP9DbdcsIYe0/QvqQrJk07D+QgWG7VFvsP9R3/mqJ3ew/1grKOrAI7j/1oCxNSlrvP+yDnGGX0+8/b5zszcca7z+QbLPEWHTuP0NJPyFZhu0/BZlRfy+P7T9SYBBzM1rrPzMVicWLPew/akKVieZ67T8+5wHSmnjuPwAAAAAAAPA/fn4cjS/97z9AnKYBp+bvP9grRNziLe8/q0n6HHk17j8jVPUTZL3tP+JTPlncwOo/R8Ob//qD6z/rW0wi/W/tP/b6udUDWO4/ISWDL2bg7j/T/NETq93vP/tfBC72xu8/c5gb6wVK7z/DmLtkYJHtP4IdwRI5ru0/8k0cZK1a6z8dEln83DXsP9CC/uDSt+0/u9x6u+TJ7T/tHV4a2YPtPwu1PcgR9O4/d55pJucG7z/4RjmKWxHvP3sdS1Ms6+0/hbrN3BN27T+zJE0MQJnrP7SJjxB8uOw/Jm7myWT16z+tmF/KKd7tP+ySDG0GTu0/AZrztqmt7T+RXA3+UiPuPz+7Mpn/qe0/RJ0j0uqk7T9mF1mAuR/tPxWwLTdsduo/HdQuV3NO6z/V5GUYAzfsP+Uu4pCRw+s/UUpKlqdd6z8ivEYpGmjsP0+Is+WlPew/+ujWOfK97D+zYCTC8PTsP9hqN2O//Os/cvbMkPUR6j9YNXZSbp/qPxg7SqYhKOw/SHfQKjpO6z8B0j04LkvrP4nb0PpjS+s/sXjhVMnu6z/i26TJKAjsP5IBzUNneOw/scUFC8pa7D8=\",\"dtype\":\"float64\",\"order\":\"little\",\"shape\":[10,10]}],\"x\":[0],\"y\":[0]},\"selected\":{\"id\":\"1256\"},\"selection_policy\":{\"id\":\"1255\"}},\"id\":\"1209\",\"type\":\"ColumnDataSource\"},{\"attributes\":{},\"id\":\"1211\",\"type\":\"DataRange1d\"},{\"attributes\":{\"data_source\":{\"id\":\"1209\"},\"glyph\":{\"id\":\"1245\"},\"hover_glyph\":null,\"muted_glyph\":null,\"nonselection_glyph\":{\"id\":\"1246\"},\"selection_glyph\":null,\"view\":{\"id\":\"1248\"}},\"id\":\"1247\",\"type\":\"GlyphRenderer\"},{\"attributes\":{\"below\":[{\"id\":\"1219\"}],\"center\":[{\"id\":\"1222\"},{\"id\":\"1226\"}],\"left\":[{\"id\":\"1223\"}],\"plot_height\":350,\"plot_width\":350,\"renderers\":[{\"id\":\"1247\"}],\"title\":{\"id\":\"1249\"},\"toolbar\":{\"id\":\"1234\"},\"toolbar_location\":null,\"x_range\":{\"id\":\"1211\"},\"x_scale\":{\"id\":\"1215\"},\"y_range\":{\"id\":\"1213\"},\"y_scale\":{\"id\":\"1217\"}},\"id\":\"1210\",\"subtype\":\"Figure\",\"type\":\"Plot\"},{\"attributes\":{},\"id\":\"1253\",\"type\":\"BasicTickFormatter\"},{\"attributes\":{\"axis\":{\"id\":\"1219\"},\"ticker\":null},\"id\":\"1222\",\"type\":\"Grid\"},{\"attributes\":{\"callback\":null,\"tooltips\":[[\"x\",\"$x{0,0.0}\"],[\"y\",\"$y{0,0.0}\"],[\"value\",\"@image{0,0.0}\"]]},\"id\":\"1241\",\"type\":\"HoverTool\"},{\"attributes\":{\"high\":1.1004464505892397,\"low\":0.0,\"palette\":[\"#440154\",\"#440255\",\"#440357\",\"#450558\",\"#45065A\",\"#45085B\",\"#46095C\",\"#460B5E\",\"#460C5F\",\"#460E61\",\"#470F62\",\"#471163\",\"#471265\",\"#471466\",\"#471567\",\"#471669\",\"#47186A\",\"#48196B\",\"#481A6C\",\"#481C6E\",\"#481D6F\",\"#481E70\",\"#482071\",\"#482172\",\"#482273\",\"#482374\",\"#472575\",\"#472676\",\"#472777\",\"#472878\",\"#472A79\",\"#472B7A\",\"#472C7B\",\"#462D7C\",\"#462F7C\",\"#46307D\",\"#46317E\",\"#45327F\",\"#45347F\",\"#453580\",\"#453681\",\"#443781\",\"#443982\",\"#433A83\",\"#433B83\",\"#433C84\",\"#423D84\",\"#423E85\",\"#424085\",\"#414186\",\"#414286\",\"#404387\",\"#404487\",\"#3F4587\",\"#3F4788\",\"#3E4888\",\"#3E4989\",\"#3D4A89\",\"#3D4B89\",\"#3D4C89\",\"#3C4D8A\",\"#3C4E8A\",\"#3B508A\",\"#3B518A\",\"#3A528B\",\"#3A538B\",\"#39548B\",\"#39558B\",\"#38568B\",\"#38578C\",\"#37588C\",\"#37598C\",\"#365A8C\",\"#365B8C\",\"#355C8C\",\"#355D8C\",\"#345E8D\",\"#345F8D\",\"#33608D\",\"#33618D\",\"#32628D\",\"#32638D\",\"#31648D\",\"#31658D\",\"#31668D\",\"#30678D\",\"#30688D\",\"#2F698D\",\"#2F6A8D\",\"#2E6B8E\",\"#2E6C8E\",\"#2E6D8E\",\"#2D6E8E\",\"#2D6F8E\",\"#2C708E\",\"#2C718E\",\"#2C728E\",\"#2B738E\",\"#2B748E\",\"#2A758E\",\"#2A768E\",\"#2A778E\",\"#29788E\",\"#29798E\",\"#287A8E\",\"#287A8E\",\"#287B8E\",\"#277C8E\",\"#277D8E\",\"#277E8E\",\"#267F8E\",\"#26808E\",\"#26818E\",\"#25828E\",\"#25838D\",\"#24848D\",\"#24858D\",\"#24868D\",\"#23878D\",\"#23888D\",\"#23898D\",\"#22898D\",\"#228A8D\",\"#228B8D\",\"#218C8D\",\"#218D8C\",\"#218E8C\",\"#208F8C\",\"#20908C\",\"#20918C\",\"#1F928C\",\"#1F938B\",\"#1F948B\",\"#1F958B\",\"#1F968B\",\"#1E978A\",\"#1E988A\",\"#1E998A\",\"#1E998A\",\"#1E9A89\",\"#1E9B89\",\"#1E9C89\",\"#1E9D88\",\"#1E9E88\",\"#1E9F88\",\"#1EA087\",\"#1FA187\",\"#1FA286\",\"#1FA386\",\"#20A485\",\"#20A585\",\"#21A685\",\"#21A784\",\"#22A784\",\"#23A883\",\"#23A982\",\"#24AA82\",\"#25AB81\",\"#26AC81\",\"#27AD80\",\"#28AE7F\",\"#29AF7F\",\"#2AB07E\",\"#2BB17D\",\"#2CB17D\",\"#2EB27C\",\"#2FB37B\",\"#30B47A\",\"#32B57A\",\"#33B679\",\"#35B778\",\"#36B877\",\"#38B976\",\"#39B976\",\"#3BBA75\",\"#3DBB74\",\"#3EBC73\",\"#40BD72\",\"#42BE71\",\"#44BE70\",\"#45BF6F\",\"#47C06E\",\"#49C16D\",\"#4BC26C\",\"#4DC26B\",\"#4FC369\",\"#51C468\",\"#53C567\",\"#55C666\",\"#57C665\",\"#59C764\",\"#5BC862\",\"#5EC961\",\"#60C960\",\"#62CA5F\",\"#64CB5D\",\"#67CC5C\",\"#69CC5B\",\"#6BCD59\",\"#6DCE58\",\"#70CE56\",\"#72CF55\",\"#74D054\",\"#77D052\",\"#79D151\",\"#7CD24F\",\"#7ED24E\",\"#81D34C\",\"#83D34B\",\"#86D449\",\"#88D547\",\"#8BD546\",\"#8DD644\",\"#90D643\",\"#92D741\",\"#95D73F\",\"#97D83E\",\"#9AD83C\",\"#9DD93A\",\"#9FD938\",\"#A2DA37\",\"#A5DA35\",\"#A7DB33\",\"#AADB32\",\"#ADDC30\",\"#AFDC2E\",\"#B2DD2C\",\"#B5DD2B\",\"#B7DD29\",\"#BADE27\",\"#BDDE26\",\"#BFDF24\",\"#C2DF22\",\"#C5DF21\",\"#C7E01F\",\"#CAE01E\",\"#CDE01D\",\"#CFE11C\",\"#D2E11B\",\"#D4E11A\",\"#D7E219\",\"#DAE218\",\"#DCE218\",\"#DFE318\",\"#E1E318\",\"#E4E318\",\"#E7E419\",\"#E9E419\",\"#ECE41A\",\"#EEE51B\",\"#F1E51C\",\"#F3E51E\",\"#F6E61F\",\"#F8E621\",\"#FAE622\",\"#FDE724\"]},\"id\":\"1208\",\"type\":\"LinearColorMapper\"},{\"attributes\":{},\"id\":\"1217\",\"type\":\"LinearScale\"},{\"attributes\":{},\"id\":\"1213\",\"type\":\"DataRange1d\"},{\"attributes\":{},\"id\":\"1215\",\"type\":\"LinearScale\"},{\"attributes\":{},\"id\":\"1224\",\"type\":\"BasicTicker\"},{\"attributes\":{\"formatter\":{\"id\":\"1251\"},\"ticker\":{\"id\":\"1224\"}},\"id\":\"1223\",\"type\":\"LinearAxis\"},{\"attributes\":{\"formatter\":{\"id\":\"1253\"},\"ticker\":{\"id\":\"1220\"}},\"id\":\"1219\",\"type\":\"LinearAxis\"},{\"attributes\":{\"color_mapper\":{\"id\":\"1208\"},\"dh\":{\"field\":\"dh\",\"units\":\"data\"},\"dw\":{\"field\":\"dw\",\"units\":\"data\"},\"image\":{\"field\":\"image\"},\"x\":{\"field\":\"x\"},\"y\":{\"field\":\"y\"}},\"id\":\"1245\",\"type\":\"Image\"},{\"attributes\":{\"axis\":{\"id\":\"1223\"},\"dimension\":1,\"ticker\":null},\"id\":\"1226\",\"type\":\"Grid\"},{\"attributes\":{},\"id\":\"1220\",\"type\":\"BasicTicker\"},{\"attributes\":{\"bottom_units\":\"screen\",\"fill_alpha\":0.5,\"fill_color\":\"lightgrey\",\"left_units\":\"screen\",\"level\":\"overlay\",\"line_alpha\":1.0,\"line_color\":\"black\",\"line_dash\":[4,4],\"line_width\":2,\"right_units\":\"screen\",\"top_units\":\"screen\"},\"id\":\"1233\",\"type\":\"BoxAnnotation\"},{\"attributes\":{},\"id\":\"1230\",\"type\":\"SaveTool\"},{\"attributes\":{},\"id\":\"1227\",\"type\":\"PanTool\"},{\"attributes\":{\"color_mapper\":{\"id\":\"1208\"},\"dh\":{\"field\":\"dh\",\"units\":\"data\"},\"dw\":{\"field\":\"dw\",\"units\":\"data\"},\"global_alpha\":0.1,\"image\":{\"field\":\"image\"},\"x\":{\"field\":\"x\"},\"y\":{\"field\":\"y\"}},\"id\":\"1246\",\"type\":\"Image\"},{\"attributes\":{\"overlay\":{\"id\":\"1233\"}},\"id\":\"1229\",\"type\":\"BoxZoomTool\"},{\"attributes\":{},\"id\":\"1231\",\"type\":\"ResetTool\"},{\"attributes\":{},\"id\":\"1232\",\"type\":\"HelpTool\"}],\"root_ids\":[\"1262\"]},\"title\":\"Bokeh Application\",\"version\":\"2.1.1\"}};\n",
       "  var render_items = [{\"docid\":\"07da068a-6f4b-4793-973c-7a5de4f5fee3\",\"root_ids\":[\"1262\"],\"roots\":{\"1262\":\"fcf3eb6b-194f-48e9-be1c-b50b99f7ad59\"}}];\n",
       "  root.Bokeh.embed.embed_items_notebook(docs_json, render_items);\n",
       "\n",
       "  }\n",
       "  if (root.Bokeh !== undefined) {\n",
       "    embed_document(root);\n",
       "  } else {\n",
       "    var attempts = 0;\n",
       "    var timer = setInterval(function(root) {\n",
       "      if (root.Bokeh !== undefined) {\n",
       "        clearInterval(timer);\n",
       "        embed_document(root);\n",
       "      } else {\n",
       "        attempts++;\n",
       "        if (attempts > 100) {\n",
       "          clearInterval(timer);\n",
       "          console.log(\"Bokeh: ERROR: Unable to run BokehJS code because BokehJS library is missing\");\n",
       "        }\n",
       "      }\n",
       "    }, 10, root)\n",
       "  }\n",
       "})(window);"
      ],
      "application/vnd.bokehjs_exec.v0+json": ""
     },
     "metadata": {
      "application/vnd.bokehjs_exec.v0+json": {
       "id": "1262"
      }
     },
     "output_type": "display_data"
    }
   ],
   "source": [
    "for ch_i in range(run.ims_import.n_channels):\n",
    "    with z(_cols=6):\n",
    "        key = f\"regional_illumination_balance.instrument_channel[{ch_i}]\"\n",
    "        val = run.sigproc_v2.calib.get(key)\n",
    "        if val is not None:\n",
    "            hd(\"h2\", f\"Channel {ch_i}\")\n",
    "            bal = np.array(val)\n",
    "            z.im(1.0 / bal)\n",
    "        else:\n",
    "            print(f\"No illumination balance on channel {ch_i}\")"
   ]
  },
  {
   "cell_type": "code",
   "execution_count": null,
   "metadata": {},
   "outputs": [],
   "source": []
  }
 ],
 "metadata": {
  "kernelspec": {
   "display_name": "Python 3",
   "language": "python",
   "name": "python3"
  },
  "language_info": {
   "codemirror_mode": {
    "name": "ipython",
    "version": 3
   },
   "file_extension": ".py",
   "mimetype": "text/x-python",
   "name": "python",
   "nbconvert_exporter": "python",
   "pygments_lexer": "ipython3",
   "version": "3.8.5"
  }
 },
 "nbformat": 4,
 "nbformat_minor": 4
}
