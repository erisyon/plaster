{
 "cells": [
  {
   "cell_type": "code",
   "execution_count": null,
   "metadata": {},
   "outputs": [],
   "source": [
    "# @REMOVE-FROM-TEMPLATE\n",
    "from plaster.tools.ipynb_helpers.displays import restart_kernel; restart_kernel()"
   ]
  },
  {
   "cell_type": "code",
   "execution_count": null,
   "metadata": {},
   "outputs": [],
   "source": [
    "# @IMPORT-MERGE\n",
    "import numpy as np\n",
    "import pandas as pd\n",
    "import itertools\n",
    "import cv2\n",
    "import random\n",
    "from scipy.stats import norm, lognorm\n",
    "from IPython.display import HTML, display\n",
    "from plaster.tools.log.log import error, debug\n",
    "from plaster.run.job import JobResult\n",
    "from plaster.run.run import RunResult\n",
    "from plaster.run.sigproc_v2 import sigproc_v2_worker as worker\n",
    "from plaster.run.sigproc_v2.sigproc_v2_result import df_filter, radmat_from_df_filter, df_to_radmat\n",
    "from plaster.run.sigproc_v2 import fg\n",
    "from plaster.run.plots import plots, plots_dev\n",
    "from plaster.run.plots.plots_sigproc import plot_psfs, circle_locs, sigproc_v2_im, sigproc_v2_movie_from_df, sigproc_v2_im_from_df\n",
    "from plaster.run.plots.plots_sigproc import wizard_xy_df, wizard_scat_df, wizard_raw_images\n",
    "from plaster.run.sigproc_v2.synth import Synth\n",
    "from plaster.tools.image.coord import WH, XY, roi_shift, clip2d\n",
    "from plaster.tools.utils import data\n",
    "from plaster.tools.zplots import zplots\n",
    "from plaster.tools.schema import check\n",
    "from plaster.tools.image import imops\n",
    "from plaster.tools.zap import zap\n",
    "from plaster.tools.utils import utils\n",
    "from plaster.tools.utils import data\n",
    "from plaster.tools.calibration.calibration import Calibration\n",
    "from plaster.tools.ipynb_helpers.displays import hd, movie\n",
    "z = zplots.setup()"
   ]
  },
  {
   "cell_type": "code",
   "execution_count": null,
   "metadata": {},
   "outputs": [],
   "source": [
    "# @REMOVE-FROM-TEMPLATE\n",
    "from plumbum import local\n",
    "job = JobResult(\"/erisyon/internal/jobs_folder/new_abbe7_1t\")\n",
    "run = job.runs[0]"
   ]
  },
  {
   "cell_type": "code",
   "execution_count": null,
   "metadata": {},
   "outputs": [],
   "source": [
    "run.sigproc_v2.fields()"
   ]
  },
  {
   "cell_type": "code",
   "execution_count": null,
   "metadata": {},
   "outputs": [],
   "source": [
    "debug(run.sigproc_v2.params.run_focal_adjustments)\n",
    "n_channels = run.sigproc_v2.n_channels\n",
    "n_cycles = run.sigproc_v2.n_cycles\n",
    "sigproc_df = run.sigproc_v2.fields__n_peaks__peaks__radmat()\n",
    "assert n_channels == 1\n",
    "sig = radmat_from_df_filter(sigproc_df, channel_i=0)\n",
    "\n",
    "with z(_size=500):\n",
    "    z.im_clus(sig, _cspan=(0, 20000))\n",
    "    z.hist(sig, _bins=(-1000, 20000, 1000))\n",
    "    bright_sig = np.where((sig > 5000) & (sig < 10_000), sig, np.nan)\n",
    "    z.cols(np.nanmedian(bright_sig, axis=0))"
   ]
  },
  {
   "cell_type": "code",
   "execution_count": null,
   "metadata": {},
   "outputs": [],
   "source": [
    "sigma_x = run.sigproc_v2.fitmat()[:, 0, :, 1]\n",
    "sigma_x = sigma_x[sigma_x > 0]\n",
    "z.hist(sigma_x, _bins=(0, 4, 100))"
   ]
  },
  {
   "cell_type": "code",
   "execution_count": null,
   "metadata": {},
   "outputs": [],
   "source": [
    "sigma_x = run.sigproc_v2.fitmat()[:, 0, :, 1].flatten()\n",
    "sigma_y = run.sigproc_v2.fitmat()[:, 0, :, 2].flatten()\n",
    "z.scat(x=sigma_x, y=sigma_y, alpha=0.01, _range=(0.5, 2, 0.5, 2))"
   ]
  },
  {
   "cell_type": "code",
   "execution_count": null,
   "metadata": {},
   "outputs": [],
   "source": [
    "# Examine relationship between radiometry and sigma\n",
    "cy_i = 5\n",
    "sigma_x = run.sigproc_v2.fitmat()[:, 0, cy_i, 1]\n",
    "sigma_y = run.sigproc_v2.fitmat()[:, 0, cy_i, 2]\n",
    "fit_amp = run.sigproc_v2.fitmat()[:, 0, cy_i, 0]\n",
    "rad = run.sigproc_v2.sig()[:, 0, cy_i]\n",
    "\n",
    "with z(_cols=2):\n",
    "    z.scat(x=rad.flatten(), y=fit_amp.flatten(), _range=(0, 1e4, 0, 1e4), alpha=0.1)\n",
    "    z.scat(x=rad.flatten(), y=sigma_x.flatten(), _range=(0, 1e4, 0, 2.0), alpha=0.1)"
   ]
  },
  {
   "cell_type": "code",
   "execution_count": null,
   "metadata": {},
   "outputs": [],
   "source": [
    "# THEORY: The low-cut part of the filter is modifying the peak width so dramaically\n",
    "# that we are losing the realationshiup between peak width and amp.\n",
    "\n",
    "# IDEA 1: Do the focal peak fits on the PRE-FILTERED data... \n",
    "#  This lets us then inform possible adjustments\n",
    "\n",
    "# Builds maps: mean_peak_width -> rad? amp post filter? \n",
    "\n",
    "# Examine relationship between radiometry and sigma\n",
    "cy_i = 6\n",
    "sigma_x = run.sigproc_v2.fitmat()[:, 0, cy_i, 1]\n",
    "sigma_y = run.sigproc_v2.fitmat()[:, 0, cy_i, 2]\n",
    "fit_amp = run.sigproc_v2.fitmat()[:, 0, cy_i, 0]\n",
    "rad = run.sigproc_v2.sig()[:, 0, cy_i]\n",
    "\n",
    "with z(_cols=2):\n",
    "    z.scat(x=rad.flatten(), y=fit_amp.flatten(), _range=(0, 1e4, 0, 1e4), alpha=0.1)\n",
    "    z.scat(x=rad.flatten(), y=sigma_x.flatten(), _range=(0, 1e4, 0, 2.0), alpha=0.1)"
   ]
  },
  {
   "cell_type": "markdown",
   "metadata": {},
   "source": [
    "# Estimate zero gain model"
   ]
  },
  {
   "cell_type": "code",
   "execution_count": null,
   "metadata": {},
   "outputs": [],
   "source": [
    "def hist_peak(sig, bins):\n",
    "    \"\"\"\n",
    "    Fit a curve to a historgram to get an estimate of the center of the dominant peak\n",
    "    using a savgol_filter.\n",
    "    See https://stackoverflow.com/a/20642478\n",
    "    \"\"\"\n",
    "    from scipy.signal import savgol_filter\n",
    "    _hist, _edges = np.histogram(sig, bins=bins)\n",
    "    filt = savgol_filter((_edges[1:], _hist), 101, 3)\n",
    "    x = filt[0]\n",
    "    y = filt[1]\n",
    "    return x[np.argmax(y)], np.max(_hist), y"
   ]
  },
  {
   "cell_type": "code",
   "execution_count": null,
   "metadata": {
    "scrolled": false
   },
   "outputs": [],
   "source": [
    "# Estimate zero gain by examining the histogram near zero\n",
    "filt_sig = sig[sig != 0]\n",
    "bins = np.linspace(-2000, 8000, 1000)\n",
    "zero_beta, top, smooth = hist_peak(filt_sig, bins)\n",
    "\n",
    "# Assume that the samples to the left of this peak are un-contaminated\n",
    "# by signal -- so we can take these, flip the around, and compute\n",
    "# a standard deviation to get zero_sigma\n",
    "left = filt_sig[filt_sig < zero_beta]\n",
    "left = np.concatenate((left, 2*zero_beta-left))\n",
    "zero_sigma = np.std(left)\n",
    "\n",
    "# PLOT the results\n",
    "with z(_merge=True):\n",
    "    z.hist(filt_sig, _bins=bins, f_x_axis_label=\"inten\", f_title=f\"field uncorrected\", _size=500)\n",
    "    z.line(x=bins[1:], y=smooth, color=\"orange\")\n",
    "    z.line(x=[zero_beta, zero_beta], y=[0, top], color=\"red\")\n",
    "    z.line(x=[zero_beta-zero_sigma, zero_beta-zero_sigma], y=[0, top], color=\"green\")\n",
    "    z.line(x=[zero_beta+zero_sigma, zero_beta+zero_sigma], y=[0, top], color=\"green\")"
   ]
  },
  {
   "cell_type": "markdown",
   "metadata": {},
   "source": [
    "# Estimate beta and sigma"
   ]
  },
  {
   "cell_type": "code",
   "execution_count": null,
   "metadata": {},
   "outputs": [],
   "source": [
    "dark = zero_beta + 7 * zero_sigma\n",
    "debug(dark)\n",
    "\n",
    "# Balance every row by masking out the dark elements\n",
    "# and removing \"one-hit wonders\" and \"remainders\" as those\n",
    "# are both likely to be contamination\n",
    "filt_sig = sig.copy()\n",
    "filt_sig = filt_sig[(filt_sig[:, 1] > dark) & (filt_sig[:, -1] < dark)]\n",
    "filt_sig[filt_sig < dark] = np.nan\n",
    "filt_sig = filt_sig[np.any(~np.isnan(filt_sig), axis=1)]\n",
    "\n",
    "row_means = np.nanmean(filt_sig, axis=1)\n",
    "row_means = row_means / np.mean(row_means)\n",
    "balanced = filt_sig / row_means[:, None]\n",
    "\n",
    "stack_im = np.hstack((filt_sig, balanced))\n",
    "\n",
    "balanced = balanced[~np.isnan(balanced)]\n",
    "log_bal = np.log(balanced)\n",
    "bins = np.linspace(7, 11, 1000)\n",
    "beta, sigma = norm.fit(log_bal)\n",
    "beta = np.exp(beta)\n",
    "\n",
    "with z(_cols=2):\n",
    "    z.im_clus(np.nan_to_num(stack_im))\n",
    "    model_samples = lognorm.rvs(scale=beta, s=sigma, size=len(balanced))\n",
    "    with z(_merge=True, _bins=(0, 20_000, 1000), alpha=0.3):\n",
    "        z.hist(balanced, color=\"blue\")\n",
    "        z.hist(model_samples, color=\"red\")\n",
    "\n",
    "print(f\"\"\"\n",
    "    dark      = {dark:>9.3f}\n",
    "    zero_beta = {zero_beta:>9.3f}\n",
    "    zero_sigma= {zero_sigma:>9.3f}\n",
    "    beta      = {beta:>9.3f}\n",
    "    sigma     = {sigma:>9.3f}\n",
    "\"\"\")"
   ]
  },
  {
   "cell_type": "code",
   "execution_count": null,
   "metadata": {},
   "outputs": [],
   "source": []
  }
 ],
 "metadata": {
  "kernelspec": {
   "display_name": "Python 3",
   "language": "python",
   "name": "python3"
  },
  "language_info": {
   "codemirror_mode": {
    "name": "ipython",
    "version": 3
   },
   "file_extension": ".py",
   "mimetype": "text/x-python",
   "name": "python",
   "nbconvert_exporter": "python",
   "pygments_lexer": "ipython3",
   "version": "3.8.5"
  }
 },
 "nbformat": 4,
 "nbformat_minor": 4
}
