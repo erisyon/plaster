{
 "cells": [
  {
   "cell_type": "code",
   "execution_count": null,
   "metadata": {},
   "outputs": [],
   "source": [
    "# @REMOVE-FROM-TEMPLATE\n",
    "from plaster.tools.ipynb_helpers.displays import restart_kernel; restart_kernel()"
   ]
  },
  {
   "cell_type": "code",
   "execution_count": null,
   "metadata": {},
   "outputs": [],
   "source": [
    "# @IMPORT-MERGE\n",
    "import os\n",
    "os.environ[\"MPLCONFIGDIR\"] = \"/tmp\"\n",
    "import numpy as np\n",
    "import pandas as pd\n",
    "import itertools\n",
    "import cv2\n",
    "import random\n",
    "from scipy.stats import norm, lognorm\n",
    "from IPython.display import HTML, display\n",
    "from plaster.tools.log.log import error, debug\n",
    "from plaster.run.job import JobResult\n",
    "from plaster.run.run import RunResult\n",
    "from plaster.run.sigproc_v2 import sigproc_v2_worker as worker\n",
    "from plaster.run.sigproc_v2.sigproc_v2_result import df_filter, radmat_from_df_filter, df_to_radmat\n",
    "from plaster.run.sigproc_v2 import fg\n",
    "from plaster.run.plots import plots, plots_dev\n",
    "from plaster.run.plots.plots_sigproc import plot_psfs, circle_locs, sigproc_v2_im, sigproc_v2_movie_from_df, sigproc_v2_im_from_df\n",
    "from plaster.run.plots.plots_sigproc import wizard_xy_df, wizard_scat_df, wizard_raw_images\n",
    "from plaster.run.sigproc_v2.synth import Synth\n",
    "from plaster.tools.image.coord import WH, XY, roi_shift, clip2d\n",
    "from plaster.tools.utils import data\n",
    "from plaster.tools.zplots import zplots\n",
    "from plaster.tools.schema import check\n",
    "from plaster.tools.image import imops\n",
    "from plaster.tools.zap import zap\n",
    "from plaster.tools.utils import utils\n",
    "from plaster.tools.utils import data\n",
    "from plaster.tools.calibration.calibration import Calibration\n",
    "from plaster.tools.ipynb_helpers.displays import hd, movie\n",
    "from plaster.run.base_result import disable_disk_memoize\n",
    "z = zplots.setup()"
   ]
  },
  {
   "cell_type": "code",
   "execution_count": null,
   "metadata": {},
   "outputs": [],
   "source": [
    "# @REMOVE-FROM-TEMPLATE\n",
    "from plumbum import local\n",
    "job = JobResult(\"/erisyon/internal/jobs_folder/new_abbe7_1t\")\n",
    "run = job.runs[0]"
   ]
  },
  {
   "cell_type": "code",
   "execution_count": null,
   "metadata": {},
   "outputs": [],
   "source": [
    "# Cycle Balancing\n",
    "ch_i = 0\n",
    "sig = run.sigproc_v2.sig()[:, ch_i]\n",
    "\n",
    "one_count_mean = 5000.0  # 5000 is a guess based on abbe7_1t\n",
    "_sig = sig - one_count_mean\n",
    "one_count_std = np.percentile(_sig[_sig > 0], 65)  # 65 is a guess based on abbe7_1t\n",
    "\n",
    "bal = fg.cycle_balance_one_channel(sig, one_count_mean, one_count_std)\n",
    "corr_sig = sig * bal\n",
    "\n",
    "with z(_cols=3):\n",
    "    z.im_sort(sig, _cspan=(0, 20_000), f_title=\"No cycle balance\")\n",
    "    z.im_sort(corr_sig, _cspan=(0, 20_000), f_title=\"Cycle balance\")\n",
    "    z.hist(corr_sig, _bins=(-1000, 15000, 1000))\n"
   ]
  },
  {
   "cell_type": "markdown",
   "metadata": {},
   "source": [
    "# Estimate zero gain model"
   ]
  },
  {
   "cell_type": "code",
   "execution_count": null,
   "metadata": {},
   "outputs": [],
   "source": [
    "def hist_peak(sig, bins):\n",
    "    \"\"\"\n",
    "    Fit a curve to a historgram to get an estimate of the center of the dominant peak\n",
    "    using a savgol_filter.\n",
    "    See https://stackoverflow.com/a/20642478\n",
    "    \"\"\"\n",
    "    from scipy.signal import savgol_filter\n",
    "    _hist, _edges = np.histogram(sig, bins=bins)\n",
    "    filt = savgol_filter((_edges[1:], _hist), 101, 3)\n",
    "    x = filt[0]\n",
    "    y = filt[1]\n",
    "\n",
    "    zero_beta = x[np.argmax(y)]\n",
    "    top = np.max(_hist)\n",
    "    smooth = y\n",
    "    \n",
    "    zero_amp = np.max(smooth)\n",
    "\n",
    "    # Assume that the samples to the left of this peak are un-contaminated\n",
    "    # by signal -- so we can use these to get a one-sided std\n",
    "    zero_sigma = data.one_sided_nanstd(sig)\n",
    "    \n",
    "    # Not sure shy but at least on abbe7_1t the zero_sigma estimation by\n",
    "    # the one-sided method slightly off by about 10%\n",
    "    zero_sigma *= 1.1\n",
    "\n",
    "    # Remove the zero-distribution\n",
    "    y = zero_amp * data.gaussian(bins, zero_beta, zero_sigma)\n",
    "    return zero_beta, zero_sigma, top, smooth, y[1:], bins[1:]\n",
    "\n",
    "# Estimate zero gain by examining the histogram near zero\n",
    "bins = np.linspace(-2000, 8000, 1000)\n",
    "zero_beta, zero_sigma, top, smooth, zero_curve, x = hist_peak(corr_sig.flatten(), bins)\n",
    "\n",
    "# PLOT the results\n",
    "with z(_merge=True):\n",
    "    z.hist(corr_sig, _bins=bins, f_x_axis_label=\"inten\", f_title=f\"field uncorrected\")\n",
    "    z.line(x=x, y=smooth, color=\"red\")\n",
    "    z.line(x=[zero_beta, zero_beta], y=[0, top], color=\"red\")\n",
    "    z.line(x=[zero_beta-zero_sigma, zero_beta-zero_sigma], y=[0, top], color=\"green\")\n",
    "    z.line(x=[zero_beta+zero_sigma, zero_beta+zero_sigma], y=[0, top], color=\"green\")\n",
    "    z.line(x=x, y=smooth - zero_curve, color=\"orange\" )\n",
    "    z.line(x=x, y=zero_curve, color=\"orange\" )"
   ]
  },
  {
   "cell_type": "markdown",
   "metadata": {},
   "source": [
    "# Estimate beta and sigma"
   ]
  },
  {
   "cell_type": "code",
   "execution_count": null,
   "metadata": {},
   "outputs": [],
   "source": [
    "dark = zero_beta + 7 * zero_sigma\n",
    "\n",
    "# Balance every row by masking out the dark elements\n",
    "# and removing \"one-hit wonders\" and \"remainders\" as those\n",
    "# are both likely to be contamination\n",
    "filt_sig = corr_sig.copy()\n",
    "filt_sig = filt_sig[(filt_sig[:, 1] > dark) & (filt_sig[:, -1] < dark)]\n",
    "filt_sig[filt_sig < dark] = np.nan\n",
    "filt_sig = filt_sig[np.any(~np.isnan(filt_sig), axis=1)]\n",
    "\n",
    "# Filter any row that varies too much -- this is likely scampers, etc\n",
    "# This make a big difference in abbe5_1t. The lognormal fits way better with this\n",
    "\n",
    "row_std = np.nanstd(filt_sig, axis=1)\n",
    "row_std_thresh = np.percentile(row_std, 50)\n",
    "filt_sig = filt_sig[row_std < row_std_thresh]\n",
    "\n",
    "# TODO: Add a aspect ratio filter\n",
    "\n",
    "row_means = np.nanmean(filt_sig, axis=1)\n",
    "row_means = row_means / np.mean(row_means)\n",
    "balanced = filt_sig / row_means[:, None]\n",
    "\n",
    "stack_im = np.hstack((filt_sig, balanced))\n",
    "\n",
    "balanced = balanced[~np.isnan(balanced)]\n",
    "log_bal = np.log(balanced)\n",
    "bins = np.linspace(7, 11, 1000)\n",
    "beta, sigma = norm.fit(log_bal)\n",
    "beta = np.exp(beta)\n",
    "\n",
    "with z(_cols=2):\n",
    "    z.im_sort(np.nan_to_num(filt_sig))\n",
    "    model_samples = lognorm.rvs(scale=beta, s=sigma, size=len(balanced))\n",
    "    with z(_merge=True, _bins=(0, 10_000, 1000), alpha=0.3):\n",
    "        z.hist(balanced, color=\"blue\")\n",
    "        z.hist(model_samples, color=\"red\")\n",
    "\n",
    "print(f\"\"\"\n",
    "    dark      = {dark:>9.3f}\n",
    "    zero_beta = {zero_beta:>9.3f}\n",
    "    zero_sigma= {zero_sigma:>9.3f}\n",
    "    beta      = {beta:>9.3f}\n",
    "    sigma     = {sigma:>9.3f}\n",
    "\"\"\")"
   ]
  },
  {
   "cell_type": "code",
   "execution_count": null,
   "metadata": {},
   "outputs": [],
   "source": []
  }
 ],
 "metadata": {
  "kernelspec": {
   "display_name": "Python 3",
   "language": "python",
   "name": "python3"
  },
  "language_info": {
   "codemirror_mode": {
    "name": "ipython",
    "version": 3
   },
   "file_extension": ".py",
   "mimetype": "text/x-python",
   "name": "python",
   "nbconvert_exporter": "python",
   "pygments_lexer": "ipython3",
   "version": "3.8.5"
  }
 },
 "nbformat": 4,
 "nbformat_minor": 4
}
