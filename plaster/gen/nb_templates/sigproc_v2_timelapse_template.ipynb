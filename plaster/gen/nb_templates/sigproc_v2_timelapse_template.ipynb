{
 "cells": [
  {
   "cell_type": "markdown",
   "metadata": {},
   "source": [
    "# Timelapse 1-count analysis\n",
    "## Used for estimating gain_model"
   ]
  },
  {
   "cell_type": "code",
   "execution_count": null,
   "metadata": {},
   "outputs": [],
   "source": [
    "# @REMOVE-FROM-TEMPLATE\n",
    "from plaster.tools.ipynb_helpers.displays import restart_kernel; restart_kernel()"
   ]
  },
  {
   "cell_type": "code",
   "execution_count": null,
   "metadata": {},
   "outputs": [],
   "source": [
    "# Uncomment this to easily reset\n",
    "# from plaster.tools.ipynb_helpers.displays import restart_kernel; restart_kernel()"
   ]
  },
  {
   "cell_type": "code",
   "execution_count": null,
   "metadata": {},
   "outputs": [],
   "source": [
    "import os\n",
    "os.environ[\"MPLCONFIGDIR\"] = \"/tmp\""
   ]
  },
  {
   "cell_type": "code",
   "execution_count": null,
   "metadata": {},
   "outputs": [],
   "source": [
    "# @IMPORT-MERGE\n",
    "import numpy as np\n",
    "import pandas as pd\n",
    "import itertools\n",
    "import cv2\n",
    "import random\n",
    "from IPython.display import HTML, display\n",
    "from plaster.tools.log.log import error, debug\n",
    "from plaster.run.job import JobResult\n",
    "from plaster.run.run import RunResult\n",
    "from plaster.run.sigproc_v2 import sigproc_v2_worker as worker\n",
    "from plaster.run.sigproc_v2.sigproc_v2_result import df_filter, radmat_from_df_filter, df_to_radmat\n",
    "from plaster.run.plots import plots, plots_dev\n",
    "from plaster.run.plots.plots_sigproc import plot_psfs, circle_locs, sigproc_v2_im, sigproc_v2_movie_from_df, sigproc_v2_im_from_df\n",
    "from plaster.run.plots.plots_sigproc import wizard_xy_df, wizard_scat_df, wizard_raw_images\n",
    "from plaster.run.sigproc_v2.synth import Synth\n",
    "from plaster.tools.image.coord import WH, XY, roi_shift, clip2d\n",
    "from plaster.tools.utils import data\n",
    "from plaster.tools.zplots import zplots\n",
    "from plaster.tools.schema import check\n",
    "from plaster.tools.image import imops\n",
    "from plaster.tools.zap import zap\n",
    "from plaster.tools.utils import utils\n",
    "from plaster.tools.utils import data\n",
    "from plaster.tools.calibration.calibration import Calibration\n",
    "from plaster.tools.ipynb_helpers.displays import hd, movie\n",
    "z = zplots.setup()"
   ]
  },
  {
   "cell_type": "code",
   "execution_count": null,
   "metadata": {},
   "outputs": [],
   "source": [
    "# @REMOVE-FROM-TEMPLATE\n",
    "from plumbum import local\n",
    "job = JobResult(\"/erisyon/internal/jobs_folder/abbe6_1t\")\n",
    "run = job.runs[0]"
   ]
  },
  {
   "cell_type": "code",
   "execution_count": null,
   "metadata": {},
   "outputs": [],
   "source": [
    "n_channels = run.sigproc_v2.n_channels\n",
    "n_cycles = run.sigproc_v2.n_cycles\n",
    "# dyemat = run.nn_v2._dyemat\n",
    "# dyepeps = run.nn_v2._dyepeps\n",
    "# calls_df = run.nn_v2.calls(\"sigproc\")\n",
    "sigproc_df = run.sigproc_v2.fields__n_peaks__peaks__radmat()\n",
    "assert n_channels == 1\n",
    "sig = radmat_from_df_filter(sigproc_df, channel_i=0)\n",
    "\n",
    "# HACK\n",
    "sig = sig[:, 0:25]    \n",
    "    \n",
    "z.im_clus(sig, _cspan=(-1000, 20000))"
   ]
  },
  {
   "cell_type": "markdown",
   "metadata": {},
   "source": [
    "# Estimate zero gain model"
   ]
  },
  {
   "cell_type": "code",
   "execution_count": null,
   "metadata": {},
   "outputs": [],
   "source": [
    "# Estimate zero gain by examining the histogram near zero\n",
    "bins = np.linspace(-2000, 4000, 1000)\n",
    "_hist, _edges = np.histogram(sig, bins=bins)\n",
    "\n",
    "# Fit a high degree polynomial to the historgram to get a \n",
    "# good estimate of the exact peak\n",
    "p = np.poly1d(np.polyfit(_edges[1:], _hist, 20))\n",
    "zero_beta = bins[np.argmax(p(bins))]\n",
    "\n",
    "# Assume that the samples to the left of this peak are un-contamined\n",
    "# by signal -- so we can take these, flip the around, and compute\n",
    "# a standard deviation to get zero_sigma\n",
    "left = sig[sig < zero_beta]\n",
    "left = np.concatenate((left, 2*zero_beta-left))\n",
    "zero_sigma = np.std(left)\n",
    "\n",
    "# PLOT the results\n",
    "with z(_merge=True):\n",
    "    z.hist(sig, _bins=bins, f_x_axis_label=\"inten\", f_title=f\"field uncorrected\", _size=500)\n",
    "    z.line(x=[zero_beta, zero_beta], y=[0, np.max(_hist)], color=\"red\")\n",
    "    z.line(x=[zero_beta-zero_sigma, zero_beta-zero_sigma], y=[0, np.max(_hist)], color=\"green\")\n",
    "    z.line(x=[zero_beta+zero_sigma, zero_beta+zero_sigma], y=[0, np.max(_hist)], color=\"green\")\n",
    "\n",
    "dark = zero_beta + 4*zero_sigma\n",
    "zero_dark = sig.copy()\n",
    "zero_dark[sig < dark] = 0\n",
    "z.im_clus(zero_dark, _cspan=(0, 40_000), _size=500)"
   ]
  },
  {
   "cell_type": "code",
   "execution_count": null,
   "metadata": {},
   "outputs": [],
   "source": []
  },
  {
   "cell_type": "code",
   "execution_count": null,
   "metadata": {},
   "outputs": [],
   "source": [
    "# Save for debugging\n",
    "# name = \"abbe8\"\n",
    "# np.save(f\"{name}_filt_dyemat\", dyemat)\n",
    "# np.save(f\"{name}_filt_radmat.npy\", filt_radmat)\n",
    "# filt_cal_df.to_pickle(f\"{name}_filt_calls_df.pkl\")\n",
    "# filt_sig_df.to_pickle(f\"{name}_filt_sigproc_df.pkl\")"
   ]
  },
  {
   "cell_type": "code",
   "execution_count": null,
   "metadata": {},
   "outputs": [],
   "source": []
  }
 ],
 "metadata": {
  "kernelspec": {
   "display_name": "Python 3",
   "language": "python",
   "name": "python3"
  },
  "language_info": {
   "codemirror_mode": {
    "name": "ipython",
    "version": 3
   },
   "file_extension": ".py",
   "mimetype": "text/x-python",
   "name": "python",
   "nbconvert_exporter": "python",
   "pygments_lexer": "ipython3",
   "version": "3.8.5"
  }
 },
 "nbformat": 4,
 "nbformat_minor": 4
}
